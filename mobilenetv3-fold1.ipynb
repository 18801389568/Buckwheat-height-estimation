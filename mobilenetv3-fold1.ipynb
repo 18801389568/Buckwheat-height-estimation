{
 "cells": [
  {
   "cell_type": "code",
   "execution_count": 1,
   "metadata": {},
   "outputs": [],
   "source": [
    "import tensorflow as tf\n",
    "from tensorflow import keras\n",
    "import matplotlib.pyplot as plt\n",
    "%matplotlib inline\n",
    "import numpy as np\n",
    "import pathlib\n",
    "import random\n",
    "import glob\n",
    "import os\n",
    "from tensorflow.compat.v1 import ConfigProto\n",
    "from tensorflow.compat.v1 import InteractiveSession\n",
    "from tensorflow.keras.applications import MobileNetV3Small\n",
    "import time\n",
    "keras = tf.keras\n",
    "layers = tf.keras.layers\n",
    "config = ConfigProto()\n",
    "config.gpu_options.allow_growth = True\n",
    "session = InteractiveSession(config=config)"
   ]
  },
  {
   "cell_type": "code",
   "execution_count": 2,
   "metadata": {},
   "outputs": [],
   "source": [
    "def load_and_preprocess_image(path):\n",
    "    image = tf.io.read_file(path)\n",
    "    image = tf.image.decode_jpeg(image, channels=3)\n",
    "    image = tf.image.resize(image, [224, 224])\n",
    "    image = tf.cast(image, tf.float32)\n",
    "    image = image/255.0  # normalize to [0,1] range\n",
    "    image = 2*image-1\n",
    "    return image"
   ]
  },
  {
   "cell_type": "code",
   "execution_count": 3,
   "metadata": {},
   "outputs": [],
   "source": [
    "train_dir = r'C:\\Users\\24306\\Desktop\\datasets\\kfold\\1\\train'\n",
    "test_dir  = r'C:\\Users\\24306\\Desktop\\datasets\\kfold\\1\\test'\n",
    "checkpoint_path = r'C:\\Users\\24306\\Desktop\\mobilenetv3\\1\\mobilenetv3.ckpt'"
   ]
  },
  {
   "cell_type": "markdown",
   "metadata": {},
   "source": [
    "# 处理训练数据"
   ]
  },
  {
   "cell_type": "code",
   "execution_count": 4,
   "metadata": {},
   "outputs": [
    {
     "name": "stdout",
     "output_type": "stream",
     "text": [
      "18926\n"
     ]
    }
   ],
   "source": [
    "#打乱顺序\n",
    "train_root = pathlib.Path(train_dir)\n",
    "train_image_paths = list(train_root.glob('*/*'))\n",
    "train_image_paths = [str(path) for path in train_image_paths]\n",
    "random.shuffle(train_image_paths)\n",
    "#处理训练标签\n",
    "train_image_labels = [pathlib.Path(path).parent.name for path in train_image_paths]\n",
    "train_labels = [[label.split('_')[0]] for label in train_image_labels]\n",
    "new_train_labels=[]\n",
    "for n in train_labels:\n",
    "    new_train_labels.append(float(n[0]));  \n",
    "train_labels=new_train_labels\n",
    "#print(train_labels)\n",
    "#处理训练图像\n",
    "train_path_ds = tf.data.Dataset.from_tensor_slices(train_image_paths)\n",
    "AUTOTUNE = tf.data.experimental.AUTOTUNE\n",
    "train_image_ds = train_path_ds.map(load_and_preprocess_image, num_parallel_calls=AUTOTUNE)\n",
    "train_label_ds = tf.data.Dataset.from_tensor_slices(train_labels)\n",
    "train_image_label_ds = tf.data.Dataset.zip((train_image_ds, train_label_ds))\n",
    "# image_count = len(all_image_paths)\n",
    "\n",
    "# test_count = int(image_count*0.2)\n",
    "train_count = len(train_image_paths)\n",
    "# train_data = image_label_ds.skip(test_count)\n",
    "# test_data = image_label_ds.take(test_count)\n",
    "\n",
    "BATCH_SIZE = 32\n",
    "train_data = train_image_label_ds.shuffle(buffer_size=train_count).repeat(-1)\n",
    "train_data = train_data.batch(BATCH_SIZE)\n",
    "train_data = train_data.prefetch(buffer_size=AUTOTUNE)\n",
    "\n",
    "#test_data = test_data.batch(BATCH_SIZE)\n",
    "print(len(train_image_label_ds))\n",
    "\n"
   ]
  },
  {
   "cell_type": "markdown",
   "metadata": {},
   "source": [
    "# 处理验证数据"
   ]
  },
  {
   "cell_type": "code",
   "execution_count": 5,
   "metadata": {},
   "outputs": [
    {
     "name": "stdout",
     "output_type": "stream",
     "text": [
      "4738\n"
     ]
    }
   ],
   "source": [
    "#打乱顺序\n",
    "test_root = pathlib.Path(test_dir)\n",
    "test_image_paths = list(test_root.glob('*/*'))\n",
    "test_image_paths = [str(path) for path in test_image_paths]\n",
    "#random.shuffle(train_image_paths)\n",
    "#处理训练标签\n",
    "test_image_labels = [pathlib.Path(path).parent.name for path in test_image_paths]\n",
    "test_labels = [[label.split('_')[0]] for label in test_image_labels]\n",
    "new_test_labels=[]\n",
    "for n in test_labels:\n",
    "    new_test_labels.append(float(n[0]));  \n",
    "test_labels=new_test_labels\n",
    "#print(test_labels)\n",
    "#处理训练图像\n",
    "test_path_ds = tf.data.Dataset.from_tensor_slices(test_image_paths)\n",
    "AUTOTUNE = tf.data.experimental.AUTOTUNE\n",
    "test_image_ds = test_path_ds.map(load_and_preprocess_image, num_parallel_calls=AUTOTUNE)\n",
    "test_label_ds = tf.data.Dataset.from_tensor_slices(test_labels)\n",
    "test_image_label_ds = tf.data.Dataset.zip((test_image_ds, test_label_ds))\n",
    "# image_count = len(all_image_paths)\n",
    "\n",
    "# test_count = int(image_count*0.2)\n",
    "test_count = len(test_image_paths)\n",
    "# train_data = image_label_ds.skip(test_count)\n",
    "# test_data = image_label_ds.take(test_count)\n",
    "\n",
    "BATCH_SIZE = 32\n",
    "test_data = test_image_label_ds.shuffle(buffer_size=test_count).repeat(-1)\n",
    "test_data = test_data.batch(BATCH_SIZE)\n",
    "test_data = test_data.prefetch(buffer_size=AUTOTUNE)\n",
    "\n",
    "#test_data = test_data.batch(BATCH_SIZE)\n",
    "print(len(test_image_label_ds))"
   ]
  },
  {
   "cell_type": "code",
   "execution_count": 6,
   "metadata": {},
   "outputs": [
    {
     "name": "stdout",
     "output_type": "stream",
     "text": [
      "Model: \"model\"\n",
      "_________________________________________________________________\n",
      "Layer (type)                 Output Shape              Param #   \n",
      "=================================================================\n",
      "input_2 (InputLayer)         [(None, 224, 224, 3)]     0         \n",
      "_________________________________________________________________\n",
      "MobilenetV3small (Functional (None, 1, 1, 1024)        1529968   \n",
      "_________________________________________________________________\n",
      "global_average_pooling2d_1 ( (None, 1024)              0         \n",
      "_________________________________________________________________\n",
      "out_weight (Dense)           (None, 1)                 1025      \n",
      "=================================================================\n",
      "Total params: 1,530,993\n",
      "Trainable params: 1,518,881\n",
      "Non-trainable params: 12,112\n",
      "_________________________________________________________________\n"
     ]
    }
   ],
   "source": [
    "MobileNetV3 = MobileNetV3Small(weights='imagenet',include_top=False,input_shape=(224, 224, 3))\n",
    "MobileNetV3.trainable = True\n",
    "inputs = tf.keras.Input(shape=(224, 224, 3))\n",
    "x = MobileNetV3(inputs)\n",
    "x = tf.keras.layers.GlobalAveragePooling2D()(x)\n",
    "out_weight = tf.keras.layers.Dense(1,name='out_weight')(x)\n",
    "\n",
    "model = tf.keras.Model(inputs=inputs,\n",
    "                       outputs=[out_weight])\n",
    "model.summary()"
   ]
  },
  {
   "cell_type": "code",
   "execution_count": 7,
   "metadata": {
    "scrolled": true
   },
   "outputs": [
    {
     "name": "stdout",
     "output_type": "stream",
     "text": [
      "start time: Sat Apr  1 09:33:36 2023\n",
      "Epoch 1/300\n",
      "591/591 [==============================] - 39s 46ms/step - loss: 48.1122 - val_loss: 2812.1550\n",
      "INFO:tensorflow:Assets written to: C:\\Users\\24306\\Desktop\\mobilenetv3\\1\\mobilenetv3.ckpt\\assets\n"
     ]
    },
    {
     "name": "stderr",
     "output_type": "stream",
     "text": [
      "C:\\Users\\24306\\.conda\\envs\\keras\\lib\\site-packages\\keras\\utils\\generic_utils.py:494: CustomMaskWarning: Custom mask layers require a config and must override get_config. When loading, the custom mask layer must be passed to the custom_objects argument.\n",
      "  warnings.warn('Custom mask layers require a config and must override '\n"
     ]
    },
    {
     "name": "stdout",
     "output_type": "stream",
     "text": [
      "Epoch 2/300\n",
      "591/591 [==============================] - 28s 48ms/step - loss: 3.4625 - val_loss: 2936.5781\n",
      "Epoch 3/300\n",
      "591/591 [==============================] - 29s 49ms/step - loss: 1.9288 - val_loss: 2900.3015\n",
      "Epoch 4/300\n",
      "591/591 [==============================] - 28s 48ms/step - loss: 1.4012 - val_loss: 2296.6138\n",
      "INFO:tensorflow:Assets written to: C:\\Users\\24306\\Desktop\\mobilenetv3\\1\\mobilenetv3.ckpt\\assets\n"
     ]
    },
    {
     "name": "stderr",
     "output_type": "stream",
     "text": [
      "C:\\Users\\24306\\.conda\\envs\\keras\\lib\\site-packages\\keras\\utils\\generic_utils.py:494: CustomMaskWarning: Custom mask layers require a config and must override get_config. When loading, the custom mask layer must be passed to the custom_objects argument.\n",
      "  warnings.warn('Custom mask layers require a config and must override '\n"
     ]
    },
    {
     "name": "stdout",
     "output_type": "stream",
     "text": [
      "Epoch 5/300\n",
      "591/591 [==============================] - 31s 52ms/step - loss: 1.1355 - val_loss: 1967.8051\n",
      "INFO:tensorflow:Assets written to: C:\\Users\\24306\\Desktop\\mobilenetv3\\1\\mobilenetv3.ckpt\\assets\n"
     ]
    },
    {
     "name": "stderr",
     "output_type": "stream",
     "text": [
      "C:\\Users\\24306\\.conda\\envs\\keras\\lib\\site-packages\\keras\\utils\\generic_utils.py:494: CustomMaskWarning: Custom mask layers require a config and must override get_config. When loading, the custom mask layer must be passed to the custom_objects argument.\n",
      "  warnings.warn('Custom mask layers require a config and must override '\n"
     ]
    },
    {
     "name": "stdout",
     "output_type": "stream",
     "text": [
      "Epoch 6/300\n",
      "591/591 [==============================] - 32s 54ms/step - loss: 0.9293 - val_loss: 1540.0327\n",
      "INFO:tensorflow:Assets written to: C:\\Users\\24306\\Desktop\\mobilenetv3\\1\\mobilenetv3.ckpt\\assets\n"
     ]
    },
    {
     "name": "stderr",
     "output_type": "stream",
     "text": [
      "C:\\Users\\24306\\.conda\\envs\\keras\\lib\\site-packages\\keras\\utils\\generic_utils.py:494: CustomMaskWarning: Custom mask layers require a config and must override get_config. When loading, the custom mask layer must be passed to the custom_objects argument.\n",
      "  warnings.warn('Custom mask layers require a config and must override '\n"
     ]
    },
    {
     "name": "stdout",
     "output_type": "stream",
     "text": [
      "Epoch 7/300\n",
      "591/591 [==============================] - 33s 56ms/step - loss: 0.8740 - val_loss: 1144.3400\n",
      "INFO:tensorflow:Assets written to: C:\\Users\\24306\\Desktop\\mobilenetv3\\1\\mobilenetv3.ckpt\\assets\n"
     ]
    },
    {
     "name": "stderr",
     "output_type": "stream",
     "text": [
      "C:\\Users\\24306\\.conda\\envs\\keras\\lib\\site-packages\\keras\\utils\\generic_utils.py:494: CustomMaskWarning: Custom mask layers require a config and must override get_config. When loading, the custom mask layer must be passed to the custom_objects argument.\n",
      "  warnings.warn('Custom mask layers require a config and must override '\n"
     ]
    },
    {
     "name": "stdout",
     "output_type": "stream",
     "text": [
      "Epoch 8/300\n",
      "591/591 [==============================] - 33s 55ms/step - loss: 0.7353 - val_loss: 783.0539\n",
      "INFO:tensorflow:Assets written to: C:\\Users\\24306\\Desktop\\mobilenetv3\\1\\mobilenetv3.ckpt\\assets\n"
     ]
    },
    {
     "name": "stderr",
     "output_type": "stream",
     "text": [
      "C:\\Users\\24306\\.conda\\envs\\keras\\lib\\site-packages\\keras\\utils\\generic_utils.py:494: CustomMaskWarning: Custom mask layers require a config and must override get_config. When loading, the custom mask layer must be passed to the custom_objects argument.\n",
      "  warnings.warn('Custom mask layers require a config and must override '\n"
     ]
    },
    {
     "name": "stdout",
     "output_type": "stream",
     "text": [
      "Epoch 9/300\n",
      "591/591 [==============================] - 33s 56ms/step - loss: 0.6939 - val_loss: 517.1330\n",
      "INFO:tensorflow:Assets written to: C:\\Users\\24306\\Desktop\\mobilenetv3\\1\\mobilenetv3.ckpt\\assets\n"
     ]
    },
    {
     "name": "stderr",
     "output_type": "stream",
     "text": [
      "C:\\Users\\24306\\.conda\\envs\\keras\\lib\\site-packages\\keras\\utils\\generic_utils.py:494: CustomMaskWarning: Custom mask layers require a config and must override get_config. When loading, the custom mask layer must be passed to the custom_objects argument.\n",
      "  warnings.warn('Custom mask layers require a config and must override '\n"
     ]
    },
    {
     "name": "stdout",
     "output_type": "stream",
     "text": [
      "Epoch 10/300\n",
      "591/591 [==============================] - 34s 57ms/step - loss: 0.6317 - val_loss: 423.7623\n",
      "INFO:tensorflow:Assets written to: C:\\Users\\24306\\Desktop\\mobilenetv3\\1\\mobilenetv3.ckpt\\assets\n"
     ]
    },
    {
     "name": "stderr",
     "output_type": "stream",
     "text": [
      "C:\\Users\\24306\\.conda\\envs\\keras\\lib\\site-packages\\keras\\utils\\generic_utils.py:494: CustomMaskWarning: Custom mask layers require a config and must override get_config. When loading, the custom mask layer must be passed to the custom_objects argument.\n",
      "  warnings.warn('Custom mask layers require a config and must override '\n"
     ]
    },
    {
     "name": "stdout",
     "output_type": "stream",
     "text": [
      "Epoch 11/300\n",
      "591/591 [==============================] - 33s 56ms/step - loss: 0.5817 - val_loss: 172.1650\n",
      "INFO:tensorflow:Assets written to: C:\\Users\\24306\\Desktop\\mobilenetv3\\1\\mobilenetv3.ckpt\\assets\n"
     ]
    },
    {
     "name": "stderr",
     "output_type": "stream",
     "text": [
      "C:\\Users\\24306\\.conda\\envs\\keras\\lib\\site-packages\\keras\\utils\\generic_utils.py:494: CustomMaskWarning: Custom mask layers require a config and must override get_config. When loading, the custom mask layer must be passed to the custom_objects argument.\n",
      "  warnings.warn('Custom mask layers require a config and must override '\n"
     ]
    },
    {
     "name": "stdout",
     "output_type": "stream",
     "text": [
      "Epoch 12/300\n",
      "591/591 [==============================] - 34s 58ms/step - loss: 0.5539 - val_loss: 94.8240\n",
      "INFO:tensorflow:Assets written to: C:\\Users\\24306\\Desktop\\mobilenetv3\\1\\mobilenetv3.ckpt\\assets\n"
     ]
    },
    {
     "name": "stderr",
     "output_type": "stream",
     "text": [
      "C:\\Users\\24306\\.conda\\envs\\keras\\lib\\site-packages\\keras\\utils\\generic_utils.py:494: CustomMaskWarning: Custom mask layers require a config and must override get_config. When loading, the custom mask layer must be passed to the custom_objects argument.\n",
      "  warnings.warn('Custom mask layers require a config and must override '\n"
     ]
    },
    {
     "name": "stdout",
     "output_type": "stream",
     "text": [
      "Epoch 13/300\n",
      "591/591 [==============================] - 34s 57ms/step - loss: 0.5296 - val_loss: 28.1389\n",
      "INFO:tensorflow:Assets written to: C:\\Users\\24306\\Desktop\\mobilenetv3\\1\\mobilenetv3.ckpt\\assets\n"
     ]
    },
    {
     "name": "stderr",
     "output_type": "stream",
     "text": [
      "C:\\Users\\24306\\.conda\\envs\\keras\\lib\\site-packages\\keras\\utils\\generic_utils.py:494: CustomMaskWarning: Custom mask layers require a config and must override get_config. When loading, the custom mask layer must be passed to the custom_objects argument.\n",
      "  warnings.warn('Custom mask layers require a config and must override '\n"
     ]
    },
    {
     "name": "stdout",
     "output_type": "stream",
     "text": [
      "Epoch 14/300\n",
      "591/591 [==============================] - 35s 58ms/step - loss: 0.5263 - val_loss: 25.9205\n",
      "INFO:tensorflow:Assets written to: C:\\Users\\24306\\Desktop\\mobilenetv3\\1\\mobilenetv3.ckpt\\assets\n"
     ]
    },
    {
     "name": "stderr",
     "output_type": "stream",
     "text": [
      "C:\\Users\\24306\\.conda\\envs\\keras\\lib\\site-packages\\keras\\utils\\generic_utils.py:494: CustomMaskWarning: Custom mask layers require a config and must override get_config. When loading, the custom mask layer must be passed to the custom_objects argument.\n",
      "  warnings.warn('Custom mask layers require a config and must override '\n"
     ]
    },
    {
     "name": "stdout",
     "output_type": "stream",
     "text": [
      "Epoch 15/300\n",
      "591/591 [==============================] - 34s 57ms/step - loss: 0.4872 - val_loss: 17.0047\n",
      "INFO:tensorflow:Assets written to: C:\\Users\\24306\\Desktop\\mobilenetv3\\1\\mobilenetv3.ckpt\\assets\n"
     ]
    },
    {
     "name": "stderr",
     "output_type": "stream",
     "text": [
      "C:\\Users\\24306\\.conda\\envs\\keras\\lib\\site-packages\\keras\\utils\\generic_utils.py:494: CustomMaskWarning: Custom mask layers require a config and must override get_config. When loading, the custom mask layer must be passed to the custom_objects argument.\n",
      "  warnings.warn('Custom mask layers require a config and must override '\n"
     ]
    },
    {
     "name": "stdout",
     "output_type": "stream",
     "text": [
      "Epoch 16/300\n",
      "591/591 [==============================] - 36s 60ms/step - loss: 0.4498 - val_loss: 15.1381\n",
      "INFO:tensorflow:Assets written to: C:\\Users\\24306\\Desktop\\mobilenetv3\\1\\mobilenetv3.ckpt\\assets\n"
     ]
    },
    {
     "name": "stderr",
     "output_type": "stream",
     "text": [
      "C:\\Users\\24306\\.conda\\envs\\keras\\lib\\site-packages\\keras\\utils\\generic_utils.py:494: CustomMaskWarning: Custom mask layers require a config and must override get_config. When loading, the custom mask layer must be passed to the custom_objects argument.\n",
      "  warnings.warn('Custom mask layers require a config and must override '\n"
     ]
    },
    {
     "name": "stdout",
     "output_type": "stream",
     "text": [
      "Epoch 17/300\n",
      "591/591 [==============================] - 36s 60ms/step - loss: 0.4343 - val_loss: 5.8936\n",
      "INFO:tensorflow:Assets written to: C:\\Users\\24306\\Desktop\\mobilenetv3\\1\\mobilenetv3.ckpt\\assets\n"
     ]
    },
    {
     "name": "stderr",
     "output_type": "stream",
     "text": [
      "C:\\Users\\24306\\.conda\\envs\\keras\\lib\\site-packages\\keras\\utils\\generic_utils.py:494: CustomMaskWarning: Custom mask layers require a config and must override get_config. When loading, the custom mask layer must be passed to the custom_objects argument.\n",
      "  warnings.warn('Custom mask layers require a config and must override '\n"
     ]
    },
    {
     "name": "stdout",
     "output_type": "stream",
     "text": [
      "Epoch 18/300\n",
      "591/591 [==============================] - 37s 61ms/step - loss: 0.4315 - val_loss: 10.6848\n",
      "Epoch 19/300\n",
      "591/591 [==============================] - 36s 61ms/step - loss: 0.4556 - val_loss: 10.0183\n",
      "Epoch 20/300\n",
      "591/591 [==============================] - 35s 59ms/step - loss: 0.4287 - val_loss: 2.3538\n",
      "INFO:tensorflow:Assets written to: C:\\Users\\24306\\Desktop\\mobilenetv3\\1\\mobilenetv3.ckpt\\assets\n"
     ]
    },
    {
     "name": "stderr",
     "output_type": "stream",
     "text": [
      "C:\\Users\\24306\\.conda\\envs\\keras\\lib\\site-packages\\keras\\utils\\generic_utils.py:494: CustomMaskWarning: Custom mask layers require a config and must override get_config. When loading, the custom mask layer must be passed to the custom_objects argument.\n",
      "  warnings.warn('Custom mask layers require a config and must override '\n"
     ]
    },
    {
     "name": "stdout",
     "output_type": "stream",
     "text": [
      "Epoch 21/300\n",
      "591/591 [==============================] - 36s 61ms/step - loss: 0.4265 - val_loss: 4.0516\n",
      "Epoch 22/300\n",
      "591/591 [==============================] - 36s 60ms/step - loss: 0.3976 - val_loss: 3.8641\n",
      "Epoch 23/300\n",
      "591/591 [==============================] - 36s 60ms/step - loss: 0.4428 - val_loss: 2.7473\n",
      "Epoch 24/300\n",
      "591/591 [==============================] - 35s 60ms/step - loss: 0.4100 - val_loss: 2.3590\n",
      "Epoch 25/300\n",
      "591/591 [==============================] - 35s 60ms/step - loss: 0.3875 - val_loss: 3.0920\n",
      "Epoch 26/300\n",
      "591/591 [==============================] - 35s 59ms/step - loss: 0.3761 - val_loss: 1.5438\n",
      "INFO:tensorflow:Assets written to: C:\\Users\\24306\\Desktop\\mobilenetv3\\1\\mobilenetv3.ckpt\\assets\n"
     ]
    },
    {
     "name": "stderr",
     "output_type": "stream",
     "text": [
      "C:\\Users\\24306\\.conda\\envs\\keras\\lib\\site-packages\\keras\\utils\\generic_utils.py:494: CustomMaskWarning: Custom mask layers require a config and must override get_config. When loading, the custom mask layer must be passed to the custom_objects argument.\n",
      "  warnings.warn('Custom mask layers require a config and must override '\n"
     ]
    },
    {
     "name": "stdout",
     "output_type": "stream",
     "text": [
      "Epoch 27/300\n",
      "591/591 [==============================] - 37s 63ms/step - loss: 0.3420 - val_loss: 2.0606\n",
      "Epoch 28/300\n",
      "591/591 [==============================] - 36s 61ms/step - loss: 0.3493 - val_loss: 4.5763\n",
      "Epoch 29/300\n",
      "591/591 [==============================] - 36s 61ms/step - loss: 0.3643 - val_loss: 2.3507\n",
      "Epoch 30/300\n",
      "591/591 [==============================] - 36s 61ms/step - loss: 0.3618 - val_loss: 0.7954\n",
      "INFO:tensorflow:Assets written to: C:\\Users\\24306\\Desktop\\mobilenetv3\\1\\mobilenetv3.ckpt\\assets\n"
     ]
    },
    {
     "name": "stderr",
     "output_type": "stream",
     "text": [
      "C:\\Users\\24306\\.conda\\envs\\keras\\lib\\site-packages\\keras\\utils\\generic_utils.py:494: CustomMaskWarning: Custom mask layers require a config and must override get_config. When loading, the custom mask layer must be passed to the custom_objects argument.\n",
      "  warnings.warn('Custom mask layers require a config and must override '\n"
     ]
    },
    {
     "name": "stdout",
     "output_type": "stream",
     "text": [
      "Epoch 31/300\n",
      "591/591 [==============================] - 37s 63ms/step - loss: 0.3522 - val_loss: 1.5781\n",
      "Epoch 32/300\n",
      "591/591 [==============================] - 37s 62ms/step - loss: 0.3451 - val_loss: 1.3858\n",
      "Epoch 33/300\n",
      "591/591 [==============================] - 37s 62ms/step - loss: 0.3290 - val_loss: 0.5003\n",
      "INFO:tensorflow:Assets written to: C:\\Users\\24306\\Desktop\\mobilenetv3\\1\\mobilenetv3.ckpt\\assets\n"
     ]
    },
    {
     "name": "stderr",
     "output_type": "stream",
     "text": [
      "C:\\Users\\24306\\.conda\\envs\\keras\\lib\\site-packages\\keras\\utils\\generic_utils.py:494: CustomMaskWarning: Custom mask layers require a config and must override get_config. When loading, the custom mask layer must be passed to the custom_objects argument.\n",
      "  warnings.warn('Custom mask layers require a config and must override '\n"
     ]
    },
    {
     "name": "stdout",
     "output_type": "stream",
     "text": [
      "Epoch 34/300\n",
      "591/591 [==============================] - 38s 63ms/step - loss: 0.3393 - val_loss: 1.4652\n",
      "Epoch 35/300\n",
      "591/591 [==============================] - 37s 63ms/step - loss: 0.3008 - val_loss: 0.6124\n",
      "Epoch 36/300\n",
      "591/591 [==============================] - 37s 63ms/step - loss: 0.3059 - val_loss: 0.4660\n",
      "INFO:tensorflow:Assets written to: C:\\Users\\24306\\Desktop\\mobilenetv3\\1\\mobilenetv3.ckpt\\assets\n"
     ]
    },
    {
     "name": "stderr",
     "output_type": "stream",
     "text": [
      "C:\\Users\\24306\\.conda\\envs\\keras\\lib\\site-packages\\keras\\utils\\generic_utils.py:494: CustomMaskWarning: Custom mask layers require a config and must override get_config. When loading, the custom mask layer must be passed to the custom_objects argument.\n",
      "  warnings.warn('Custom mask layers require a config and must override '\n"
     ]
    },
    {
     "name": "stdout",
     "output_type": "stream",
     "text": [
      "Epoch 37/300\n",
      "591/591 [==============================] - 38s 64ms/step - loss: 0.3137 - val_loss: 0.7050\n",
      "Epoch 38/300\n",
      "591/591 [==============================] - 38s 65ms/step - loss: 0.3259 - val_loss: 0.7274\n",
      "Epoch 39/300\n",
      "591/591 [==============================] - 38s 64ms/step - loss: 0.3160 - val_loss: 0.7250\n",
      "Epoch 40/300\n",
      "591/591 [==============================] - 37s 63ms/step - loss: 0.2842 - val_loss: 1.4409\n",
      "Epoch 41/300\n",
      "591/591 [==============================] - 37s 63ms/step - loss: 0.3078 - val_loss: 0.4895\n",
      "Epoch 42/300\n",
      "591/591 [==============================] - 38s 64ms/step - loss: 0.3202 - val_loss: 0.8868\n",
      "Epoch 43/300\n",
      "591/591 [==============================] - 38s 64ms/step - loss: 0.2806 - val_loss: 0.7273\n",
      "Epoch 44/300\n",
      "591/591 [==============================] - 38s 64ms/step - loss: 0.3350 - val_loss: 1.3610\n",
      "Epoch 45/300\n",
      "591/591 [==============================] - 38s 64ms/step - loss: 0.2783 - val_loss: 1.0757\n",
      "Epoch 46/300\n",
      "591/591 [==============================] - 38s 64ms/step - loss: 0.2915 - val_loss: 0.5063\n",
      "Epoch 47/300\n",
      "591/591 [==============================] - 38s 64ms/step - loss: 0.2964 - val_loss: 0.3261\n",
      "INFO:tensorflow:Assets written to: C:\\Users\\24306\\Desktop\\mobilenetv3\\1\\mobilenetv3.ckpt\\assets\n"
     ]
    },
    {
     "name": "stderr",
     "output_type": "stream",
     "text": [
      "C:\\Users\\24306\\.conda\\envs\\keras\\lib\\site-packages\\keras\\utils\\generic_utils.py:494: CustomMaskWarning: Custom mask layers require a config and must override get_config. When loading, the custom mask layer must be passed to the custom_objects argument.\n",
      "  warnings.warn('Custom mask layers require a config and must override '\n"
     ]
    },
    {
     "name": "stdout",
     "output_type": "stream",
     "text": [
      "Epoch 48/300\n",
      "591/591 [==============================] - 39s 66ms/step - loss: 0.2937 - val_loss: 0.4051\n",
      "Epoch 49/300\n",
      "591/591 [==============================] - 39s 67ms/step - loss: 0.3068 - val_loss: 0.4699\n",
      "Epoch 50/300\n",
      "591/591 [==============================] - 39s 66ms/step - loss: 0.3634 - val_loss: 0.4678\n",
      "Epoch 51/300\n",
      "591/591 [==============================] - 39s 67ms/step - loss: 0.2655 - val_loss: 0.5211\n",
      "Epoch 52/300\n",
      "591/591 [==============================] - 39s 66ms/step - loss: 0.2833 - val_loss: 0.8036\n",
      "Epoch 53/300\n",
      "591/591 [==============================] - 39s 66ms/step - loss: 0.2590 - val_loss: 0.6961\n",
      "Epoch 54/300\n",
      "591/591 [==============================] - 40s 67ms/step - loss: 0.2609 - val_loss: 0.6721\n",
      "Epoch 55/300\n",
      "591/591 [==============================] - 39s 67ms/step - loss: 0.2746 - val_loss: 0.7818\n",
      "Epoch 56/300\n",
      "591/591 [==============================] - 40s 67ms/step - loss: 0.2879 - val_loss: 0.8807\n",
      "Epoch 57/300\n",
      "591/591 [==============================] - 39s 67ms/step - loss: 0.2710 - val_loss: 0.5676\n",
      "Epoch 58/300\n",
      "591/591 [==============================] - 39s 66ms/step - loss: 0.2710 - val_loss: 0.6307\n",
      "Epoch 59/300\n",
      "591/591 [==============================] - 40s 67ms/step - loss: 0.2726 - val_loss: 0.4377\n",
      "Epoch 60/300\n",
      "591/591 [==============================] - 40s 67ms/step - loss: 0.2716 - val_loss: 0.4593\n",
      "Epoch 61/300\n",
      "591/591 [==============================] - 40s 68ms/step - loss: 0.2748 - val_loss: 0.4696\n",
      "Epoch 62/300\n",
      "591/591 [==============================] - 40s 68ms/step - loss: 0.2452 - val_loss: 0.6241\n",
      "Epoch 63/300\n",
      "591/591 [==============================] - 40s 68ms/step - loss: 0.2713 - val_loss: 0.6298\n",
      "Epoch 64/300\n",
      "591/591 [==============================] - 40s 67ms/step - loss: 0.2458 - val_loss: 0.3855\n",
      "Epoch 65/300\n",
      "591/591 [==============================] - 40s 67ms/step - loss: 0.2654 - val_loss: 0.3373\n",
      "Epoch 66/300\n",
      "591/591 [==============================] - 40s 67ms/step - loss: 0.2567 - val_loss: 0.6720\n",
      "Epoch 67/300\n",
      "591/591 [==============================] - 39s 66ms/step - loss: 0.2552 - val_loss: 0.7543\n",
      "Epoch 68/300\n",
      "591/591 [==============================] - 40s 67ms/step - loss: 0.2666 - val_loss: 0.5174\n",
      "Epoch 69/300\n",
      "591/591 [==============================] - 40s 67ms/step - loss: 0.2392 - val_loss: 0.5413\n",
      "Epoch 70/300\n",
      "591/591 [==============================] - 40s 68ms/step - loss: 0.2436 - val_loss: 0.4517\n",
      "Epoch 71/300\n",
      "591/591 [==============================] - 40s 67ms/step - loss: 0.2764 - val_loss: 0.4370\n",
      "Epoch 72/300\n",
      "591/591 [==============================] - 40s 68ms/step - loss: 0.2546 - val_loss: 0.4509\n",
      "Epoch 73/300\n",
      "591/591 [==============================] - 40s 68ms/step - loss: 0.2989 - val_loss: 0.5252\n",
      "Epoch 74/300\n",
      "591/591 [==============================] - 40s 68ms/step - loss: 0.2470 - val_loss: 0.2750\n",
      "INFO:tensorflow:Assets written to: C:\\Users\\24306\\Desktop\\mobilenetv3\\1\\mobilenetv3.ckpt\\assets\n"
     ]
    },
    {
     "name": "stderr",
     "output_type": "stream",
     "text": [
      "C:\\Users\\24306\\.conda\\envs\\keras\\lib\\site-packages\\keras\\utils\\generic_utils.py:494: CustomMaskWarning: Custom mask layers require a config and must override get_config. When loading, the custom mask layer must be passed to the custom_objects argument.\n",
      "  warnings.warn('Custom mask layers require a config and must override '\n"
     ]
    },
    {
     "name": "stdout",
     "output_type": "stream",
     "text": [
      "Epoch 75/300\n",
      "591/591 [==============================] - 42s 71ms/step - loss: 0.2338 - val_loss: 0.3302\n",
      "Epoch 76/300\n",
      "591/591 [==============================] - 42s 72ms/step - loss: 0.2286 - val_loss: 0.2761\n",
      "Epoch 77/300\n",
      "591/591 [==============================] - 42s 72ms/step - loss: 0.2402 - val_loss: 0.2222\n",
      "INFO:tensorflow:Assets written to: C:\\Users\\24306\\Desktop\\mobilenetv3\\1\\mobilenetv3.ckpt\\assets\n"
     ]
    },
    {
     "name": "stderr",
     "output_type": "stream",
     "text": [
      "C:\\Users\\24306\\.conda\\envs\\keras\\lib\\site-packages\\keras\\utils\\generic_utils.py:494: CustomMaskWarning: Custom mask layers require a config and must override get_config. When loading, the custom mask layer must be passed to the custom_objects argument.\n",
      "  warnings.warn('Custom mask layers require a config and must override '\n"
     ]
    },
    {
     "name": "stdout",
     "output_type": "stream",
     "text": [
      "Epoch 78/300\n",
      "591/591 [==============================] - 43s 72ms/step - loss: 0.2281 - val_loss: 0.2045\n",
      "INFO:tensorflow:Assets written to: C:\\Users\\24306\\Desktop\\mobilenetv3\\1\\mobilenetv3.ckpt\\assets\n"
     ]
    },
    {
     "name": "stderr",
     "output_type": "stream",
     "text": [
      "C:\\Users\\24306\\.conda\\envs\\keras\\lib\\site-packages\\keras\\utils\\generic_utils.py:494: CustomMaskWarning: Custom mask layers require a config and must override get_config. When loading, the custom mask layer must be passed to the custom_objects argument.\n",
      "  warnings.warn('Custom mask layers require a config and must override '\n"
     ]
    },
    {
     "name": "stdout",
     "output_type": "stream",
     "text": [
      "Epoch 79/300\n",
      "591/591 [==============================] - 44s 74ms/step - loss: 0.2804 - val_loss: 0.2451\n",
      "Epoch 80/300\n",
      "591/591 [==============================] - 43s 72ms/step - loss: 0.2416 - val_loss: 0.4630\n",
      "Epoch 81/300\n",
      "591/591 [==============================] - 43s 72ms/step - loss: 0.2257 - val_loss: 0.3491\n",
      "Epoch 82/300\n",
      "591/591 [==============================] - 43s 73ms/step - loss: 0.2189 - val_loss: 0.4267\n",
      "Epoch 83/300\n",
      "591/591 [==============================] - 42s 72ms/step - loss: 0.8053 - val_loss: 0.2815\n",
      "Epoch 84/300\n",
      "591/591 [==============================] - 43s 73ms/step - loss: 0.2213 - val_loss: 0.2728\n",
      "Epoch 85/300\n",
      "591/591 [==============================] - 44s 74ms/step - loss: 0.2488 - val_loss: 0.4255\n",
      "Epoch 86/300\n",
      "591/591 [==============================] - 43s 74ms/step - loss: 0.2371 - val_loss: 0.2807\n",
      "Epoch 87/300\n",
      "591/591 [==============================] - 43s 73ms/step - loss: 0.2544 - val_loss: 0.2924\n",
      "Epoch 88/300\n",
      "591/591 [==============================] - 43s 73ms/step - loss: 0.2420 - val_loss: 0.3323\n",
      "Epoch 89/300\n",
      "591/591 [==============================] - 44s 75ms/step - loss: 0.2306 - val_loss: 0.2773\n",
      "Epoch 90/300\n",
      "591/591 [==============================] - 43s 73ms/step - loss: 0.2474 - val_loss: 0.1953\n",
      "INFO:tensorflow:Assets written to: C:\\Users\\24306\\Desktop\\mobilenetv3\\1\\mobilenetv3.ckpt\\assets\n"
     ]
    },
    {
     "name": "stderr",
     "output_type": "stream",
     "text": [
      "C:\\Users\\24306\\.conda\\envs\\keras\\lib\\site-packages\\keras\\utils\\generic_utils.py:494: CustomMaskWarning: Custom mask layers require a config and must override get_config. When loading, the custom mask layer must be passed to the custom_objects argument.\n",
      "  warnings.warn('Custom mask layers require a config and must override '\n"
     ]
    },
    {
     "name": "stdout",
     "output_type": "stream",
     "text": [
      "Epoch 91/300\n",
      "591/591 [==============================] - 46s 77ms/step - loss: 0.2374 - val_loss: 0.1798\n",
      "INFO:tensorflow:Assets written to: C:\\Users\\24306\\Desktop\\mobilenetv3\\1\\mobilenetv3.ckpt\\assets\n"
     ]
    },
    {
     "name": "stderr",
     "output_type": "stream",
     "text": [
      "C:\\Users\\24306\\.conda\\envs\\keras\\lib\\site-packages\\keras\\utils\\generic_utils.py:494: CustomMaskWarning: Custom mask layers require a config and must override get_config. When loading, the custom mask layer must be passed to the custom_objects argument.\n",
      "  warnings.warn('Custom mask layers require a config and must override '\n"
     ]
    },
    {
     "name": "stdout",
     "output_type": "stream",
     "text": [
      "Epoch 92/300\n",
      "591/591 [==============================] - 45s 76ms/step - loss: 0.2247 - val_loss: 0.1700\n",
      "INFO:tensorflow:Assets written to: C:\\Users\\24306\\Desktop\\mobilenetv3\\1\\mobilenetv3.ckpt\\assets\n"
     ]
    },
    {
     "name": "stderr",
     "output_type": "stream",
     "text": [
      "C:\\Users\\24306\\.conda\\envs\\keras\\lib\\site-packages\\keras\\utils\\generic_utils.py:494: CustomMaskWarning: Custom mask layers require a config and must override get_config. When loading, the custom mask layer must be passed to the custom_objects argument.\n",
      "  warnings.warn('Custom mask layers require a config and must override '\n"
     ]
    },
    {
     "name": "stdout",
     "output_type": "stream",
     "text": [
      "Epoch 93/300\n",
      "591/591 [==============================] - 46s 78ms/step - loss: 0.2317 - val_loss: 0.2185\n",
      "Epoch 94/300\n",
      "591/591 [==============================] - 47s 79ms/step - loss: 0.2560 - val_loss: 0.1997\n",
      "Epoch 95/300\n",
      "591/591 [==============================] - 46s 78ms/step - loss: 0.2204 - val_loss: 0.4355\n",
      "Epoch 96/300\n",
      "591/591 [==============================] - 46s 78ms/step - loss: 0.3012 - val_loss: 0.3170\n",
      "Epoch 97/300\n",
      "591/591 [==============================] - 45s 76ms/step - loss: 0.2395 - val_loss: 0.2177\n",
      "Epoch 98/300\n",
      "591/591 [==============================] - 46s 78ms/step - loss: 0.2355 - val_loss: 0.2127\n",
      "Epoch 99/300\n",
      "591/591 [==============================] - 46s 78ms/step - loss: 0.2070 - val_loss: 0.2091\n",
      "Epoch 100/300\n",
      "591/591 [==============================] - 47s 79ms/step - loss: 0.2292 - val_loss: 0.1769\n",
      "Epoch 101/300\n",
      "591/591 [==============================] - 47s 79ms/step - loss: 0.2214 - val_loss: 0.3202\n",
      "Epoch 102/300\n",
      "591/591 [==============================] - 46s 78ms/step - loss: 0.2150 - val_loss: 0.3183\n",
      "Epoch 103/300\n",
      "591/591 [==============================] - 46s 78ms/step - loss: 0.2106 - val_loss: 0.2651\n",
      "Epoch 104/300\n",
      "591/591 [==============================] - 46s 78ms/step - loss: 0.2206 - val_loss: 0.2445\n",
      "Epoch 105/300\n",
      "591/591 [==============================] - 46s 77ms/step - loss: 0.2224 - val_loss: 0.2888\n",
      "Epoch 106/300\n",
      "591/591 [==============================] - 46s 78ms/step - loss: 0.2134 - val_loss: 0.1593\n",
      "INFO:tensorflow:Assets written to: C:\\Users\\24306\\Desktop\\mobilenetv3\\1\\mobilenetv3.ckpt\\assets\n"
     ]
    },
    {
     "name": "stderr",
     "output_type": "stream",
     "text": [
      "C:\\Users\\24306\\.conda\\envs\\keras\\lib\\site-packages\\keras\\utils\\generic_utils.py:494: CustomMaskWarning: Custom mask layers require a config and must override get_config. When loading, the custom mask layer must be passed to the custom_objects argument.\n",
      "  warnings.warn('Custom mask layers require a config and must override '\n"
     ]
    },
    {
     "name": "stdout",
     "output_type": "stream",
     "text": [
      "Epoch 107/300\n",
      "591/591 [==============================] - 47s 80ms/step - loss: 0.2247 - val_loss: 0.2406\n",
      "Epoch 108/300\n",
      "591/591 [==============================] - 47s 80ms/step - loss: 0.2038 - val_loss: 0.3135\n",
      "Epoch 109/300\n",
      "591/591 [==============================] - 47s 80ms/step - loss: 0.2137 - val_loss: 0.2642\n",
      "Epoch 110/300\n",
      "591/591 [==============================] - 47s 80ms/step - loss: 0.2036 - val_loss: 0.3207\n",
      "Epoch 111/300\n",
      "591/591 [==============================] - 47s 80ms/step - loss: 0.2102 - val_loss: 0.2750\n",
      "Epoch 112/300\n",
      "591/591 [==============================] - 47s 80ms/step - loss: 0.2198 - val_loss: 0.1662\n",
      "Epoch 113/300\n",
      "591/591 [==============================] - 48s 81ms/step - loss: 0.2266 - val_loss: 0.2150\n",
      "Epoch 114/300\n",
      "591/591 [==============================] - 48s 81ms/step - loss: 0.2094 - val_loss: 0.1430\n",
      "INFO:tensorflow:Assets written to: C:\\Users\\24306\\Desktop\\mobilenetv3\\1\\mobilenetv3.ckpt\\assets\n"
     ]
    },
    {
     "name": "stderr",
     "output_type": "stream",
     "text": [
      "C:\\Users\\24306\\.conda\\envs\\keras\\lib\\site-packages\\keras\\utils\\generic_utils.py:494: CustomMaskWarning: Custom mask layers require a config and must override get_config. When loading, the custom mask layer must be passed to the custom_objects argument.\n",
      "  warnings.warn('Custom mask layers require a config and must override '\n"
     ]
    },
    {
     "name": "stdout",
     "output_type": "stream",
     "text": [
      "Epoch 115/300\n",
      "591/591 [==============================] - 51s 86ms/step - loss: 0.2203 - val_loss: 0.1676\n",
      "Epoch 116/300\n",
      "591/591 [==============================] - 51s 87ms/step - loss: 0.2123 - val_loss: 0.3106\n",
      "Epoch 117/300\n",
      "591/591 [==============================] - 52s 88ms/step - loss: 0.1953 - val_loss: 0.2588\n",
      "Epoch 118/300\n",
      "591/591 [==============================] - 50s 84ms/step - loss: 0.2120 - val_loss: 0.3265\n",
      "Epoch 119/300\n",
      "591/591 [==============================] - 50s 85ms/step - loss: 0.2479 - val_loss: 0.1920\n",
      "Epoch 120/300\n",
      "591/591 [==============================] - 50s 85ms/step - loss: 0.2238 - val_loss: 0.1784\n",
      "Epoch 121/300\n",
      "591/591 [==============================] - 50s 85ms/step - loss: 0.2148 - val_loss: 0.1487\n",
      "Epoch 122/300\n",
      "591/591 [==============================] - 50s 85ms/step - loss: 0.2096 - val_loss: 0.2331\n",
      "Epoch 123/300\n",
      "591/591 [==============================] - 50s 85ms/step - loss: 0.2090 - val_loss: 0.1808\n",
      "Epoch 124/300\n",
      "591/591 [==============================] - 51s 86ms/step - loss: 0.2056 - val_loss: 0.1489\n",
      "Epoch 125/300\n",
      "591/591 [==============================] - 50s 85ms/step - loss: 0.2351 - val_loss: 0.1754\n",
      "Epoch 126/300\n",
      "591/591 [==============================] - 51s 86ms/step - loss: 0.2425 - val_loss: 0.1476\n",
      "Epoch 127/300\n",
      "591/591 [==============================] - 51s 86ms/step - loss: 0.2055 - val_loss: 0.1825\n",
      "Epoch 128/300\n",
      "591/591 [==============================] - 51s 86ms/step - loss: 0.1931 - val_loss: 0.1702\n",
      "Epoch 129/300\n",
      "591/591 [==============================] - 51s 86ms/step - loss: 0.2028 - val_loss: 0.1741\n",
      "Epoch 130/300\n",
      "591/591 [==============================] - 51s 87ms/step - loss: 0.2024 - val_loss: 0.1579\n",
      "Epoch 131/300\n",
      "591/591 [==============================] - 51s 87ms/step - loss: 0.2312 - val_loss: 0.1351\n",
      "INFO:tensorflow:Assets written to: C:\\Users\\24306\\Desktop\\mobilenetv3\\1\\mobilenetv3.ckpt\\assets\n"
     ]
    },
    {
     "name": "stderr",
     "output_type": "stream",
     "text": [
      "C:\\Users\\24306\\.conda\\envs\\keras\\lib\\site-packages\\keras\\utils\\generic_utils.py:494: CustomMaskWarning: Custom mask layers require a config and must override get_config. When loading, the custom mask layer must be passed to the custom_objects argument.\n",
      "  warnings.warn('Custom mask layers require a config and must override '\n"
     ]
    },
    {
     "name": "stdout",
     "output_type": "stream",
     "text": [
      "Epoch 132/300\n",
      "591/591 [==============================] - 55s 92ms/step - loss: 0.1947 - val_loss: 0.1646\n",
      "Epoch 133/300\n",
      "591/591 [==============================] - 53s 90ms/step - loss: 0.1939 - val_loss: 0.1771\n",
      "Epoch 134/300\n",
      "591/591 [==============================] - 53s 90ms/step - loss: 0.2062 - val_loss: 0.1560\n",
      "Epoch 135/300\n",
      "591/591 [==============================] - 53s 90ms/step - loss: 0.2015 - val_loss: 0.2358\n",
      "Epoch 136/300\n",
      "591/591 [==============================] - 54s 92ms/step - loss: 0.2600 - val_loss: 0.2114\n",
      "Epoch 137/300\n",
      "591/591 [==============================] - 54s 91ms/step - loss: 0.1931 - val_loss: 0.2110\n",
      "Epoch 138/300\n",
      "591/591 [==============================] - 53s 89ms/step - loss: 0.2036 - val_loss: 0.3008\n",
      "Epoch 139/300\n",
      "591/591 [==============================] - 55s 93ms/step - loss: 0.1910 - val_loss: 0.1885\n",
      "Epoch 140/300\n",
      "591/591 [==============================] - 55s 93ms/step - loss: 0.1980 - val_loss: 0.2210\n",
      "Epoch 141/300\n",
      "591/591 [==============================] - 55s 94ms/step - loss: 0.2000 - val_loss: 0.2554\n",
      "Epoch 142/300\n",
      "591/591 [==============================] - 54s 92ms/step - loss: 0.1973 - val_loss: 0.1815\n",
      "Epoch 143/300\n",
      "591/591 [==============================] - 55s 93ms/step - loss: 0.1965 - val_loss: 0.1598\n",
      "Epoch 144/300\n",
      "591/591 [==============================] - 55s 92ms/step - loss: 0.1981 - val_loss: 0.1505\n",
      "Epoch 145/300\n",
      "591/591 [==============================] - 53s 90ms/step - loss: 0.2210 - val_loss: 0.2027\n",
      "Epoch 146/300\n",
      "591/591 [==============================] - 53s 90ms/step - loss: 0.2041 - val_loss: 0.2352\n",
      "Epoch 147/300\n",
      "591/591 [==============================] - 53s 90ms/step - loss: 0.1913 - val_loss: 0.1968\n",
      "Epoch 148/300\n",
      "591/591 [==============================] - 53s 90ms/step - loss: 0.1913 - val_loss: 0.1661\n",
      "Epoch 149/300\n",
      "591/591 [==============================] - 54s 91ms/step - loss: 0.1880 - val_loss: 0.2200\n",
      "Epoch 150/300\n",
      "591/591 [==============================] - 54s 91ms/step - loss: 0.2310 - val_loss: 0.1896\n",
      "Epoch 151/300\n",
      "591/591 [==============================] - 54s 91ms/step - loss: 0.1917 - val_loss: 0.2703\n",
      "Epoch 152/300\n",
      "591/591 [==============================] - 54s 91ms/step - loss: 0.1925 - val_loss: 0.2008\n",
      "Epoch 153/300\n",
      "591/591 [==============================] - 54s 91ms/step - loss: 0.1835 - val_loss: 0.1530\n",
      "Epoch 154/300\n",
      "591/591 [==============================] - 54s 91ms/step - loss: 0.2141 - val_loss: 0.3349\n",
      "Epoch 155/300\n",
      "591/591 [==============================] - 54s 91ms/step - loss: 0.2020 - val_loss: 0.2374\n",
      "Epoch 156/300\n",
      "591/591 [==============================] - 54s 92ms/step - loss: 0.1901 - val_loss: 0.1426\n",
      "Epoch 157/300\n",
      "591/591 [==============================] - 54s 92ms/step - loss: 0.1959 - val_loss: 0.1243\n",
      "INFO:tensorflow:Assets written to: C:\\Users\\24306\\Desktop\\mobilenetv3\\1\\mobilenetv3.ckpt\\assets\n"
     ]
    },
    {
     "name": "stderr",
     "output_type": "stream",
     "text": [
      "C:\\Users\\24306\\.conda\\envs\\keras\\lib\\site-packages\\keras\\utils\\generic_utils.py:494: CustomMaskWarning: Custom mask layers require a config and must override get_config. When loading, the custom mask layer must be passed to the custom_objects argument.\n",
      "  warnings.warn('Custom mask layers require a config and must override '\n"
     ]
    },
    {
     "name": "stdout",
     "output_type": "stream",
     "text": [
      "Epoch 158/300\n",
      "591/591 [==============================] - 55s 93ms/step - loss: 0.2055 - val_loss: 0.2025\n",
      "Epoch 159/300\n",
      "591/591 [==============================] - 56s 95ms/step - loss: 0.1910 - val_loss: 0.2172\n",
      "Epoch 160/300\n",
      "591/591 [==============================] - 56s 94ms/step - loss: 0.1910 - val_loss: 0.1844\n",
      "Epoch 161/300\n",
      "591/591 [==============================] - 56s 94ms/step - loss: 0.1933 - val_loss: 0.1261\n",
      "Epoch 162/300\n",
      "591/591 [==============================] - 55s 93ms/step - loss: 0.1865 - val_loss: 0.1344\n",
      "Epoch 163/300\n",
      "591/591 [==============================] - 57s 97ms/step - loss: 0.1895 - val_loss: 0.1930\n",
      "Epoch 164/300\n",
      "591/591 [==============================] - 54s 92ms/step - loss: 0.1995 - val_loss: 0.1479\n",
      "Epoch 165/300\n",
      "591/591 [==============================] - 57s 96ms/step - loss: 0.2005 - val_loss: 0.1610\n",
      "Epoch 166/300\n",
      "591/591 [==============================] - 56s 95ms/step - loss: 0.2227 - val_loss: 0.1766\n",
      "Epoch 167/300\n",
      "591/591 [==============================] - 57s 96ms/step - loss: 0.1905 - val_loss: 0.1466\n",
      "Epoch 168/300\n",
      "591/591 [==============================] - 57s 97ms/step - loss: 0.1866 - val_loss: 0.1378\n",
      "Epoch 169/300\n",
      "591/591 [==============================] - 55s 93ms/step - loss: 0.1759 - val_loss: 0.1791\n",
      "Epoch 170/300\n",
      "591/591 [==============================] - 56s 95ms/step - loss: 0.1952 - val_loss: 0.1646\n",
      "Epoch 171/300\n",
      "591/591 [==============================] - 58s 97ms/step - loss: 0.1865 - val_loss: 0.2365\n",
      "Epoch 172/300\n",
      "591/591 [==============================] - 57s 96ms/step - loss: 0.1895 - val_loss: 0.1664\n",
      "Epoch 173/300\n",
      "591/591 [==============================] - 56s 95ms/step - loss: 0.1874 - val_loss: 0.1670\n",
      "Epoch 174/300\n",
      "591/591 [==============================] - 56s 94ms/step - loss: 0.1833 - val_loss: 0.1356\n",
      "Epoch 175/300\n",
      "591/591 [==============================] - 57s 96ms/step - loss: 0.1991 - val_loss: 0.1764\n",
      "Epoch 176/300\n",
      "591/591 [==============================] - 58s 97ms/step - loss: 0.2065 - val_loss: 0.1446\n",
      "Epoch 177/300\n",
      "591/591 [==============================] - 57s 97ms/step - loss: 0.1765 - val_loss: 0.1665\n",
      "Epoch 178/300\n",
      "591/591 [==============================] - 57s 97ms/step - loss: 0.2002 - val_loss: 0.1396\n",
      "Epoch 179/300\n",
      "591/591 [==============================] - 56s 95ms/step - loss: 0.1884 - val_loss: 0.1433\n",
      "Epoch 180/300\n",
      "591/591 [==============================] - 56s 95ms/step - loss: 0.1932 - val_loss: 0.1954\n",
      "Epoch 181/300\n",
      "591/591 [==============================] - 57s 96ms/step - loss: 0.1827 - val_loss: 0.2397\n",
      "Epoch 182/300\n",
      "591/591 [==============================] - 58s 98ms/step - loss: 0.1908 - val_loss: 0.2088\n",
      "Epoch 183/300\n",
      "591/591 [==============================] - 56s 94ms/step - loss: 0.1799 - val_loss: 0.1532\n",
      "Epoch 184/300\n",
      "591/591 [==============================] - 58s 98ms/step - loss: 0.1745 - val_loss: 0.1704\n",
      "Epoch 185/300\n",
      "591/591 [==============================] - 56s 95ms/step - loss: 0.1739 - val_loss: 0.2299\n",
      "Epoch 186/300\n",
      "591/591 [==============================] - 56s 94ms/step - loss: 0.1713 - val_loss: 0.2141\n",
      "Epoch 187/300\n",
      "591/591 [==============================] - 56s 94ms/step - loss: 0.1727 - val_loss: 0.2271\n",
      "Epoch 188/300\n",
      "591/591 [==============================] - 56s 94ms/step - loss: 0.1777 - val_loss: 0.1933\n",
      "Epoch 189/300\n",
      "591/591 [==============================] - 56s 94ms/step - loss: 0.1867 - val_loss: 0.1598\n",
      "Epoch 190/300\n",
      "591/591 [==============================] - 56s 95ms/step - loss: 0.1823 - val_loss: 0.1330\n",
      "Epoch 191/300\n",
      "591/591 [==============================] - 56s 94ms/step - loss: 0.1818 - val_loss: 0.1654\n",
      "Epoch 192/300\n",
      "591/591 [==============================] - 56s 95ms/step - loss: 0.2003 - val_loss: 0.1874\n",
      "Epoch 193/300\n",
      "591/591 [==============================] - 56s 95ms/step - loss: 0.2047 - val_loss: 0.1664\n",
      "Epoch 194/300\n",
      "591/591 [==============================] - 57s 97ms/step - loss: 0.1783 - val_loss: 0.2010\n",
      "Epoch 195/300\n",
      "591/591 [==============================] - 56s 95ms/step - loss: 0.1858 - val_loss: 0.1959\n",
      "Epoch 196/300\n",
      "591/591 [==============================] - 56s 95ms/step - loss: 0.1675 - val_loss: 0.1659\n",
      "Epoch 197/300\n",
      "591/591 [==============================] - 56s 95ms/step - loss: 0.1812 - val_loss: 0.1555\n",
      "Epoch 198/300\n",
      "591/591 [==============================] - 57s 96ms/step - loss: 0.1896 - val_loss: 0.1297\n",
      "Epoch 199/300\n",
      "591/591 [==============================] - 57s 96ms/step - loss: 0.1767 - val_loss: 0.1520\n",
      "Epoch 200/300\n",
      "591/591 [==============================] - 57s 96ms/step - loss: 0.1783 - val_loss: 0.1954\n",
      "Epoch 201/300\n",
      "591/591 [==============================] - 59s 99ms/step - loss: 0.4506 - val_loss: 0.1361\n",
      "Epoch 202/300\n",
      "591/591 [==============================] - 56s 95ms/step - loss: 0.1714 - val_loss: 0.1207\n",
      "INFO:tensorflow:Assets written to: C:\\Users\\24306\\Desktop\\mobilenetv3\\1\\mobilenetv3.ckpt\\assets\n"
     ]
    },
    {
     "name": "stderr",
     "output_type": "stream",
     "text": [
      "C:\\Users\\24306\\.conda\\envs\\keras\\lib\\site-packages\\keras\\utils\\generic_utils.py:494: CustomMaskWarning: Custom mask layers require a config and must override get_config. When loading, the custom mask layer must be passed to the custom_objects argument.\n",
      "  warnings.warn('Custom mask layers require a config and must override '\n"
     ]
    },
    {
     "name": "stdout",
     "output_type": "stream",
     "text": [
      "Epoch 203/300\n",
      "591/591 [==============================] - 57s 97ms/step - loss: 0.1917 - val_loss: 0.1468\n",
      "Epoch 204/300\n",
      "591/591 [==============================] - 57s 97ms/step - loss: 0.2139 - val_loss: 0.1382\n",
      "Epoch 205/300\n",
      "591/591 [==============================] - 57s 97ms/step - loss: 0.2444 - val_loss: 0.1557\n",
      "Epoch 206/300\n",
      "591/591 [==============================] - 57s 97ms/step - loss: 0.1795 - val_loss: 0.1367\n",
      "Epoch 207/300\n",
      "591/591 [==============================] - 57s 97ms/step - loss: 0.1769 - val_loss: 0.1921\n",
      "Epoch 208/300\n",
      "591/591 [==============================] - 57s 96ms/step - loss: 0.1731 - val_loss: 0.1609\n",
      "Epoch 209/300\n",
      "591/591 [==============================] - 57s 97ms/step - loss: 0.1795 - val_loss: 0.2210\n",
      "Epoch 210/300\n",
      "591/591 [==============================] - 57s 97ms/step - loss: 0.2007 - val_loss: 0.2135\n",
      "Epoch 211/300\n",
      "591/591 [==============================] - 58s 98ms/step - loss: 0.1719 - val_loss: 0.1461\n",
      "Epoch 212/300\n",
      "591/591 [==============================] - 57s 97ms/step - loss: 0.1905 - val_loss: 0.1950\n",
      "Epoch 213/300\n",
      "591/591 [==============================] - 57s 97ms/step - loss: 0.1697 - val_loss: 0.1763\n",
      "Epoch 214/300\n",
      "591/591 [==============================] - 57s 97ms/step - loss: 0.1746 - val_loss: 0.1587\n",
      "Epoch 215/300\n",
      "591/591 [==============================] - 57s 97ms/step - loss: 0.1767 - val_loss: 0.1361\n",
      "Epoch 216/300\n",
      "591/591 [==============================] - 58s 98ms/step - loss: 0.1665 - val_loss: 0.1352\n",
      "Epoch 217/300\n",
      "591/591 [==============================] - 58s 97ms/step - loss: 0.1674 - val_loss: 0.1289\n",
      "Epoch 218/300\n",
      "591/591 [==============================] - 58s 98ms/step - loss: 0.1807 - val_loss: 0.1890\n",
      "Epoch 219/300\n",
      "591/591 [==============================] - 58s 98ms/step - loss: 0.1680 - val_loss: 0.1397\n",
      "Epoch 220/300\n",
      "591/591 [==============================] - 58s 98ms/step - loss: 0.1785 - val_loss: 0.1806\n",
      "Epoch 221/300\n",
      "591/591 [==============================] - 58s 98ms/step - loss: 0.1733 - val_loss: 0.1498\n",
      "Epoch 222/300\n",
      "591/591 [==============================] - 58s 98ms/step - loss: 0.1704 - val_loss: 0.1738\n",
      "Epoch 223/300\n",
      "591/591 [==============================] - 58s 98ms/step - loss: 0.1795 - val_loss: 0.2202\n",
      "Epoch 224/300\n",
      "591/591 [==============================] - 59s 99ms/step - loss: 0.1700 - val_loss: 0.1811\n",
      "Epoch 225/300\n",
      "591/591 [==============================] - 59s 100ms/step - loss: 0.1653 - val_loss: 0.1583\n",
      "Epoch 226/300\n",
      "591/591 [==============================] - 58s 98ms/step - loss: 0.1760 - val_loss: 0.1406\n",
      "Epoch 227/300\n",
      "591/591 [==============================] - 58s 98ms/step - loss: 0.1756 - val_loss: 0.1318\n",
      "Epoch 228/300\n",
      "591/591 [==============================] - 58s 98ms/step - loss: 0.1628 - val_loss: 0.1527\n",
      "Epoch 229/300\n",
      "591/591 [==============================] - 59s 99ms/step - loss: 0.1677 - val_loss: 0.1425\n",
      "Epoch 230/300\n",
      "591/591 [==============================] - 59s 99ms/step - loss: 0.1823 - val_loss: 0.1658\n",
      "Epoch 231/300\n",
      "591/591 [==============================] - 59s 99ms/step - loss: 0.1810 - val_loss: 0.1420\n",
      "Epoch 232/300\n",
      "591/591 [==============================] - 59s 99ms/step - loss: 0.1702 - val_loss: 0.1278\n",
      "Epoch 233/300\n",
      "591/591 [==============================] - 59s 99ms/step - loss: 0.2262 - val_loss: 0.1225\n",
      "Epoch 234/300\n",
      "591/591 [==============================] - 58s 98ms/step - loss: 0.1745 - val_loss: 0.1174\n",
      "INFO:tensorflow:Assets written to: C:\\Users\\24306\\Desktop\\mobilenetv3\\1\\mobilenetv3.ckpt\\assets\n"
     ]
    },
    {
     "name": "stderr",
     "output_type": "stream",
     "text": [
      "C:\\Users\\24306\\.conda\\envs\\keras\\lib\\site-packages\\keras\\utils\\generic_utils.py:494: CustomMaskWarning: Custom mask layers require a config and must override get_config. When loading, the custom mask layer must be passed to the custom_objects argument.\n",
      "  warnings.warn('Custom mask layers require a config and must override '\n"
     ]
    },
    {
     "name": "stdout",
     "output_type": "stream",
     "text": [
      "Epoch 235/300\n",
      "591/591 [==============================] - 60s 101ms/step - loss: 0.1727 - val_loss: 0.1366\n",
      "Epoch 236/300\n",
      "591/591 [==============================] - 59s 100ms/step - loss: 0.1717 - val_loss: 0.1666\n",
      "Epoch 237/300\n",
      "591/591 [==============================] - 59s 100ms/step - loss: 0.1778 - val_loss: 0.1622\n",
      "Epoch 238/300\n",
      "591/591 [==============================] - 60s 102ms/step - loss: 0.1679 - val_loss: 0.1548\n",
      "Epoch 239/300\n",
      "591/591 [==============================] - 60s 102ms/step - loss: 0.1986 - val_loss: 0.1470\n",
      "Epoch 240/300\n",
      "591/591 [==============================] - 61s 103ms/step - loss: 0.1681 - val_loss: 0.1376\n",
      "Epoch 241/300\n",
      "591/591 [==============================] - 62s 105ms/step - loss: 0.1784 - val_loss: 0.1364\n",
      "Epoch 242/300\n",
      "591/591 [==============================] - 59s 100ms/step - loss: 0.1964 - val_loss: 0.1229\n",
      "Epoch 243/300\n",
      "591/591 [==============================] - 60s 101ms/step - loss: 0.1639 - val_loss: 0.1193\n",
      "Epoch 244/300\n",
      "591/591 [==============================] - 61s 102ms/step - loss: 0.1675 - val_loss: 0.1376\n",
      "Epoch 245/300\n",
      "591/591 [==============================] - 62s 105ms/step - loss: 0.1676 - val_loss: 0.1531\n",
      "Epoch 246/300\n",
      "591/591 [==============================] - 60s 102ms/step - loss: 0.1708 - val_loss: 0.1269\n",
      "Epoch 247/300\n",
      "591/591 [==============================] - 63s 107ms/step - loss: 0.1640 - val_loss: 0.1273\n",
      "Epoch 248/300\n",
      "591/591 [==============================] - 59s 100ms/step - loss: 0.1657 - val_loss: 0.1634\n",
      "Epoch 249/300\n",
      "591/591 [==============================] - 60s 101ms/step - loss: 0.1674 - val_loss: 0.1810\n",
      "Epoch 250/300\n",
      "591/591 [==============================] - 60s 101ms/step - loss: 0.1615 - val_loss: 0.1357\n",
      "Epoch 251/300\n",
      "591/591 [==============================] - 60s 101ms/step - loss: 0.1668 - val_loss: 0.1299\n",
      "Epoch 252/300\n",
      "591/591 [==============================] - 59s 100ms/step - loss: 0.1732 - val_loss: 0.1786\n",
      "Epoch 253/300\n",
      "591/591 [==============================] - 60s 101ms/step - loss: 0.1668 - val_loss: 0.1992\n",
      "Epoch 254/300\n",
      "591/591 [==============================] - 60s 101ms/step - loss: 0.1702 - val_loss: 0.1562\n",
      "Epoch 255/300\n",
      "591/591 [==============================] - 60s 102ms/step - loss: 0.1668 - val_loss: 0.1496\n",
      "Epoch 256/300\n",
      "591/591 [==============================] - 60s 101ms/step - loss: 0.1627 - val_loss: 0.1515\n",
      "Epoch 257/300\n",
      "591/591 [==============================] - 59s 100ms/step - loss: 0.1659 - val_loss: 0.1344\n",
      "Epoch 258/300\n",
      "591/591 [==============================] - 60s 101ms/step - loss: 0.1622 - val_loss: 0.1333\n",
      "Epoch 259/300\n",
      "591/591 [==============================] - 61s 102ms/step - loss: 0.1822 - val_loss: 0.1372\n",
      "Epoch 260/300\n",
      "591/591 [==============================] - 60s 101ms/step - loss: 0.1695 - val_loss: 0.1452\n",
      "Epoch 261/300\n",
      "591/591 [==============================] - 60s 101ms/step - loss: 0.1791 - val_loss: 0.1557\n",
      "Epoch 262/300\n",
      "591/591 [==============================] - 60s 102ms/step - loss: 0.1713 - val_loss: 0.1902\n",
      "Epoch 263/300\n",
      "591/591 [==============================] - 60s 101ms/step - loss: 0.1772 - val_loss: 0.1691\n",
      "Epoch 264/300\n",
      "591/591 [==============================] - 60s 102ms/step - loss: 0.1686 - val_loss: 0.1246\n",
      "Epoch 265/300\n",
      "591/591 [==============================] - 61s 102ms/step - loss: 0.1722 - val_loss: 0.1585\n",
      "Epoch 266/300\n",
      "591/591 [==============================] - 61s 102ms/step - loss: 0.1674 - val_loss: 0.1813\n",
      "Epoch 267/300\n",
      "591/591 [==============================] - 60s 102ms/step - loss: 0.1779 - val_loss: 0.1499\n",
      "Epoch 268/300\n",
      "591/591 [==============================] - 60s 101ms/step - loss: 0.1593 - val_loss: 0.1454\n",
      "Epoch 269/300\n",
      "591/591 [==============================] - 60s 101ms/step - loss: 0.1600 - val_loss: 0.1622\n",
      "Epoch 270/300\n",
      "591/591 [==============================] - 60s 102ms/step - loss: 0.1774 - val_loss: 0.1283\n",
      "Epoch 271/300\n",
      "591/591 [==============================] - 60s 101ms/step - loss: 0.1741 - val_loss: 0.1386\n",
      "Epoch 272/300\n",
      "591/591 [==============================] - 60s 102ms/step - loss: 0.1778 - val_loss: 0.1359\n",
      "Epoch 273/300\n",
      "591/591 [==============================] - 60s 102ms/step - loss: 0.1917 - val_loss: 0.1279\n",
      "Epoch 274/300\n",
      "591/591 [==============================] - 60s 102ms/step - loss: 0.1650 - val_loss: 0.1380\n",
      "Epoch 275/300\n",
      "591/591 [==============================] - 60s 101ms/step - loss: 0.1823 - val_loss: 0.1238\n",
      "Epoch 276/300\n",
      "591/591 [==============================] - 60s 102ms/step - loss: 0.1606 - val_loss: 0.1213\n",
      "Epoch 277/300\n",
      "591/591 [==============================] - 60s 102ms/step - loss: 0.1645 - val_loss: 0.1230\n",
      "Epoch 278/300\n",
      "591/591 [==============================] - 60s 102ms/step - loss: 0.1663 - val_loss: 0.2378\n",
      "Epoch 279/300\n",
      "591/591 [==============================] - 60s 102ms/step - loss: 0.1717 - val_loss: 0.1456\n",
      "Epoch 280/300\n",
      "591/591 [==============================] - 60s 102ms/step - loss: 0.1670 - val_loss: 0.1318\n",
      "Epoch 281/300\n",
      "591/591 [==============================] - 61s 103ms/step - loss: 0.1676 - val_loss: 0.1236\n",
      "Epoch 282/300\n",
      "591/591 [==============================] - 61s 102ms/step - loss: 0.1572 - val_loss: 0.1151\n",
      "INFO:tensorflow:Assets written to: C:\\Users\\24306\\Desktop\\mobilenetv3\\1\\mobilenetv3.ckpt\\assets\n"
     ]
    },
    {
     "name": "stderr",
     "output_type": "stream",
     "text": [
      "C:\\Users\\24306\\.conda\\envs\\keras\\lib\\site-packages\\keras\\utils\\generic_utils.py:494: CustomMaskWarning: Custom mask layers require a config and must override get_config. When loading, the custom mask layer must be passed to the custom_objects argument.\n",
      "  warnings.warn('Custom mask layers require a config and must override '\n"
     ]
    },
    {
     "name": "stdout",
     "output_type": "stream",
     "text": [
      "Epoch 283/300\n",
      "591/591 [==============================] - 62s 104ms/step - loss: 0.1635 - val_loss: 0.1158\n",
      "Epoch 284/300\n",
      "591/591 [==============================] - 61s 103ms/step - loss: 0.1598 - val_loss: 0.1450\n",
      "Epoch 285/300\n",
      "591/591 [==============================] - 61s 103ms/step - loss: 0.1634 - val_loss: 0.1373\n",
      "Epoch 286/300\n",
      "591/591 [==============================] - 61s 102ms/step - loss: 0.1747 - val_loss: 0.1538\n",
      "Epoch 287/300\n",
      "591/591 [==============================] - 61s 103ms/step - loss: 0.1604 - val_loss: 0.1852\n",
      "Epoch 288/300\n",
      "591/591 [==============================] - 61s 103ms/step - loss: 0.1566 - val_loss: 0.1183\n",
      "Epoch 289/300\n",
      "591/591 [==============================] - 61s 103ms/step - loss: 0.1591 - val_loss: 0.1086\n",
      "INFO:tensorflow:Assets written to: C:\\Users\\24306\\Desktop\\mobilenetv3\\1\\mobilenetv3.ckpt\\assets\n"
     ]
    },
    {
     "name": "stderr",
     "output_type": "stream",
     "text": [
      "C:\\Users\\24306\\.conda\\envs\\keras\\lib\\site-packages\\keras\\utils\\generic_utils.py:494: CustomMaskWarning: Custom mask layers require a config and must override get_config. When loading, the custom mask layer must be passed to the custom_objects argument.\n",
      "  warnings.warn('Custom mask layers require a config and must override '\n"
     ]
    },
    {
     "name": "stdout",
     "output_type": "stream",
     "text": [
      "Epoch 290/300\n",
      "591/591 [==============================] - 62s 105ms/step - loss: 0.1657 - val_loss: 0.1167\n",
      "Epoch 291/300\n",
      "591/591 [==============================] - 62s 105ms/step - loss: 0.1613 - val_loss: 0.1293\n",
      "Epoch 292/300\n",
      "591/591 [==============================] - 62s 105ms/step - loss: 0.1660 - val_loss: 0.1578\n",
      "Epoch 293/300\n",
      "591/591 [==============================] - 62s 104ms/step - loss: 0.1788 - val_loss: 0.1259\n",
      "Epoch 294/300\n",
      "591/591 [==============================] - 62s 104ms/step - loss: 0.1633 - val_loss: 0.1367\n",
      "Epoch 295/300\n",
      "591/591 [==============================] - 62s 104ms/step - loss: 0.1872 - val_loss: 0.1683\n",
      "Epoch 296/300\n",
      "591/591 [==============================] - 62s 104ms/step - loss: 0.1640 - val_loss: 0.1403\n",
      "Epoch 297/300\n",
      "591/591 [==============================] - 62s 105ms/step - loss: 0.1689 - val_loss: 0.1451\n",
      "Epoch 298/300\n",
      "591/591 [==============================] - 61s 104ms/step - loss: 0.1826 - val_loss: 0.1363\n",
      "Epoch 299/300\n",
      "591/591 [==============================] - 62s 104ms/step - loss: 0.1742 - val_loss: 0.1212\n",
      "Epoch 300/300\n",
      "591/591 [==============================] - 62s 104ms/step - loss: 0.1721 - val_loss: 0.1346\n",
      "end time: Sat Apr  1 13:57:35 2023\n"
     ]
    }
   ],
   "source": [
    "print ('start time:',time.asctime( time.localtime(time.time()) ))\n",
    "model.compile(optimizer=keras.optimizers.Adam(learning_rate=0.001, beta_1=0.9, beta_2=0.999, epsilon=1e-07, decay=0.01),loss='mse')\n",
    "\n",
    "cp_callback = tf.keras.callbacks.ModelCheckpoint(checkpoint_path,save_best_only=True,monitor='val_loss')\n",
    "history = model.fit(train_data,\n",
    "                    steps_per_epoch=train_count//BATCH_SIZE,\n",
    "                    epochs=300,\n",
    "                    validation_data=test_data,\n",
    "                    validation_steps=test_count//BATCH_SIZE,\n",
    "                   callbacks=[cp_callback])\n",
    "np.savetxt('mobilenetv3_loss1.txt',history.history['loss'])\n",
    "#np.savetxt('DenseNet201_acc.txt',history.history['acc'])\n",
    "np.savetxt('mobilenetv3_val_loss1.txt',history.history['val_loss'])\n",
    "#np.savetxt('DenseNet201_val_acc.txt',history.history['val_acc'])\n",
    "print ('end time:',time.asctime( time.localtime(time.time()) ))"
   ]
  },
  {
   "cell_type": "code",
   "execution_count": null,
   "metadata": {},
   "outputs": [],
   "source": []
  },
  {
   "cell_type": "code",
   "execution_count": null,
   "metadata": {},
   "outputs": [],
   "source": []
  }
 ],
 "metadata": {
  "kernelspec": {
   "display_name": "Python 3",
   "language": "python",
   "name": "python3"
  },
  "language_info": {
   "codemirror_mode": {
    "name": "ipython",
    "version": 3
   },
   "file_extension": ".py",
   "mimetype": "text/x-python",
   "name": "python",
   "nbconvert_exporter": "python",
   "pygments_lexer": "ipython3",
   "version": "3.6.5"
  }
 },
 "nbformat": 4,
 "nbformat_minor": 2
}
