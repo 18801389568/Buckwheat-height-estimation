{
 "cells": [
  {
   "cell_type": "code",
   "execution_count": 1,
   "metadata": {},
   "outputs": [],
   "source": [
    "import tensorflow as tf\n",
    "from tensorflow import keras\n",
    "import matplotlib.pyplot as plt\n",
    "%matplotlib inline\n",
    "import numpy as np\n",
    "import pathlib\n",
    "import random\n",
    "import glob\n",
    "import os\n",
    "from tensorflow.compat.v1 import ConfigProto\n",
    "from tensorflow.compat.v1 import InteractiveSession\n",
    "from tensorflow.keras.applications import MobileNetV3Small\n",
    "import time\n",
    "keras = tf.keras\n",
    "layers = tf.keras.layers\n",
    "config = ConfigProto()\n",
    "config.gpu_options.allow_growth = True\n",
    "session = InteractiveSession(config=config)"
   ]
  },
  {
   "cell_type": "code",
   "execution_count": 2,
   "metadata": {},
   "outputs": [],
   "source": [
    "def load_and_preprocess_image(path):\n",
    "    image = tf.io.read_file(path)\n",
    "    image = tf.image.decode_jpeg(image, channels=3)\n",
    "    image = tf.image.resize(image, [224, 224])\n",
    "    image = tf.cast(image, tf.float32)\n",
    "    image = image/255.0  # normalize to [0,1] range\n",
    "    image = 2*image-1\n",
    "    return image"
   ]
  },
  {
   "cell_type": "code",
   "execution_count": 3,
   "metadata": {},
   "outputs": [],
   "source": [
    "train_dir = r'C:\\Users\\24306\\Desktop\\datasets\\kfold\\3\\train'\n",
    "test_dir  = r'C:\\Users\\24306\\Desktop\\datasets\\kfold\\3\\test'\n",
    "checkpoint_path = r'C:\\Users\\24306\\Desktop\\mobilenetv3\\3\\mobilenetv3.ckpt'"
   ]
  },
  {
   "cell_type": "markdown",
   "metadata": {},
   "source": [
    "# 处理训练数据"
   ]
  },
  {
   "cell_type": "code",
   "execution_count": 4,
   "metadata": {},
   "outputs": [
    {
     "name": "stdout",
     "output_type": "stream",
     "text": [
      "18935\n"
     ]
    }
   ],
   "source": [
    "#打乱顺序\n",
    "train_root = pathlib.Path(train_dir)\n",
    "train_image_paths = list(train_root.glob('*/*'))\n",
    "train_image_paths = [str(path) for path in train_image_paths]\n",
    "random.shuffle(train_image_paths)\n",
    "#处理训练标签\n",
    "train_image_labels = [pathlib.Path(path).parent.name for path in train_image_paths]\n",
    "train_labels = [[label.split('_')[0]] for label in train_image_labels]\n",
    "new_train_labels=[]\n",
    "for n in train_labels:\n",
    "    new_train_labels.append(float(n[0]));  \n",
    "train_labels=new_train_labels\n",
    "#print(train_labels)\n",
    "#处理训练图像\n",
    "train_path_ds = tf.data.Dataset.from_tensor_slices(train_image_paths)\n",
    "AUTOTUNE = tf.data.experimental.AUTOTUNE\n",
    "train_image_ds = train_path_ds.map(load_and_preprocess_image, num_parallel_calls=AUTOTUNE)\n",
    "train_label_ds = tf.data.Dataset.from_tensor_slices(train_labels)\n",
    "train_image_label_ds = tf.data.Dataset.zip((train_image_ds, train_label_ds))\n",
    "# image_count = len(all_image_paths)\n",
    "\n",
    "# test_count = int(image_count*0.2)\n",
    "train_count = len(train_image_paths)\n",
    "# train_data = image_label_ds.skip(test_count)\n",
    "# test_data = image_label_ds.take(test_count)\n",
    "\n",
    "BATCH_SIZE = 32\n",
    "train_data = train_image_label_ds.shuffle(buffer_size=train_count).repeat(-1)\n",
    "train_data = train_data.batch(BATCH_SIZE)\n",
    "train_data = train_data.prefetch(buffer_size=AUTOTUNE)\n",
    "\n",
    "#test_data = test_data.batch(BATCH_SIZE)\n",
    "print(len(train_image_label_ds))\n",
    "\n"
   ]
  },
  {
   "cell_type": "markdown",
   "metadata": {},
   "source": [
    "# 处理验证数据"
   ]
  },
  {
   "cell_type": "code",
   "execution_count": 5,
   "metadata": {},
   "outputs": [
    {
     "name": "stdout",
     "output_type": "stream",
     "text": [
      "4729\n"
     ]
    }
   ],
   "source": [
    "#打乱顺序\n",
    "test_root = pathlib.Path(test_dir)\n",
    "test_image_paths = list(test_root.glob('*/*'))\n",
    "test_image_paths = [str(path) for path in test_image_paths]\n",
    "#random.shuffle(train_image_paths)\n",
    "#处理训练标签\n",
    "test_image_labels = [pathlib.Path(path).parent.name for path in test_image_paths]\n",
    "test_labels = [[label.split('_')[0]] for label in test_image_labels]\n",
    "new_test_labels=[]\n",
    "for n in test_labels:\n",
    "    new_test_labels.append(float(n[0]));  \n",
    "test_labels=new_test_labels\n",
    "#print(test_labels)\n",
    "#处理训练图像\n",
    "test_path_ds = tf.data.Dataset.from_tensor_slices(test_image_paths)\n",
    "AUTOTUNE = tf.data.experimental.AUTOTUNE\n",
    "test_image_ds = test_path_ds.map(load_and_preprocess_image, num_parallel_calls=AUTOTUNE)\n",
    "test_label_ds = tf.data.Dataset.from_tensor_slices(test_labels)\n",
    "test_image_label_ds = tf.data.Dataset.zip((test_image_ds, test_label_ds))\n",
    "# image_count = len(all_image_paths)\n",
    "\n",
    "# test_count = int(image_count*0.2)\n",
    "test_count = len(test_image_paths)\n",
    "# train_data = image_label_ds.skip(test_count)\n",
    "# test_data = image_label_ds.take(test_count)\n",
    "\n",
    "BATCH_SIZE = 32\n",
    "test_data = test_image_label_ds.shuffle(buffer_size=test_count).repeat(-1)\n",
    "test_data = test_data.batch(BATCH_SIZE)\n",
    "test_data = test_data.prefetch(buffer_size=AUTOTUNE)\n",
    "\n",
    "#test_data = test_data.batch(BATCH_SIZE)\n",
    "print(len(test_image_label_ds))"
   ]
  },
  {
   "cell_type": "code",
   "execution_count": 6,
   "metadata": {},
   "outputs": [
    {
     "name": "stdout",
     "output_type": "stream",
     "text": [
      "Model: \"model\"\n",
      "_________________________________________________________________\n",
      "Layer (type)                 Output Shape              Param #   \n",
      "=================================================================\n",
      "input_2 (InputLayer)         [(None, 224, 224, 3)]     0         \n",
      "_________________________________________________________________\n",
      "MobilenetV3small (Functional (None, 1, 1, 1024)        1529968   \n",
      "_________________________________________________________________\n",
      "global_average_pooling2d_1 ( (None, 1024)              0         \n",
      "_________________________________________________________________\n",
      "out_weight (Dense)           (None, 1)                 1025      \n",
      "=================================================================\n",
      "Total params: 1,530,993\n",
      "Trainable params: 1,518,881\n",
      "Non-trainable params: 12,112\n",
      "_________________________________________________________________\n"
     ]
    }
   ],
   "source": [
    "MobileNetV3 = MobileNetV3Small(weights='imagenet',include_top=False,input_shape=(224, 224, 3))\n",
    "MobileNetV3.trainable = True\n",
    "inputs = tf.keras.Input(shape=(224, 224, 3))\n",
    "x = MobileNetV3(inputs)\n",
    "x = tf.keras.layers.GlobalAveragePooling2D()(x)\n",
    "out_weight = tf.keras.layers.Dense(1,name='out_weight')(x)\n",
    "\n",
    "model = tf.keras.Model(inputs=inputs,\n",
    "                       outputs=[out_weight])\n",
    "model.summary()"
   ]
  },
  {
   "cell_type": "code",
   "execution_count": 7,
   "metadata": {
    "scrolled": true
   },
   "outputs": [
    {
     "name": "stdout",
     "output_type": "stream",
     "text": [
      "start time: Sun Apr  2 10:42:41 2023\n",
      "Epoch 1/300\n",
      "591/591 [==============================] - 43s 46ms/step - loss: 52.3285 - val_loss: 3143.4246\n",
      "INFO:tensorflow:Assets written to: C:\\Users\\24306\\Desktop\\mobilenetv3\\3\\mobilenetv3.ckpt\\assets\n"
     ]
    },
    {
     "name": "stderr",
     "output_type": "stream",
     "text": [
      "C:\\Users\\24306\\.conda\\envs\\keras\\lib\\site-packages\\keras\\utils\\generic_utils.py:494: CustomMaskWarning: Custom mask layers require a config and must override get_config. When loading, the custom mask layer must be passed to the custom_objects argument.\n",
      "  warnings.warn('Custom mask layers require a config and must override '\n"
     ]
    },
    {
     "name": "stdout",
     "output_type": "stream",
     "text": [
      "Epoch 2/300\n",
      "591/591 [==============================] - 28s 47ms/step - loss: 2.8963 - val_loss: 2709.8333\n",
      "INFO:tensorflow:Assets written to: C:\\Users\\24306\\Desktop\\mobilenetv3\\3\\mobilenetv3.ckpt\\assets\n"
     ]
    },
    {
     "name": "stderr",
     "output_type": "stream",
     "text": [
      "C:\\Users\\24306\\.conda\\envs\\keras\\lib\\site-packages\\keras\\utils\\generic_utils.py:494: CustomMaskWarning: Custom mask layers require a config and must override get_config. When loading, the custom mask layer must be passed to the custom_objects argument.\n",
      "  warnings.warn('Custom mask layers require a config and must override '\n"
     ]
    },
    {
     "name": "stdout",
     "output_type": "stream",
     "text": [
      "Epoch 3/300\n",
      "591/591 [==============================] - 29s 49ms/step - loss: 1.6301 - val_loss: 2380.9607\n",
      "INFO:tensorflow:Assets written to: C:\\Users\\24306\\Desktop\\mobilenetv3\\3\\mobilenetv3.ckpt\\assets\n"
     ]
    },
    {
     "name": "stderr",
     "output_type": "stream",
     "text": [
      "C:\\Users\\24306\\.conda\\envs\\keras\\lib\\site-packages\\keras\\utils\\generic_utils.py:494: CustomMaskWarning: Custom mask layers require a config and must override get_config. When loading, the custom mask layer must be passed to the custom_objects argument.\n",
      "  warnings.warn('Custom mask layers require a config and must override '\n"
     ]
    },
    {
     "name": "stdout",
     "output_type": "stream",
     "text": [
      "Epoch 4/300\n",
      "591/591 [==============================] - 31s 52ms/step - loss: 1.1345 - val_loss: 2167.0481\n",
      "INFO:tensorflow:Assets written to: C:\\Users\\24306\\Desktop\\mobilenetv3\\3\\mobilenetv3.ckpt\\assets\n"
     ]
    },
    {
     "name": "stderr",
     "output_type": "stream",
     "text": [
      "C:\\Users\\24306\\.conda\\envs\\keras\\lib\\site-packages\\keras\\utils\\generic_utils.py:494: CustomMaskWarning: Custom mask layers require a config and must override get_config. When loading, the custom mask layer must be passed to the custom_objects argument.\n",
      "  warnings.warn('Custom mask layers require a config and must override '\n"
     ]
    },
    {
     "name": "stdout",
     "output_type": "stream",
     "text": [
      "Epoch 5/300\n",
      "591/591 [==============================] - 31s 51ms/step - loss: 1.0998 - val_loss: 1587.0126\n",
      "INFO:tensorflow:Assets written to: C:\\Users\\24306\\Desktop\\mobilenetv3\\3\\mobilenetv3.ckpt\\assets\n"
     ]
    },
    {
     "name": "stderr",
     "output_type": "stream",
     "text": [
      "C:\\Users\\24306\\.conda\\envs\\keras\\lib\\site-packages\\keras\\utils\\generic_utils.py:494: CustomMaskWarning: Custom mask layers require a config and must override get_config. When loading, the custom mask layer must be passed to the custom_objects argument.\n",
      "  warnings.warn('Custom mask layers require a config and must override '\n"
     ]
    },
    {
     "name": "stdout",
     "output_type": "stream",
     "text": [
      "Epoch 6/300\n",
      "591/591 [==============================] - 31s 52ms/step - loss: 0.7580 - val_loss: 892.0079\n",
      "INFO:tensorflow:Assets written to: C:\\Users\\24306\\Desktop\\mobilenetv3\\3\\mobilenetv3.ckpt\\assets\n"
     ]
    },
    {
     "name": "stderr",
     "output_type": "stream",
     "text": [
      "C:\\Users\\24306\\.conda\\envs\\keras\\lib\\site-packages\\keras\\utils\\generic_utils.py:494: CustomMaskWarning: Custom mask layers require a config and must override get_config. When loading, the custom mask layer must be passed to the custom_objects argument.\n",
      "  warnings.warn('Custom mask layers require a config and must override '\n"
     ]
    },
    {
     "name": "stdout",
     "output_type": "stream",
     "text": [
      "Epoch 7/300\n",
      "591/591 [==============================] - 31s 52ms/step - loss: 0.7112 - val_loss: 694.2178\n",
      "INFO:tensorflow:Assets written to: C:\\Users\\24306\\Desktop\\mobilenetv3\\3\\mobilenetv3.ckpt\\assets\n"
     ]
    },
    {
     "name": "stderr",
     "output_type": "stream",
     "text": [
      "C:\\Users\\24306\\.conda\\envs\\keras\\lib\\site-packages\\keras\\utils\\generic_utils.py:494: CustomMaskWarning: Custom mask layers require a config and must override get_config. When loading, the custom mask layer must be passed to the custom_objects argument.\n",
      "  warnings.warn('Custom mask layers require a config and must override '\n"
     ]
    },
    {
     "name": "stdout",
     "output_type": "stream",
     "text": [
      "Epoch 8/300\n",
      "591/591 [==============================] - 32s 54ms/step - loss: 0.5904 - val_loss: 565.0882\n",
      "INFO:tensorflow:Assets written to: C:\\Users\\24306\\Desktop\\mobilenetv3\\3\\mobilenetv3.ckpt\\assets\n"
     ]
    },
    {
     "name": "stderr",
     "output_type": "stream",
     "text": [
      "C:\\Users\\24306\\.conda\\envs\\keras\\lib\\site-packages\\keras\\utils\\generic_utils.py:494: CustomMaskWarning: Custom mask layers require a config and must override get_config. When loading, the custom mask layer must be passed to the custom_objects argument.\n",
      "  warnings.warn('Custom mask layers require a config and must override '\n"
     ]
    },
    {
     "name": "stdout",
     "output_type": "stream",
     "text": [
      "Epoch 9/300\n",
      "591/591 [==============================] - 32s 55ms/step - loss: 0.5492 - val_loss: 382.7075\n",
      "INFO:tensorflow:Assets written to: C:\\Users\\24306\\Desktop\\mobilenetv3\\3\\mobilenetv3.ckpt\\assets\n"
     ]
    },
    {
     "name": "stderr",
     "output_type": "stream",
     "text": [
      "C:\\Users\\24306\\.conda\\envs\\keras\\lib\\site-packages\\keras\\utils\\generic_utils.py:494: CustomMaskWarning: Custom mask layers require a config and must override get_config. When loading, the custom mask layer must be passed to the custom_objects argument.\n",
      "  warnings.warn('Custom mask layers require a config and must override '\n"
     ]
    },
    {
     "name": "stdout",
     "output_type": "stream",
     "text": [
      "Epoch 10/300\n",
      "591/591 [==============================] - 33s 56ms/step - loss: 0.4851 - val_loss: 262.6208\n",
      "INFO:tensorflow:Assets written to: C:\\Users\\24306\\Desktop\\mobilenetv3\\3\\mobilenetv3.ckpt\\assets\n"
     ]
    },
    {
     "name": "stderr",
     "output_type": "stream",
     "text": [
      "C:\\Users\\24306\\.conda\\envs\\keras\\lib\\site-packages\\keras\\utils\\generic_utils.py:494: CustomMaskWarning: Custom mask layers require a config and must override get_config. When loading, the custom mask layer must be passed to the custom_objects argument.\n",
      "  warnings.warn('Custom mask layers require a config and must override '\n"
     ]
    },
    {
     "name": "stdout",
     "output_type": "stream",
     "text": [
      "Epoch 11/300\n",
      "591/591 [==============================] - 34s 56ms/step - loss: 0.4968 - val_loss: 124.8868\n",
      "INFO:tensorflow:Assets written to: C:\\Users\\24306\\Desktop\\mobilenetv3\\3\\mobilenetv3.ckpt\\assets\n"
     ]
    },
    {
     "name": "stderr",
     "output_type": "stream",
     "text": [
      "C:\\Users\\24306\\.conda\\envs\\keras\\lib\\site-packages\\keras\\utils\\generic_utils.py:494: CustomMaskWarning: Custom mask layers require a config and must override get_config. When loading, the custom mask layer must be passed to the custom_objects argument.\n",
      "  warnings.warn('Custom mask layers require a config and must override '\n"
     ]
    },
    {
     "name": "stdout",
     "output_type": "stream",
     "text": [
      "Epoch 12/300\n",
      "591/591 [==============================] - 34s 57ms/step - loss: 0.4517 - val_loss: 87.8851\n",
      "INFO:tensorflow:Assets written to: C:\\Users\\24306\\Desktop\\mobilenetv3\\3\\mobilenetv3.ckpt\\assets\n"
     ]
    },
    {
     "name": "stderr",
     "output_type": "stream",
     "text": [
      "C:\\Users\\24306\\.conda\\envs\\keras\\lib\\site-packages\\keras\\utils\\generic_utils.py:494: CustomMaskWarning: Custom mask layers require a config and must override get_config. When loading, the custom mask layer must be passed to the custom_objects argument.\n",
      "  warnings.warn('Custom mask layers require a config and must override '\n"
     ]
    },
    {
     "name": "stdout",
     "output_type": "stream",
     "text": [
      "Epoch 13/300\n",
      "591/591 [==============================] - 33s 55ms/step - loss: 0.4147 - val_loss: 63.7187\n",
      "INFO:tensorflow:Assets written to: C:\\Users\\24306\\Desktop\\mobilenetv3\\3\\mobilenetv3.ckpt\\assets\n"
     ]
    },
    {
     "name": "stderr",
     "output_type": "stream",
     "text": [
      "C:\\Users\\24306\\.conda\\envs\\keras\\lib\\site-packages\\keras\\utils\\generic_utils.py:494: CustomMaskWarning: Custom mask layers require a config and must override get_config. When loading, the custom mask layer must be passed to the custom_objects argument.\n",
      "  warnings.warn('Custom mask layers require a config and must override '\n"
     ]
    },
    {
     "name": "stdout",
     "output_type": "stream",
     "text": [
      "Epoch 14/300\n",
      "591/591 [==============================] - 34s 58ms/step - loss: 0.3971 - val_loss: 20.1634\n",
      "INFO:tensorflow:Assets written to: C:\\Users\\24306\\Desktop\\mobilenetv3\\3\\mobilenetv3.ckpt\\assets\n"
     ]
    },
    {
     "name": "stderr",
     "output_type": "stream",
     "text": [
      "C:\\Users\\24306\\.conda\\envs\\keras\\lib\\site-packages\\keras\\utils\\generic_utils.py:494: CustomMaskWarning: Custom mask layers require a config and must override get_config. When loading, the custom mask layer must be passed to the custom_objects argument.\n",
      "  warnings.warn('Custom mask layers require a config and must override '\n"
     ]
    },
    {
     "name": "stdout",
     "output_type": "stream",
     "text": [
      "Epoch 15/300\n",
      "591/591 [==============================] - 34s 57ms/step - loss: 0.4406 - val_loss: 4.4696\n",
      "INFO:tensorflow:Assets written to: C:\\Users\\24306\\Desktop\\mobilenetv3\\3\\mobilenetv3.ckpt\\assets\n"
     ]
    },
    {
     "name": "stderr",
     "output_type": "stream",
     "text": [
      "C:\\Users\\24306\\.conda\\envs\\keras\\lib\\site-packages\\keras\\utils\\generic_utils.py:494: CustomMaskWarning: Custom mask layers require a config and must override get_config. When loading, the custom mask layer must be passed to the custom_objects argument.\n",
      "  warnings.warn('Custom mask layers require a config and must override '\n"
     ]
    },
    {
     "name": "stdout",
     "output_type": "stream",
     "text": [
      "Epoch 16/300\n",
      "591/591 [==============================] - 35s 58ms/step - loss: 0.3739 - val_loss: 6.7895\n",
      "Epoch 17/300\n",
      "591/591 [==============================] - 34s 57ms/step - loss: 0.3537 - val_loss: 3.9754\n",
      "INFO:tensorflow:Assets written to: C:\\Users\\24306\\Desktop\\mobilenetv3\\3\\mobilenetv3.ckpt\\assets\n"
     ]
    },
    {
     "name": "stderr",
     "output_type": "stream",
     "text": [
      "C:\\Users\\24306\\.conda\\envs\\keras\\lib\\site-packages\\keras\\utils\\generic_utils.py:494: CustomMaskWarning: Custom mask layers require a config and must override get_config. When loading, the custom mask layer must be passed to the custom_objects argument.\n",
      "  warnings.warn('Custom mask layers require a config and must override '\n"
     ]
    },
    {
     "name": "stdout",
     "output_type": "stream",
     "text": [
      "Epoch 18/300\n",
      "591/591 [==============================] - 35s 59ms/step - loss: 0.3540 - val_loss: 0.7170\n",
      "INFO:tensorflow:Assets written to: C:\\Users\\24306\\Desktop\\mobilenetv3\\3\\mobilenetv3.ckpt\\assets\n"
     ]
    },
    {
     "name": "stderr",
     "output_type": "stream",
     "text": [
      "C:\\Users\\24306\\.conda\\envs\\keras\\lib\\site-packages\\keras\\utils\\generic_utils.py:494: CustomMaskWarning: Custom mask layers require a config and must override get_config. When loading, the custom mask layer must be passed to the custom_objects argument.\n",
      "  warnings.warn('Custom mask layers require a config and must override '\n"
     ]
    },
    {
     "name": "stdout",
     "output_type": "stream",
     "text": [
      "Epoch 19/300\n",
      "591/591 [==============================] - 36s 61ms/step - loss: 0.3559 - val_loss: 0.8916\n",
      "Epoch 20/300\n",
      "591/591 [==============================] - 34s 57ms/step - loss: 0.3099 - val_loss: 0.8931\n",
      "Epoch 21/300\n",
      "591/591 [==============================] - 35s 59ms/step - loss: 0.3249 - val_loss: 1.2504\n",
      "Epoch 22/300\n",
      "591/591 [==============================] - 34s 57ms/step - loss: 0.3210 - val_loss: 0.7070\n",
      "INFO:tensorflow:Assets written to: C:\\Users\\24306\\Desktop\\mobilenetv3\\3\\mobilenetv3.ckpt\\assets\n"
     ]
    },
    {
     "name": "stderr",
     "output_type": "stream",
     "text": [
      "C:\\Users\\24306\\.conda\\envs\\keras\\lib\\site-packages\\keras\\utils\\generic_utils.py:494: CustomMaskWarning: Custom mask layers require a config and must override get_config. When loading, the custom mask layer must be passed to the custom_objects argument.\n",
      "  warnings.warn('Custom mask layers require a config and must override '\n"
     ]
    },
    {
     "name": "stdout",
     "output_type": "stream",
     "text": [
      "Epoch 23/300\n",
      "591/591 [==============================] - 35s 58ms/step - loss: 0.2985 - val_loss: 0.8260\n",
      "Epoch 24/300\n",
      "591/591 [==============================] - 34s 58ms/step - loss: 0.2957 - val_loss: 0.8200\n",
      "Epoch 25/300\n",
      "591/591 [==============================] - 35s 59ms/step - loss: 0.3017 - val_loss: 0.9588\n",
      "Epoch 26/300\n",
      "591/591 [==============================] - 35s 59ms/step - loss: 0.2883 - val_loss: 0.7798\n",
      "Epoch 27/300\n",
      "591/591 [==============================] - 35s 59ms/step - loss: 0.2979 - val_loss: 1.0291\n",
      "Epoch 28/300\n",
      "591/591 [==============================] - 35s 59ms/step - loss: 0.2862 - val_loss: 0.6990\n",
      "INFO:tensorflow:Assets written to: C:\\Users\\24306\\Desktop\\mobilenetv3\\3\\mobilenetv3.ckpt\\assets\n"
     ]
    },
    {
     "name": "stderr",
     "output_type": "stream",
     "text": [
      "C:\\Users\\24306\\.conda\\envs\\keras\\lib\\site-packages\\keras\\utils\\generic_utils.py:494: CustomMaskWarning: Custom mask layers require a config and must override get_config. When loading, the custom mask layer must be passed to the custom_objects argument.\n",
      "  warnings.warn('Custom mask layers require a config and must override '\n"
     ]
    },
    {
     "name": "stdout",
     "output_type": "stream",
     "text": [
      "Epoch 29/300\n",
      "591/591 [==============================] - 36s 61ms/step - loss: 0.2774 - val_loss: 0.6048\n",
      "INFO:tensorflow:Assets written to: C:\\Users\\24306\\Desktop\\mobilenetv3\\3\\mobilenetv3.ckpt\\assets\n"
     ]
    },
    {
     "name": "stderr",
     "output_type": "stream",
     "text": [
      "C:\\Users\\24306\\.conda\\envs\\keras\\lib\\site-packages\\keras\\utils\\generic_utils.py:494: CustomMaskWarning: Custom mask layers require a config and must override get_config. When loading, the custom mask layer must be passed to the custom_objects argument.\n",
      "  warnings.warn('Custom mask layers require a config and must override '\n"
     ]
    },
    {
     "name": "stdout",
     "output_type": "stream",
     "text": [
      "Epoch 30/300\n",
      "591/591 [==============================] - 38s 63ms/step - loss: 0.2794 - val_loss: 0.7814\n",
      "Epoch 31/300\n",
      "591/591 [==============================] - 43s 72ms/step - loss: 0.2738 - val_loss: 0.4715\n",
      "INFO:tensorflow:Assets written to: C:\\Users\\24306\\Desktop\\mobilenetv3\\3\\mobilenetv3.ckpt\\assets\n"
     ]
    },
    {
     "name": "stderr",
     "output_type": "stream",
     "text": [
      "C:\\Users\\24306\\.conda\\envs\\keras\\lib\\site-packages\\keras\\utils\\generic_utils.py:494: CustomMaskWarning: Custom mask layers require a config and must override get_config. When loading, the custom mask layer must be passed to the custom_objects argument.\n",
      "  warnings.warn('Custom mask layers require a config and must override '\n"
     ]
    },
    {
     "name": "stdout",
     "output_type": "stream",
     "text": [
      "Epoch 32/300\n",
      "591/591 [==============================] - 44s 74ms/step - loss: 0.2686 - val_loss: 0.5532\n",
      "Epoch 33/300\n",
      "591/591 [==============================] - 43s 73ms/step - loss: 0.2499 - val_loss: 0.4008\n",
      "INFO:tensorflow:Assets written to: C:\\Users\\24306\\Desktop\\mobilenetv3\\3\\mobilenetv3.ckpt\\assets\n"
     ]
    },
    {
     "name": "stderr",
     "output_type": "stream",
     "text": [
      "C:\\Users\\24306\\.conda\\envs\\keras\\lib\\site-packages\\keras\\utils\\generic_utils.py:494: CustomMaskWarning: Custom mask layers require a config and must override get_config. When loading, the custom mask layer must be passed to the custom_objects argument.\n",
      "  warnings.warn('Custom mask layers require a config and must override '\n"
     ]
    },
    {
     "name": "stdout",
     "output_type": "stream",
     "text": [
      "Epoch 34/300\n",
      "591/591 [==============================] - 44s 74ms/step - loss: 0.2682 - val_loss: 0.4879\n",
      "Epoch 35/300\n",
      "591/591 [==============================] - 43s 73ms/step - loss: 0.2416 - val_loss: 0.4232\n",
      "Epoch 36/300\n",
      "591/591 [==============================] - 43s 74ms/step - loss: 0.2534 - val_loss: 0.3708\n",
      "INFO:tensorflow:Assets written to: C:\\Users\\24306\\Desktop\\mobilenetv3\\3\\mobilenetv3.ckpt\\assets\n"
     ]
    },
    {
     "name": "stderr",
     "output_type": "stream",
     "text": [
      "C:\\Users\\24306\\.conda\\envs\\keras\\lib\\site-packages\\keras\\utils\\generic_utils.py:494: CustomMaskWarning: Custom mask layers require a config and must override get_config. When loading, the custom mask layer must be passed to the custom_objects argument.\n",
      "  warnings.warn('Custom mask layers require a config and must override '\n"
     ]
    },
    {
     "name": "stdout",
     "output_type": "stream",
     "text": [
      "Epoch 37/300\n",
      "591/591 [==============================] - 44s 74ms/step - loss: 0.2410 - val_loss: 0.5554\n",
      "Epoch 38/300\n",
      "591/591 [==============================] - 44s 74ms/step - loss: 0.2572 - val_loss: 0.6144\n",
      "Epoch 39/300\n",
      "591/591 [==============================] - 44s 74ms/step - loss: 0.2382 - val_loss: 0.2994\n",
      "INFO:tensorflow:Assets written to: C:\\Users\\24306\\Desktop\\mobilenetv3\\3\\mobilenetv3.ckpt\\assets\n"
     ]
    },
    {
     "name": "stderr",
     "output_type": "stream",
     "text": [
      "C:\\Users\\24306\\.conda\\envs\\keras\\lib\\site-packages\\keras\\utils\\generic_utils.py:494: CustomMaskWarning: Custom mask layers require a config and must override get_config. When loading, the custom mask layer must be passed to the custom_objects argument.\n",
      "  warnings.warn('Custom mask layers require a config and must override '\n"
     ]
    },
    {
     "name": "stdout",
     "output_type": "stream",
     "text": [
      "Epoch 40/300\n",
      "591/591 [==============================] - 45s 75ms/step - loss: 0.2383 - val_loss: 0.3257\n",
      "Epoch 41/300\n",
      "591/591 [==============================] - 45s 76ms/step - loss: 0.2452 - val_loss: 0.5290\n",
      "Epoch 42/300\n",
      "591/591 [==============================] - 44s 75ms/step - loss: 0.2414 - val_loss: 0.4287\n",
      "Epoch 43/300\n",
      "591/591 [==============================] - 44s 75ms/step - loss: 0.2432 - val_loss: 0.4961\n",
      "Epoch 44/300\n",
      "591/591 [==============================] - 44s 74ms/step - loss: 0.2352 - val_loss: 0.3969\n",
      "Epoch 45/300\n",
      "591/591 [==============================] - 44s 75ms/step - loss: 0.2240 - val_loss: 0.4039\n",
      "Epoch 46/300\n",
      "591/591 [==============================] - 44s 74ms/step - loss: 0.2334 - val_loss: 0.3530\n",
      "Epoch 47/300\n",
      "591/591 [==============================] - 44s 75ms/step - loss: 0.2302 - val_loss: 0.2399\n",
      "INFO:tensorflow:Assets written to: C:\\Users\\24306\\Desktop\\mobilenetv3\\3\\mobilenetv3.ckpt\\assets\n"
     ]
    },
    {
     "name": "stderr",
     "output_type": "stream",
     "text": [
      "C:\\Users\\24306\\.conda\\envs\\keras\\lib\\site-packages\\keras\\utils\\generic_utils.py:494: CustomMaskWarning: Custom mask layers require a config and must override get_config. When loading, the custom mask layer must be passed to the custom_objects argument.\n",
      "  warnings.warn('Custom mask layers require a config and must override '\n"
     ]
    },
    {
     "name": "stdout",
     "output_type": "stream",
     "text": [
      "Epoch 48/300\n",
      "591/591 [==============================] - 45s 76ms/step - loss: 0.2167 - val_loss: 0.2207\n",
      "INFO:tensorflow:Assets written to: C:\\Users\\24306\\Desktop\\mobilenetv3\\3\\mobilenetv3.ckpt\\assets\n"
     ]
    },
    {
     "name": "stderr",
     "output_type": "stream",
     "text": [
      "C:\\Users\\24306\\.conda\\envs\\keras\\lib\\site-packages\\keras\\utils\\generic_utils.py:494: CustomMaskWarning: Custom mask layers require a config and must override get_config. When loading, the custom mask layer must be passed to the custom_objects argument.\n",
      "  warnings.warn('Custom mask layers require a config and must override '\n"
     ]
    },
    {
     "name": "stdout",
     "output_type": "stream",
     "text": [
      "Epoch 49/300\n",
      "591/591 [==============================] - 46s 77ms/step - loss: 0.2182 - val_loss: 0.1781\n",
      "INFO:tensorflow:Assets written to: C:\\Users\\24306\\Desktop\\mobilenetv3\\3\\mobilenetv3.ckpt\\assets\n"
     ]
    },
    {
     "name": "stderr",
     "output_type": "stream",
     "text": [
      "C:\\Users\\24306\\.conda\\envs\\keras\\lib\\site-packages\\keras\\utils\\generic_utils.py:494: CustomMaskWarning: Custom mask layers require a config and must override get_config. When loading, the custom mask layer must be passed to the custom_objects argument.\n",
      "  warnings.warn('Custom mask layers require a config and must override '\n"
     ]
    },
    {
     "name": "stdout",
     "output_type": "stream",
     "text": [
      "Epoch 50/300\n",
      "591/591 [==============================] - 46s 77ms/step - loss: 0.2209 - val_loss: 0.1534\n",
      "INFO:tensorflow:Assets written to: C:\\Users\\24306\\Desktop\\mobilenetv3\\3\\mobilenetv3.ckpt\\assets\n"
     ]
    },
    {
     "name": "stderr",
     "output_type": "stream",
     "text": [
      "C:\\Users\\24306\\.conda\\envs\\keras\\lib\\site-packages\\keras\\utils\\generic_utils.py:494: CustomMaskWarning: Custom mask layers require a config and must override get_config. When loading, the custom mask layer must be passed to the custom_objects argument.\n",
      "  warnings.warn('Custom mask layers require a config and must override '\n"
     ]
    },
    {
     "name": "stdout",
     "output_type": "stream",
     "text": [
      "Epoch 51/300\n",
      "591/591 [==============================] - 46s 78ms/step - loss: 0.2186 - val_loss: 0.2136\n",
      "Epoch 52/300\n",
      "591/591 [==============================] - 46s 78ms/step - loss: 0.2268 - val_loss: 0.1673\n",
      "Epoch 53/300\n",
      "591/591 [==============================] - 46s 78ms/step - loss: 0.2181 - val_loss: 0.1890\n",
      "Epoch 54/300\n",
      "591/591 [==============================] - 46s 78ms/step - loss: 0.2030 - val_loss: 0.3156\n",
      "Epoch 55/300\n",
      "591/591 [==============================] - 46s 78ms/step - loss: 0.2108 - val_loss: 0.3031\n",
      "Epoch 56/300\n",
      "591/591 [==============================] - 45s 76ms/step - loss: 0.1984 - val_loss: 0.2831\n",
      "Epoch 57/300\n",
      "591/591 [==============================] - 46s 78ms/step - loss: 0.2179 - val_loss: 0.2823\n",
      "Epoch 58/300\n",
      "591/591 [==============================] - 45s 76ms/step - loss: 0.2248 - val_loss: 0.2815\n",
      "Epoch 59/300\n",
      "591/591 [==============================] - 45s 77ms/step - loss: 0.2090 - val_loss: 0.1941\n",
      "Epoch 60/300\n",
      "591/591 [==============================] - 45s 76ms/step - loss: 0.2071 - val_loss: 0.2273\n",
      "Epoch 61/300\n",
      "591/591 [==============================] - 46s 78ms/step - loss: 0.2078 - val_loss: 0.2009\n",
      "Epoch 62/300\n",
      "591/591 [==============================] - 46s 77ms/step - loss: 0.2072 - val_loss: 0.3342\n",
      "Epoch 63/300\n",
      "591/591 [==============================] - 46s 78ms/step - loss: 0.2062 - val_loss: 0.2926\n",
      "Epoch 64/300\n",
      "591/591 [==============================] - 47s 79ms/step - loss: 0.2081 - val_loss: 0.2729\n",
      "Epoch 65/300\n",
      "591/591 [==============================] - 46s 78ms/step - loss: 0.2264 - val_loss: 0.2425\n",
      "Epoch 66/300\n",
      "591/591 [==============================] - 47s 79ms/step - loss: 0.2249 - val_loss: 0.2677\n",
      "Epoch 67/300\n",
      "591/591 [==============================] - 48s 81ms/step - loss: 0.2086 - val_loss: 0.1574\n",
      "Epoch 68/300\n",
      "591/591 [==============================] - 47s 79ms/step - loss: 0.1921 - val_loss: 0.2287\n",
      "Epoch 69/300\n",
      "591/591 [==============================] - 47s 80ms/step - loss: 0.1991 - val_loss: 0.1945\n",
      "Epoch 70/300\n",
      "591/591 [==============================] - 47s 79ms/step - loss: 0.1900 - val_loss: 0.1895\n",
      "Epoch 71/300\n",
      "591/591 [==============================] - 47s 80ms/step - loss: 0.1915 - val_loss: 0.1600\n",
      "Epoch 72/300\n",
      "591/591 [==============================] - 47s 79ms/step - loss: 0.1982 - val_loss: 0.2051\n",
      "Epoch 73/300\n",
      "591/591 [==============================] - 47s 80ms/step - loss: 0.1900 - val_loss: 0.2120\n",
      "Epoch 74/300\n",
      "591/591 [==============================] - 47s 79ms/step - loss: 0.2022 - val_loss: 0.2048\n",
      "Epoch 75/300\n",
      "591/591 [==============================] - 48s 81ms/step - loss: 0.2141 - val_loss: 0.1803\n",
      "Epoch 76/300\n",
      "591/591 [==============================] - 46s 78ms/step - loss: 0.2018 - val_loss: 0.1908\n",
      "Epoch 77/300\n",
      "591/591 [==============================] - 47s 80ms/step - loss: 0.2248 - val_loss: 0.1895\n",
      "Epoch 78/300\n",
      "591/591 [==============================] - 47s 79ms/step - loss: 0.2058 - val_loss: 0.2363\n",
      "Epoch 79/300\n",
      "591/591 [==============================] - 47s 79ms/step - loss: 0.1827 - val_loss: 0.3262\n",
      "Epoch 80/300\n",
      "591/591 [==============================] - 48s 81ms/step - loss: 0.1829 - val_loss: 0.2829\n",
      "Epoch 81/300\n",
      "591/591 [==============================] - 46s 78ms/step - loss: 0.1833 - val_loss: 0.2772\n",
      "Epoch 82/300\n",
      "591/591 [==============================] - 48s 81ms/step - loss: 0.1787 - val_loss: 0.1990\n",
      "Epoch 83/300\n",
      "591/591 [==============================] - 47s 79ms/step - loss: 0.1892 - val_loss: 0.2708\n",
      "Epoch 84/300\n",
      "591/591 [==============================] - 47s 79ms/step - loss: 0.1791 - val_loss: 0.2012\n",
      "Epoch 85/300\n",
      "591/591 [==============================] - 46s 78ms/step - loss: 0.1898 - val_loss: 0.2063\n",
      "Epoch 86/300\n",
      "591/591 [==============================] - 47s 79ms/step - loss: 0.2070 - val_loss: 0.1986\n",
      "Epoch 87/300\n",
      "591/591 [==============================] - 47s 80ms/step - loss: 0.1831 - val_loss: 0.1984\n",
      "Epoch 88/300\n",
      "591/591 [==============================] - 48s 81ms/step - loss: 0.1943 - val_loss: 0.1566\n",
      "Epoch 89/300\n",
      "591/591 [==============================] - 47s 80ms/step - loss: 0.1892 - val_loss: 0.1527\n",
      "INFO:tensorflow:Assets written to: C:\\Users\\24306\\Desktop\\mobilenetv3\\3\\mobilenetv3.ckpt\\assets\n"
     ]
    },
    {
     "name": "stderr",
     "output_type": "stream",
     "text": [
      "C:\\Users\\24306\\.conda\\envs\\keras\\lib\\site-packages\\keras\\utils\\generic_utils.py:494: CustomMaskWarning: Custom mask layers require a config and must override get_config. When loading, the custom mask layer must be passed to the custom_objects argument.\n",
      "  warnings.warn('Custom mask layers require a config and must override '\n"
     ]
    },
    {
     "name": "stdout",
     "output_type": "stream",
     "text": [
      "Epoch 90/300\n",
      "591/591 [==============================] - 48s 80ms/step - loss: 0.1765 - val_loss: 0.1836\n",
      "Epoch 91/300\n",
      "591/591 [==============================] - 48s 81ms/step - loss: 0.1847 - val_loss: 0.2117\n",
      "Epoch 92/300\n",
      "591/591 [==============================] - 48s 81ms/step - loss: 0.1726 - val_loss: 0.2160\n",
      "Epoch 93/300\n",
      "591/591 [==============================] - 47s 80ms/step - loss: 0.2142 - val_loss: 0.1978\n",
      "Epoch 94/300\n",
      "591/591 [==============================] - 47s 80ms/step - loss: 0.1813 - val_loss: 0.2022\n",
      "Epoch 95/300\n",
      "591/591 [==============================] - 48s 81ms/step - loss: 0.1866 - val_loss: 0.1451\n",
      "INFO:tensorflow:Assets written to: C:\\Users\\24306\\Desktop\\mobilenetv3\\3\\mobilenetv3.ckpt\\assets\n"
     ]
    },
    {
     "name": "stderr",
     "output_type": "stream",
     "text": [
      "C:\\Users\\24306\\.conda\\envs\\keras\\lib\\site-packages\\keras\\utils\\generic_utils.py:494: CustomMaskWarning: Custom mask layers require a config and must override get_config. When loading, the custom mask layer must be passed to the custom_objects argument.\n",
      "  warnings.warn('Custom mask layers require a config and must override '\n"
     ]
    },
    {
     "name": "stdout",
     "output_type": "stream",
     "text": [
      "Epoch 96/300\n",
      "591/591 [==============================] - 46s 78ms/step - loss: 0.1722 - val_loss: 0.1751\n",
      "Epoch 97/300\n",
      "591/591 [==============================] - 46s 77ms/step - loss: 0.1717 - val_loss: 0.2166\n",
      "Epoch 98/300\n",
      "591/591 [==============================] - 46s 77ms/step - loss: 0.1801 - val_loss: 0.2138\n",
      "Epoch 99/300\n",
      "591/591 [==============================] - 45s 76ms/step - loss: 0.1971 - val_loss: 0.2080\n",
      "Epoch 100/300\n",
      "591/591 [==============================] - 46s 78ms/step - loss: 0.1699 - val_loss: 0.2080\n",
      "Epoch 101/300\n",
      "591/591 [==============================] - 45s 77ms/step - loss: 0.1669 - val_loss: 0.2184\n",
      "Epoch 102/300\n",
      "591/591 [==============================] - 47s 79ms/step - loss: 0.1830 - val_loss: 0.1613\n",
      "Epoch 103/300\n",
      "591/591 [==============================] - 46s 78ms/step - loss: 0.1699 - val_loss: 0.1804\n",
      "Epoch 104/300\n",
      "591/591 [==============================] - 47s 79ms/step - loss: 0.1829 - val_loss: 0.1886\n",
      "Epoch 105/300\n",
      "591/591 [==============================] - 47s 79ms/step - loss: 0.1693 - val_loss: 0.2002\n",
      "Epoch 106/300\n",
      "591/591 [==============================] - 47s 80ms/step - loss: 0.1800 - val_loss: 0.1809\n",
      "Epoch 107/300\n",
      "591/591 [==============================] - 45s 77ms/step - loss: 0.1636 - val_loss: 0.1643\n",
      "Epoch 108/300\n",
      "591/591 [==============================] - 46s 77ms/step - loss: 0.1639 - val_loss: 0.1943\n",
      "Epoch 109/300\n",
      "591/591 [==============================] - 45s 76ms/step - loss: 0.1661 - val_loss: 0.1577\n",
      "Epoch 110/300\n",
      "591/591 [==============================] - 45s 77ms/step - loss: 0.1753 - val_loss: 0.2141\n",
      "Epoch 111/300\n",
      "591/591 [==============================] - 46s 77ms/step - loss: 0.1624 - val_loss: 0.2079\n",
      "Epoch 112/300\n",
      "591/591 [==============================] - 46s 77ms/step - loss: 0.1695 - val_loss: 0.1387\n",
      "INFO:tensorflow:Assets written to: C:\\Users\\24306\\Desktop\\mobilenetv3\\3\\mobilenetv3.ckpt\\assets\n"
     ]
    },
    {
     "name": "stderr",
     "output_type": "stream",
     "text": [
      "C:\\Users\\24306\\.conda\\envs\\keras\\lib\\site-packages\\keras\\utils\\generic_utils.py:494: CustomMaskWarning: Custom mask layers require a config and must override get_config. When loading, the custom mask layer must be passed to the custom_objects argument.\n",
      "  warnings.warn('Custom mask layers require a config and must override '\n"
     ]
    },
    {
     "name": "stdout",
     "output_type": "stream",
     "text": [
      "Epoch 113/300\n",
      "591/591 [==============================] - 50s 85ms/step - loss: 0.1695 - val_loss: 0.1684\n",
      "Epoch 114/300\n",
      "591/591 [==============================] - 49s 82ms/step - loss: 0.1754 - val_loss: 0.1682\n",
      "Epoch 115/300\n",
      "591/591 [==============================] - 48s 81ms/step - loss: 0.1640 - val_loss: 0.1803\n",
      "Epoch 116/300\n",
      "591/591 [==============================] - 49s 82ms/step - loss: 0.1693 - val_loss: 0.2028\n",
      "Epoch 117/300\n",
      "591/591 [==============================] - 50s 85ms/step - loss: 0.1622 - val_loss: 0.2154\n",
      "Epoch 118/300\n",
      "591/591 [==============================] - 50s 84ms/step - loss: 0.1602 - val_loss: 0.1879\n",
      "Epoch 119/300\n",
      "591/591 [==============================] - 51s 86ms/step - loss: 0.1560 - val_loss: 0.1518\n",
      "Epoch 120/300\n",
      "591/591 [==============================] - 49s 82ms/step - loss: 0.1811 - val_loss: 0.1949\n",
      "Epoch 121/300\n",
      "591/591 [==============================] - 49s 84ms/step - loss: 0.1662 - val_loss: 0.1881\n",
      "Epoch 122/300\n",
      "591/591 [==============================] - 50s 85ms/step - loss: 0.1589 - val_loss: 0.2044\n",
      "Epoch 123/300\n",
      "591/591 [==============================] - 49s 83ms/step - loss: 0.1737 - val_loss: 0.2038\n",
      "Epoch 124/300\n",
      "591/591 [==============================] - 48s 81ms/step - loss: 0.1631 - val_loss: 0.1767\n",
      "Epoch 125/300\n",
      "591/591 [==============================] - 49s 82ms/step - loss: 0.1719 - val_loss: 0.1920\n",
      "Epoch 126/300\n",
      "591/591 [==============================] - 49s 83ms/step - loss: 0.1671 - val_loss: 0.1622\n",
      "Epoch 127/300\n",
      "591/591 [==============================] - 48s 81ms/step - loss: 0.1562 - val_loss: 0.1332\n",
      "INFO:tensorflow:Assets written to: C:\\Users\\24306\\Desktop\\mobilenetv3\\3\\mobilenetv3.ckpt\\assets\n"
     ]
    },
    {
     "name": "stderr",
     "output_type": "stream",
     "text": [
      "C:\\Users\\24306\\.conda\\envs\\keras\\lib\\site-packages\\keras\\utils\\generic_utils.py:494: CustomMaskWarning: Custom mask layers require a config and must override get_config. When loading, the custom mask layer must be passed to the custom_objects argument.\n",
      "  warnings.warn('Custom mask layers require a config and must override '\n"
     ]
    },
    {
     "name": "stdout",
     "output_type": "stream",
     "text": [
      "Epoch 128/300\n",
      "591/591 [==============================] - 51s 87ms/step - loss: 0.1889 - val_loss: 0.1575\n",
      "Epoch 129/300\n",
      "591/591 [==============================] - 50s 85ms/step - loss: 0.1679 - val_loss: 0.1372\n",
      "Epoch 130/300\n",
      "591/591 [==============================] - 50s 85ms/step - loss: 0.1656 - val_loss: 0.1366\n",
      "Epoch 131/300\n",
      "591/591 [==============================] - 50s 84ms/step - loss: 0.1585 - val_loss: 0.1672\n",
      "Epoch 132/300\n",
      "591/591 [==============================] - 49s 83ms/step - loss: 0.1606 - val_loss: 0.1425\n",
      "Epoch 133/300\n",
      "591/591 [==============================] - 51s 87ms/step - loss: 0.1610 - val_loss: 0.1628\n",
      "Epoch 134/300\n",
      "591/591 [==============================] - 50s 84ms/step - loss: 0.1549 - val_loss: 0.1852\n",
      "Epoch 135/300\n",
      "591/591 [==============================] - 49s 84ms/step - loss: 0.1521 - val_loss: 0.1425\n",
      "Epoch 136/300\n",
      "591/591 [==============================] - 50s 84ms/step - loss: 0.1601 - val_loss: 0.1449\n",
      "Epoch 137/300\n",
      "591/591 [==============================] - 50s 85ms/step - loss: 0.1622 - val_loss: 0.1304\n",
      "INFO:tensorflow:Assets written to: C:\\Users\\24306\\Desktop\\mobilenetv3\\3\\mobilenetv3.ckpt\\assets\n"
     ]
    },
    {
     "name": "stderr",
     "output_type": "stream",
     "text": [
      "C:\\Users\\24306\\.conda\\envs\\keras\\lib\\site-packages\\keras\\utils\\generic_utils.py:494: CustomMaskWarning: Custom mask layers require a config and must override get_config. When loading, the custom mask layer must be passed to the custom_objects argument.\n",
      "  warnings.warn('Custom mask layers require a config and must override '\n"
     ]
    },
    {
     "name": "stdout",
     "output_type": "stream",
     "text": [
      "Epoch 138/300\n",
      "591/591 [==============================] - 51s 85ms/step - loss: 0.1490 - val_loss: 0.1423\n",
      "Epoch 139/300\n",
      "591/591 [==============================] - 52s 88ms/step - loss: 0.1548 - val_loss: 0.1600\n",
      "Epoch 140/300\n",
      "591/591 [==============================] - 51s 86ms/step - loss: 0.1585 - val_loss: 0.1588\n",
      "Epoch 141/300\n",
      "591/591 [==============================] - 51s 86ms/step - loss: 0.1667 - val_loss: 0.1862\n",
      "Epoch 142/300\n",
      "591/591 [==============================] - 50s 85ms/step - loss: 0.1720 - val_loss: 0.1636\n",
      "Epoch 143/300\n",
      "591/591 [==============================] - 52s 87ms/step - loss: 0.1568 - val_loss: 0.1956\n",
      "Epoch 144/300\n",
      "591/591 [==============================] - 52s 87ms/step - loss: 0.1577 - val_loss: 0.1973\n",
      "Epoch 145/300\n",
      "591/591 [==============================] - 52s 88ms/step - loss: 0.1467 - val_loss: 0.1632\n",
      "Epoch 146/300\n",
      "591/591 [==============================] - 52s 89ms/step - loss: 0.1471 - val_loss: 0.1283\n",
      "INFO:tensorflow:Assets written to: C:\\Users\\24306\\Desktop\\mobilenetv3\\3\\mobilenetv3.ckpt\\assets\n"
     ]
    },
    {
     "name": "stderr",
     "output_type": "stream",
     "text": [
      "C:\\Users\\24306\\.conda\\envs\\keras\\lib\\site-packages\\keras\\utils\\generic_utils.py:494: CustomMaskWarning: Custom mask layers require a config and must override get_config. When loading, the custom mask layer must be passed to the custom_objects argument.\n",
      "  warnings.warn('Custom mask layers require a config and must override '\n"
     ]
    },
    {
     "name": "stdout",
     "output_type": "stream",
     "text": [
      "Epoch 147/300\n",
      "591/591 [==============================] - 51s 86ms/step - loss: 0.1599 - val_loss: 0.1561\n",
      "Epoch 148/300\n",
      "591/591 [==============================] - 51s 86ms/step - loss: 0.1524 - val_loss: 0.1566\n",
      "Epoch 149/300\n",
      "591/591 [==============================] - 51s 86ms/step - loss: 0.1525 - val_loss: 0.1368\n",
      "Epoch 150/300\n",
      "591/591 [==============================] - 51s 86ms/step - loss: 0.1546 - val_loss: 0.1335\n",
      "Epoch 151/300\n",
      "591/591 [==============================] - 50s 85ms/step - loss: 0.1618 - val_loss: 0.1306\n",
      "Epoch 152/300\n",
      "591/591 [==============================] - 50s 85ms/step - loss: 0.2436 - val_loss: 0.1290\n",
      "Epoch 153/300\n",
      "591/591 [==============================] - 52s 87ms/step - loss: 0.1617 - val_loss: 0.1661\n",
      "Epoch 154/300\n",
      "591/591 [==============================] - 51s 87ms/step - loss: 0.1942 - val_loss: 0.1501\n",
      "Epoch 155/300\n",
      "591/591 [==============================] - 51s 86ms/step - loss: 0.1596 - val_loss: 0.1634\n",
      "Epoch 156/300\n",
      "591/591 [==============================] - 52s 87ms/step - loss: 0.1533 - val_loss: 0.1825\n",
      "Epoch 157/300\n",
      "591/591 [==============================] - 53s 89ms/step - loss: 0.1486 - val_loss: 0.1340\n",
      "Epoch 158/300\n",
      "591/591 [==============================] - 51s 87ms/step - loss: 0.1528 - val_loss: 0.1557\n",
      "Epoch 159/300\n",
      "591/591 [==============================] - 51s 87ms/step - loss: 0.1499 - val_loss: 0.1725\n",
      "Epoch 160/300\n",
      "591/591 [==============================] - 52s 88ms/step - loss: 0.1568 - val_loss: 0.1931\n",
      "Epoch 161/300\n",
      "591/591 [==============================] - 52s 87ms/step - loss: 0.1614 - val_loss: 0.1845\n",
      "Epoch 162/300\n",
      "591/591 [==============================] - 51s 86ms/step - loss: 0.1605 - val_loss: 0.1435\n",
      "Epoch 163/300\n",
      "591/591 [==============================] - 52s 88ms/step - loss: 0.1575 - val_loss: 0.1653\n",
      "Epoch 164/300\n",
      "591/591 [==============================] - 51s 87ms/step - loss: 0.1524 - val_loss: 0.1723\n",
      "Epoch 165/300\n",
      "591/591 [==============================] - 51s 86ms/step - loss: 0.1530 - val_loss: 0.1537\n",
      "Epoch 166/300\n",
      "591/591 [==============================] - 51s 87ms/step - loss: 0.1476 - val_loss: 0.1376\n",
      "Epoch 167/300\n",
      "591/591 [==============================] - 51s 86ms/step - loss: 0.1527 - val_loss: 0.1465\n",
      "Epoch 168/300\n",
      "591/591 [==============================] - 51s 87ms/step - loss: 0.1475 - val_loss: 0.1313\n",
      "Epoch 169/300\n",
      "591/591 [==============================] - 51s 87ms/step - loss: 0.1470 - val_loss: 0.1487\n",
      "Epoch 170/300\n",
      "591/591 [==============================] - 51s 87ms/step - loss: 0.1588 - val_loss: 0.1630\n",
      "Epoch 171/300\n",
      "591/591 [==============================] - 51s 86ms/step - loss: 0.1754 - val_loss: 0.1540\n",
      "Epoch 172/300\n",
      "591/591 [==============================] - 51s 86ms/step - loss: 0.1526 - val_loss: 0.1635\n",
      "Epoch 173/300\n",
      "591/591 [==============================] - 51s 87ms/step - loss: 0.1507 - val_loss: 0.1396\n",
      "Epoch 174/300\n",
      "591/591 [==============================] - 51s 86ms/step - loss: 0.1487 - val_loss: 0.1339\n",
      "Epoch 175/300\n",
      "591/591 [==============================] - 51s 87ms/step - loss: 0.1493 - val_loss: 0.1407\n",
      "Epoch 176/300\n",
      "591/591 [==============================] - 51s 86ms/step - loss: 0.1527 - val_loss: 0.1618\n",
      "Epoch 177/300\n",
      "591/591 [==============================] - 51s 86ms/step - loss: 0.1506 - val_loss: 0.1761\n",
      "Epoch 178/300\n",
      "591/591 [==============================] - 51s 87ms/step - loss: 0.1473 - val_loss: 0.1421\n",
      "Epoch 179/300\n",
      "591/591 [==============================] - 51s 86ms/step - loss: 0.1495 - val_loss: 0.1334\n",
      "Epoch 180/300\n",
      "591/591 [==============================] - 51s 87ms/step - loss: 0.1572 - val_loss: 0.1574\n",
      "Epoch 181/300\n",
      "591/591 [==============================] - 51s 87ms/step - loss: 0.1546 - val_loss: 0.1483\n",
      "Epoch 182/300\n",
      "591/591 [==============================] - 51s 86ms/step - loss: 0.1525 - val_loss: 0.1597\n",
      "Epoch 183/300\n",
      "591/591 [==============================] - 51s 87ms/step - loss: 0.1441 - val_loss: 0.1348\n",
      "Epoch 184/300\n",
      "591/591 [==============================] - 52s 87ms/step - loss: 0.1467 - val_loss: 0.1471\n",
      "Epoch 185/300\n",
      "591/591 [==============================] - 51s 87ms/step - loss: 0.1471 - val_loss: 0.1522\n",
      "Epoch 186/300\n",
      "591/591 [==============================] - 52s 87ms/step - loss: 0.1537 - val_loss: 0.1501\n",
      "Epoch 187/300\n",
      "591/591 [==============================] - 52s 88ms/step - loss: 0.1520 - val_loss: 0.1565\n",
      "Epoch 188/300\n",
      "591/591 [==============================] - 52s 87ms/step - loss: 0.1439 - val_loss: 0.1603\n",
      "Epoch 189/300\n",
      "591/591 [==============================] - 52s 88ms/step - loss: 0.1401 - val_loss: 0.1494\n",
      "Epoch 190/300\n",
      "591/591 [==============================] - 52s 88ms/step - loss: 0.1394 - val_loss: 0.1417\n",
      "Epoch 191/300\n",
      "591/591 [==============================] - 52s 88ms/step - loss: 0.1579 - val_loss: 0.1567\n",
      "Epoch 192/300\n",
      "591/591 [==============================] - 52s 88ms/step - loss: 0.1493 - val_loss: 0.1674\n",
      "Epoch 193/300\n",
      "591/591 [==============================] - 52s 88ms/step - loss: 0.1450 - val_loss: 0.1310\n",
      "Epoch 194/300\n",
      "591/591 [==============================] - 52s 89ms/step - loss: 0.1507 - val_loss: 0.1308\n",
      "Epoch 195/300\n",
      "591/591 [==============================] - 52s 88ms/step - loss: 0.1456 - val_loss: 0.1361\n",
      "Epoch 196/300\n",
      "591/591 [==============================] - 52s 88ms/step - loss: 0.1541 - val_loss: 0.1619\n",
      "Epoch 197/300\n",
      "591/591 [==============================] - 52s 89ms/step - loss: 0.1411 - val_loss: 0.1615\n",
      "Epoch 198/300\n",
      "591/591 [==============================] - 53s 89ms/step - loss: 0.1459 - val_loss: 0.1320\n",
      "Epoch 199/300\n",
      "591/591 [==============================] - 53s 89ms/step - loss: 0.1453 - val_loss: 0.1299\n",
      "Epoch 200/300\n",
      "591/591 [==============================] - 53s 90ms/step - loss: 0.1428 - val_loss: 0.1357\n",
      "Epoch 201/300\n",
      "591/591 [==============================] - 53s 90ms/step - loss: 0.1485 - val_loss: 0.1325\n",
      "Epoch 202/300\n",
      "591/591 [==============================] - 53s 89ms/step - loss: 0.1380 - val_loss: 0.1512\n",
      "Epoch 203/300\n",
      "591/591 [==============================] - 53s 89ms/step - loss: 0.1514 - val_loss: 0.1517\n",
      "Epoch 204/300\n",
      "591/591 [==============================] - 53s 89ms/step - loss: 0.1436 - val_loss: 0.1409\n",
      "Epoch 205/300\n",
      "591/591 [==============================] - 53s 90ms/step - loss: 0.1571 - val_loss: 0.1466\n",
      "Epoch 206/300\n",
      "591/591 [==============================] - 53s 90ms/step - loss: 0.1369 - val_loss: 0.1646\n",
      "Epoch 207/300\n",
      "591/591 [==============================] - 53s 90ms/step - loss: 0.1388 - val_loss: 0.1337\n",
      "Epoch 208/300\n",
      "591/591 [==============================] - 53s 90ms/step - loss: 0.1397 - val_loss: 0.1523\n",
      "Epoch 209/300\n",
      "591/591 [==============================] - 53s 90ms/step - loss: 0.1458 - val_loss: 0.1415\n",
      "Epoch 210/300\n",
      "591/591 [==============================] - 53s 90ms/step - loss: 0.1423 - val_loss: 0.1353\n",
      "Epoch 211/300\n",
      "591/591 [==============================] - 53s 90ms/step - loss: 0.1336 - val_loss: 0.1383\n",
      "Epoch 212/300\n",
      "591/591 [==============================] - 53s 90ms/step - loss: 0.1436 - val_loss: 0.1329\n",
      "Epoch 213/300\n",
      "591/591 [==============================] - 53s 90ms/step - loss: 0.1481 - val_loss: 0.1534\n",
      "Epoch 214/300\n",
      "591/591 [==============================] - 53s 90ms/step - loss: 0.1463 - val_loss: 0.1461\n",
      "Epoch 215/300\n",
      "591/591 [==============================] - 53s 90ms/step - loss: 0.1388 - val_loss: 0.1505\n",
      "Epoch 216/300\n",
      "591/591 [==============================] - 54s 90ms/step - loss: 0.1421 - val_loss: 0.1547\n",
      "Epoch 217/300\n",
      "591/591 [==============================] - 54s 91ms/step - loss: 0.1340 - val_loss: 0.1232\n",
      "INFO:tensorflow:Assets written to: C:\\Users\\24306\\Desktop\\mobilenetv3\\3\\mobilenetv3.ckpt\\assets\n"
     ]
    },
    {
     "name": "stderr",
     "output_type": "stream",
     "text": [
      "C:\\Users\\24306\\.conda\\envs\\keras\\lib\\site-packages\\keras\\utils\\generic_utils.py:494: CustomMaskWarning: Custom mask layers require a config and must override get_config. When loading, the custom mask layer must be passed to the custom_objects argument.\n",
      "  warnings.warn('Custom mask layers require a config and must override '\n"
     ]
    },
    {
     "name": "stdout",
     "output_type": "stream",
     "text": [
      "Epoch 218/300\n",
      "591/591 [==============================] - 53s 90ms/step - loss: 0.1376 - val_loss: 0.1259\n",
      "Epoch 219/300\n",
      "591/591 [==============================] - 53s 90ms/step - loss: 0.1399 - val_loss: 0.1371\n",
      "Epoch 220/300\n",
      "591/591 [==============================] - 53s 90ms/step - loss: 0.1477 - val_loss: 0.1507\n",
      "Epoch 221/300\n",
      "591/591 [==============================] - 53s 90ms/step - loss: 0.1423 - val_loss: 0.1155\n",
      "INFO:tensorflow:Assets written to: C:\\Users\\24306\\Desktop\\mobilenetv3\\3\\mobilenetv3.ckpt\\assets\n"
     ]
    },
    {
     "name": "stderr",
     "output_type": "stream",
     "text": [
      "C:\\Users\\24306\\.conda\\envs\\keras\\lib\\site-packages\\keras\\utils\\generic_utils.py:494: CustomMaskWarning: Custom mask layers require a config and must override get_config. When loading, the custom mask layer must be passed to the custom_objects argument.\n",
      "  warnings.warn('Custom mask layers require a config and must override '\n"
     ]
    },
    {
     "name": "stdout",
     "output_type": "stream",
     "text": [
      "Epoch 222/300\n",
      "591/591 [==============================] - 56s 94ms/step - loss: 0.1397 - val_loss: 0.1590\n",
      "Epoch 223/300\n",
      "591/591 [==============================] - 55s 93ms/step - loss: 0.1315 - val_loss: 0.1437\n",
      "Epoch 224/300\n",
      "591/591 [==============================] - 55s 94ms/step - loss: 0.1396 - val_loss: 0.1250\n",
      "Epoch 225/300\n",
      "591/591 [==============================] - 55s 93ms/step - loss: 0.1416 - val_loss: 0.1322\n",
      "Epoch 226/300\n",
      "591/591 [==============================] - 55s 94ms/step - loss: 0.1383 - val_loss: 0.1368\n",
      "Epoch 227/300\n",
      "591/591 [==============================] - 56s 94ms/step - loss: 0.1433 - val_loss: 0.1355\n",
      "Epoch 228/300\n",
      "591/591 [==============================] - 56s 94ms/step - loss: 0.1410 - val_loss: 0.1302\n",
      "Epoch 229/300\n",
      "591/591 [==============================] - 56s 94ms/step - loss: 0.1383 - val_loss: 0.1266\n",
      "Epoch 230/300\n",
      "591/591 [==============================] - 56s 94ms/step - loss: 0.1465 - val_loss: 0.1309\n",
      "Epoch 231/300\n",
      "591/591 [==============================] - 55s 94ms/step - loss: 0.1434 - val_loss: 0.1607\n",
      "Epoch 232/300\n",
      "591/591 [==============================] - 56s 94ms/step - loss: 0.1340 - val_loss: 0.1255\n",
      "Epoch 233/300\n",
      "591/591 [==============================] - 56s 94ms/step - loss: 0.1424 - val_loss: 0.1261\n",
      "Epoch 234/300\n",
      "591/591 [==============================] - 56s 94ms/step - loss: 0.1352 - val_loss: 0.1326\n",
      "Epoch 235/300\n",
      "591/591 [==============================] - 56s 94ms/step - loss: 0.1370 - val_loss: 0.1218\n",
      "Epoch 236/300\n",
      "591/591 [==============================] - 56s 94ms/step - loss: 0.2630 - val_loss: 0.1287\n",
      "Epoch 237/300\n",
      "591/591 [==============================] - 56s 94ms/step - loss: 0.1437 - val_loss: 0.1209\n",
      "Epoch 238/300\n",
      "591/591 [==============================] - 56s 94ms/step - loss: 0.1377 - val_loss: 0.1423\n",
      "Epoch 239/300\n",
      "591/591 [==============================] - 56s 95ms/step - loss: 0.1383 - val_loss: 0.1446\n",
      "Epoch 240/300\n",
      "591/591 [==============================] - 57s 97ms/step - loss: 0.1390 - val_loss: 0.1433\n",
      "Epoch 241/300\n",
      "591/591 [==============================] - 56s 95ms/step - loss: 0.1455 - val_loss: 0.1501\n",
      "Epoch 242/300\n",
      "591/591 [==============================] - 57s 96ms/step - loss: 0.1377 - val_loss: 0.1297\n",
      "Epoch 243/300\n",
      "591/591 [==============================] - 56s 95ms/step - loss: 0.1310 - val_loss: 0.1333\n",
      "Epoch 244/300\n",
      "591/591 [==============================] - 57s 96ms/step - loss: 0.1519 - val_loss: 0.1461\n",
      "Epoch 245/300\n",
      "591/591 [==============================] - 56s 95ms/step - loss: 0.1325 - val_loss: 0.1439\n",
      "Epoch 246/300\n",
      "591/591 [==============================] - 56s 95ms/step - loss: 0.1305 - val_loss: 0.1382\n",
      "Epoch 247/300\n",
      "591/591 [==============================] - 56s 95ms/step - loss: 0.1294 - val_loss: 0.1574\n",
      "Epoch 248/300\n",
      "591/591 [==============================] - 56s 94ms/step - loss: 0.1359 - val_loss: 0.1339\n",
      "Epoch 249/300\n",
      "591/591 [==============================] - 56s 95ms/step - loss: 0.1454 - val_loss: 0.1413\n",
      "Epoch 250/300\n",
      "591/591 [==============================] - 56s 94ms/step - loss: 0.1402 - val_loss: 0.1270\n",
      "Epoch 251/300\n",
      "591/591 [==============================] - 56s 94ms/step - loss: 0.1342 - val_loss: 0.1257\n",
      "Epoch 252/300\n",
      "591/591 [==============================] - 56s 95ms/step - loss: 0.1264 - val_loss: 0.1239\n",
      "Epoch 253/300\n",
      "591/591 [==============================] - 56s 95ms/step - loss: 0.1402 - val_loss: 0.1573\n",
      "Epoch 254/300\n",
      "591/591 [==============================] - 56s 95ms/step - loss: 0.1321 - val_loss: 0.1511\n",
      "Epoch 255/300\n",
      "591/591 [==============================] - 56s 94ms/step - loss: 0.1356 - val_loss: 0.1483\n",
      "Epoch 256/300\n",
      "591/591 [==============================] - 56s 94ms/step - loss: 0.1456 - val_loss: 0.1359\n",
      "Epoch 257/300\n",
      "591/591 [==============================] - 56s 95ms/step - loss: 0.1378 - val_loss: 0.1282\n",
      "Epoch 258/300\n",
      "591/591 [==============================] - 56s 95ms/step - loss: 0.1309 - val_loss: 0.1454\n",
      "Epoch 259/300\n",
      "591/591 [==============================] - 56s 95ms/step - loss: 0.1330 - val_loss: 0.1209\n",
      "Epoch 260/300\n",
      "591/591 [==============================] - 56s 95ms/step - loss: 0.1370 - val_loss: 0.1237\n",
      "Epoch 261/300\n",
      "591/591 [==============================] - 56s 95ms/step - loss: 0.1273 - val_loss: 0.1388\n",
      "Epoch 262/300\n",
      "591/591 [==============================] - 56s 95ms/step - loss: 0.1372 - val_loss: 0.1265\n",
      "Epoch 263/300\n",
      "591/591 [==============================] - 56s 95ms/step - loss: 0.1292 - val_loss: 0.1230\n",
      "Epoch 264/300\n",
      "591/591 [==============================] - 56s 95ms/step - loss: 0.1411 - val_loss: 0.1225\n",
      "Epoch 265/300\n",
      "591/591 [==============================] - 57s 96ms/step - loss: 0.1348 - val_loss: 0.1344\n",
      "Epoch 266/300\n",
      "591/591 [==============================] - 57s 96ms/step - loss: 0.1327 - val_loss: 0.1536\n",
      "Epoch 267/300\n",
      "591/591 [==============================] - 56s 95ms/step - loss: 0.1351 - val_loss: 0.1223\n",
      "Epoch 268/300\n",
      "591/591 [==============================] - 57s 96ms/step - loss: 0.1323 - val_loss: 0.1469\n",
      "Epoch 269/300\n",
      "591/591 [==============================] - 57s 96ms/step - loss: 0.1391 - val_loss: 0.1289\n",
      "Epoch 270/300\n",
      "591/591 [==============================] - 57s 97ms/step - loss: 0.1336 - val_loss: 0.1318\n",
      "Epoch 271/300\n",
      "591/591 [==============================] - 57s 96ms/step - loss: 0.1462 - val_loss: 0.1294\n",
      "Epoch 272/300\n",
      "591/591 [==============================] - 57s 97ms/step - loss: 0.1295 - val_loss: 0.1270\n",
      "Epoch 273/300\n",
      "591/591 [==============================] - 57s 96ms/step - loss: 0.1311 - val_loss: 0.1352\n",
      "Epoch 274/300\n",
      "591/591 [==============================] - 57s 97ms/step - loss: 0.1409 - val_loss: 0.1384\n",
      "Epoch 275/300\n",
      "591/591 [==============================] - 57s 96ms/step - loss: 0.1300 - val_loss: 0.1307\n",
      "Epoch 276/300\n",
      "591/591 [==============================] - 57s 96ms/step - loss: 0.1242 - val_loss: 0.1294\n",
      "Epoch 277/300\n",
      "591/591 [==============================] - 57s 97ms/step - loss: 0.1324 - val_loss: 0.1252\n",
      "Epoch 278/300\n",
      "591/591 [==============================] - 58s 97ms/step - loss: 0.1380 - val_loss: 0.1260\n",
      "Epoch 279/300\n",
      "591/591 [==============================] - 57s 97ms/step - loss: 0.1354 - val_loss: 0.1395\n",
      "Epoch 280/300\n",
      "591/591 [==============================] - 57s 97ms/step - loss: 0.1398 - val_loss: 0.1406\n",
      "Epoch 281/300\n",
      "591/591 [==============================] - 57s 96ms/step - loss: 0.1286 - val_loss: 0.1475\n",
      "Epoch 282/300\n",
      "591/591 [==============================] - 57s 97ms/step - loss: 0.1249 - val_loss: 0.1308\n",
      "Epoch 283/300\n",
      "591/591 [==============================] - 57s 97ms/step - loss: 0.1378 - val_loss: 0.1511\n",
      "Epoch 284/300\n",
      "591/591 [==============================] - 58s 97ms/step - loss: 0.1304 - val_loss: 0.1343\n",
      "Epoch 285/300\n",
      "591/591 [==============================] - 58s 97ms/step - loss: 0.1296 - val_loss: 0.1467\n",
      "Epoch 286/300\n",
      "591/591 [==============================] - 58s 98ms/step - loss: 0.1299 - val_loss: 0.1303\n",
      "Epoch 287/300\n",
      "591/591 [==============================] - 58s 98ms/step - loss: 0.1269 - val_loss: 0.1181\n",
      "Epoch 288/300\n",
      "591/591 [==============================] - 59s 100ms/step - loss: 0.1298 - val_loss: 0.1314\n",
      "Epoch 289/300\n",
      "591/591 [==============================] - 58s 99ms/step - loss: 0.1367 - val_loss: 0.1295\n",
      "Epoch 290/300\n",
      "591/591 [==============================] - 58s 99ms/step - loss: 0.1315 - val_loss: 0.1269\n",
      "Epoch 291/300\n",
      "591/591 [==============================] - 59s 99ms/step - loss: 0.1257 - val_loss: 0.1376\n",
      "Epoch 292/300\n",
      "591/591 [==============================] - 59s 100ms/step - loss: 0.1243 - val_loss: 0.1238\n",
      "Epoch 293/300\n",
      "591/591 [==============================] - 58s 99ms/step - loss: 0.1330 - val_loss: 0.1209\n",
      "Epoch 294/300\n",
      "591/591 [==============================] - 58s 98ms/step - loss: 0.1358 - val_loss: 0.1257\n",
      "Epoch 295/300\n",
      "591/591 [==============================] - 59s 99ms/step - loss: 0.1345 - val_loss: 0.1371\n",
      "Epoch 296/300\n",
      "591/591 [==============================] - 59s 100ms/step - loss: 0.1233 - val_loss: 0.1381\n",
      "Epoch 297/300\n",
      "591/591 [==============================] - 59s 100ms/step - loss: 0.1313 - val_loss: 0.1366\n",
      "Epoch 298/300\n",
      "591/591 [==============================] - 59s 100ms/step - loss: 0.1285 - val_loss: 0.1365\n",
      "Epoch 299/300\n",
      "591/591 [==============================] - 59s 100ms/step - loss: 0.1242 - val_loss: 0.1216\n"
     ]
    },
    {
     "name": "stdout",
     "output_type": "stream",
     "text": [
      "Epoch 300/300\n",
      "591/591 [==============================] - 58s 99ms/step - loss: 0.1306 - val_loss: 0.1417\n",
      "end time: Sun Apr  2 15:01:43 2023\n"
     ]
    }
   ],
   "source": [
    "print ('start time:',time.asctime( time.localtime(time.time()) ))\n",
    "model.compile(optimizer=keras.optimizers.Adam(learning_rate=0.001, beta_1=0.9, beta_2=0.999, epsilon=1e-07, decay=0.01),loss='mse')\n",
    "\n",
    "cp_callback = tf.keras.callbacks.ModelCheckpoint(checkpoint_path,save_best_only=True,monitor='val_loss')\n",
    "history = model.fit(train_data,\n",
    "                    steps_per_epoch=train_count//BATCH_SIZE,\n",
    "                    epochs=300,\n",
    "                    validation_data=test_data,\n",
    "                    validation_steps=test_count//BATCH_SIZE,\n",
    "                   callbacks=[cp_callback])\n",
    "np.savetxt('mobilenetv3_loss3.txt',history.history['loss'])\n",
    "#np.savetxt('DenseNet201_acc.txt',history.history['acc'])\n",
    "np.savetxt('mobilenetv3_val_loss3.txt',history.history['val_loss'])\n",
    "#np.savetxt('DenseNet201_val_acc.txt',history.history['val_acc'])\n",
    "print ('end time:',time.asctime( time.localtime(time.time()) ))"
   ]
  },
  {
   "cell_type": "code",
   "execution_count": null,
   "metadata": {},
   "outputs": [],
   "source": []
  },
  {
   "cell_type": "code",
   "execution_count": null,
   "metadata": {},
   "outputs": [],
   "source": []
  }
 ],
 "metadata": {
  "kernelspec": {
   "display_name": "Python 3",
   "language": "python",
   "name": "python3"
  },
  "language_info": {
   "codemirror_mode": {
    "name": "ipython",
    "version": 3
   },
   "file_extension": ".py",
   "mimetype": "text/x-python",
   "name": "python",
   "nbconvert_exporter": "python",
   "pygments_lexer": "ipython3",
   "version": "3.6.5"
  }
 },
 "nbformat": 4,
 "nbformat_minor": 2
}
