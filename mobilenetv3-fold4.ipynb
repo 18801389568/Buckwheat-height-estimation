{
 "cells": [
  {
   "cell_type": "code",
   "execution_count": 1,
   "metadata": {},
   "outputs": [],
   "source": [
    "import tensorflow as tf\n",
    "from tensorflow import keras\n",
    "import matplotlib.pyplot as plt\n",
    "%matplotlib inline\n",
    "import numpy as np\n",
    "import pathlib\n",
    "import random\n",
    "import glob\n",
    "import os\n",
    "from tensorflow.compat.v1 import ConfigProto\n",
    "from tensorflow.compat.v1 import InteractiveSession\n",
    "from tensorflow.keras.applications import MobileNetV3Small\n",
    "import time\n",
    "keras = tf.keras\n",
    "layers = tf.keras.layers\n",
    "config = ConfigProto()\n",
    "config.gpu_options.allow_growth = True\n",
    "session = InteractiveSession(config=config)"
   ]
  },
  {
   "cell_type": "code",
   "execution_count": 2,
   "metadata": {},
   "outputs": [],
   "source": [
    "def load_and_preprocess_image(path):\n",
    "    image = tf.io.read_file(path)\n",
    "    image = tf.image.decode_jpeg(image, channels=3)\n",
    "    image = tf.image.resize(image, [224, 224])\n",
    "    image = tf.cast(image, tf.float32)\n",
    "    image = image/255.0  # normalize to [0,1] range\n",
    "    image = 2*image-1\n",
    "    return image"
   ]
  },
  {
   "cell_type": "code",
   "execution_count": 3,
   "metadata": {},
   "outputs": [],
   "source": [
    "train_dir = r'C:\\Users\\24306\\Desktop\\datasets\\kfold\\4\\train'\n",
    "test_dir  = r'C:\\Users\\24306\\Desktop\\datasets\\kfold\\4\\test'\n",
    "checkpoint_path = r'C:\\Users\\24306\\Desktop\\mobilenetv3\\4\\mobilenetv3.ckpt'"
   ]
  },
  {
   "cell_type": "markdown",
   "metadata": {},
   "source": [
    "# 处理训练数据"
   ]
  },
  {
   "cell_type": "code",
   "execution_count": 4,
   "metadata": {},
   "outputs": [
    {
     "name": "stdout",
     "output_type": "stream",
     "text": [
      "18944\n"
     ]
    }
   ],
   "source": [
    "#打乱顺序\n",
    "train_root = pathlib.Path(train_dir)\n",
    "train_image_paths = list(train_root.glob('*/*'))\n",
    "train_image_paths = [str(path) for path in train_image_paths]\n",
    "random.shuffle(train_image_paths)\n",
    "#处理训练标签\n",
    "train_image_labels = [pathlib.Path(path).parent.name for path in train_image_paths]\n",
    "train_labels = [[label.split('_')[0]] for label in train_image_labels]\n",
    "new_train_labels=[]\n",
    "for n in train_labels:\n",
    "    new_train_labels.append(float(n[0]));  \n",
    "train_labels=new_train_labels\n",
    "#print(train_labels)\n",
    "#处理训练图像\n",
    "train_path_ds = tf.data.Dataset.from_tensor_slices(train_image_paths)\n",
    "AUTOTUNE = tf.data.experimental.AUTOTUNE\n",
    "train_image_ds = train_path_ds.map(load_and_preprocess_image, num_parallel_calls=AUTOTUNE)\n",
    "train_label_ds = tf.data.Dataset.from_tensor_slices(train_labels)\n",
    "train_image_label_ds = tf.data.Dataset.zip((train_image_ds, train_label_ds))\n",
    "# image_count = len(all_image_paths)\n",
    "\n",
    "# test_count = int(image_count*0.2)\n",
    "train_count = len(train_image_paths)\n",
    "# train_data = image_label_ds.skip(test_count)\n",
    "# test_data = image_label_ds.take(test_count)\n",
    "\n",
    "BATCH_SIZE = 32\n",
    "train_data = train_image_label_ds.shuffle(buffer_size=train_count).repeat(-1)\n",
    "train_data = train_data.batch(BATCH_SIZE)\n",
    "train_data = train_data.prefetch(buffer_size=AUTOTUNE)\n",
    "\n",
    "#test_data = test_data.batch(BATCH_SIZE)\n",
    "print(len(train_image_label_ds))\n",
    "\n"
   ]
  },
  {
   "cell_type": "markdown",
   "metadata": {},
   "source": [
    "# 处理验证数据"
   ]
  },
  {
   "cell_type": "code",
   "execution_count": 5,
   "metadata": {},
   "outputs": [
    {
     "name": "stdout",
     "output_type": "stream",
     "text": [
      "4720\n"
     ]
    }
   ],
   "source": [
    "#打乱顺序\n",
    "test_root = pathlib.Path(test_dir)\n",
    "test_image_paths = list(test_root.glob('*/*'))\n",
    "test_image_paths = [str(path) for path in test_image_paths]\n",
    "#random.shuffle(train_image_paths)\n",
    "#处理训练标签\n",
    "test_image_labels = [pathlib.Path(path).parent.name for path in test_image_paths]\n",
    "test_labels = [[label.split('_')[0]] for label in test_image_labels]\n",
    "new_test_labels=[]\n",
    "for n in test_labels:\n",
    "    new_test_labels.append(float(n[0]));  \n",
    "test_labels=new_test_labels\n",
    "#print(test_labels)\n",
    "#处理训练图像\n",
    "test_path_ds = tf.data.Dataset.from_tensor_slices(test_image_paths)\n",
    "AUTOTUNE = tf.data.experimental.AUTOTUNE\n",
    "test_image_ds = test_path_ds.map(load_and_preprocess_image, num_parallel_calls=AUTOTUNE)\n",
    "test_label_ds = tf.data.Dataset.from_tensor_slices(test_labels)\n",
    "test_image_label_ds = tf.data.Dataset.zip((test_image_ds, test_label_ds))\n",
    "# image_count = len(all_image_paths)\n",
    "\n",
    "# test_count = int(image_count*0.2)\n",
    "test_count = len(test_image_paths)\n",
    "# train_data = image_label_ds.skip(test_count)\n",
    "# test_data = image_label_ds.take(test_count)\n",
    "\n",
    "BATCH_SIZE = 32\n",
    "test_data = test_image_label_ds.shuffle(buffer_size=test_count).repeat(-1)\n",
    "test_data = test_data.batch(BATCH_SIZE)\n",
    "test_data = test_data.prefetch(buffer_size=AUTOTUNE)\n",
    "\n",
    "#test_data = test_data.batch(BATCH_SIZE)\n",
    "print(len(test_image_label_ds))"
   ]
  },
  {
   "cell_type": "code",
   "execution_count": 6,
   "metadata": {},
   "outputs": [
    {
     "name": "stdout",
     "output_type": "stream",
     "text": [
      "Model: \"model\"\n",
      "_________________________________________________________________\n",
      "Layer (type)                 Output Shape              Param #   \n",
      "=================================================================\n",
      "input_2 (InputLayer)         [(None, 224, 224, 3)]     0         \n",
      "_________________________________________________________________\n",
      "MobilenetV3small (Functional (None, 1, 1, 1024)        1529968   \n",
      "_________________________________________________________________\n",
      "global_average_pooling2d_1 ( (None, 1024)              0         \n",
      "_________________________________________________________________\n",
      "out_weight (Dense)           (None, 1)                 1025      \n",
      "=================================================================\n",
      "Total params: 1,530,993\n",
      "Trainable params: 1,518,881\n",
      "Non-trainable params: 12,112\n",
      "_________________________________________________________________\n"
     ]
    }
   ],
   "source": [
    "MobileNetV3 = MobileNetV3Small(weights='imagenet',include_top=False,input_shape=(224, 224, 3))\n",
    "MobileNetV3.trainable = True\n",
    "inputs = tf.keras.Input(shape=(224, 224, 3))\n",
    "x = MobileNetV3(inputs)\n",
    "x = tf.keras.layers.GlobalAveragePooling2D()(x)\n",
    "out_weight = tf.keras.layers.Dense(1,name='out_weight')(x)\n",
    "\n",
    "model = tf.keras.Model(inputs=inputs,\n",
    "                       outputs=[out_weight])\n",
    "model.summary()"
   ]
  },
  {
   "cell_type": "code",
   "execution_count": 7,
   "metadata": {
    "scrolled": true
   },
   "outputs": [
    {
     "name": "stdout",
     "output_type": "stream",
     "text": [
      "start time: Sun Apr  2 17:02:56 2023\n",
      "Epoch 1/300\n",
      "592/592 [==============================] - 38s 46ms/step - loss: 40.8279 - val_loss: 2510.5525\n",
      "INFO:tensorflow:Assets written to: C:\\Users\\24306\\Desktop\\mobilenetv3\\4\\mobilenetv3.ckpt\\assets\n"
     ]
    },
    {
     "name": "stderr",
     "output_type": "stream",
     "text": [
      "C:\\Users\\24306\\.conda\\envs\\keras\\lib\\site-packages\\keras\\utils\\generic_utils.py:494: CustomMaskWarning: Custom mask layers require a config and must override get_config. When loading, the custom mask layer must be passed to the custom_objects argument.\n",
      "  warnings.warn('Custom mask layers require a config and must override '\n"
     ]
    },
    {
     "name": "stdout",
     "output_type": "stream",
     "text": [
      "Epoch 2/300\n",
      "592/592 [==============================] - 29s 48ms/step - loss: 3.0563 - val_loss: 2417.0759\n",
      "INFO:tensorflow:Assets written to: C:\\Users\\24306\\Desktop\\mobilenetv3\\4\\mobilenetv3.ckpt\\assets\n"
     ]
    },
    {
     "name": "stderr",
     "output_type": "stream",
     "text": [
      "C:\\Users\\24306\\.conda\\envs\\keras\\lib\\site-packages\\keras\\utils\\generic_utils.py:494: CustomMaskWarning: Custom mask layers require a config and must override get_config. When loading, the custom mask layer must be passed to the custom_objects argument.\n",
      "  warnings.warn('Custom mask layers require a config and must override '\n"
     ]
    },
    {
     "name": "stdout",
     "output_type": "stream",
     "text": [
      "Epoch 3/300\n",
      "592/592 [==============================] - 29s 49ms/step - loss: 1.6506 - val_loss: 2488.4727\n",
      "Epoch 4/300\n",
      "592/592 [==============================] - 29s 48ms/step - loss: 1.3112 - val_loss: 2008.8876\n",
      "INFO:tensorflow:Assets written to: C:\\Users\\24306\\Desktop\\mobilenetv3\\4\\mobilenetv3.ckpt\\assets\n"
     ]
    },
    {
     "name": "stderr",
     "output_type": "stream",
     "text": [
      "C:\\Users\\24306\\.conda\\envs\\keras\\lib\\site-packages\\keras\\utils\\generic_utils.py:494: CustomMaskWarning: Custom mask layers require a config and must override get_config. When loading, the custom mask layer must be passed to the custom_objects argument.\n",
      "  warnings.warn('Custom mask layers require a config and must override '\n"
     ]
    },
    {
     "name": "stdout",
     "output_type": "stream",
     "text": [
      "Epoch 5/300\n",
      "592/592 [==============================] - 30s 50ms/step - loss: 1.0497 - val_loss: 1574.0792\n",
      "INFO:tensorflow:Assets written to: C:\\Users\\24306\\Desktop\\mobilenetv3\\4\\mobilenetv3.ckpt\\assets\n"
     ]
    },
    {
     "name": "stderr",
     "output_type": "stream",
     "text": [
      "C:\\Users\\24306\\.conda\\envs\\keras\\lib\\site-packages\\keras\\utils\\generic_utils.py:494: CustomMaskWarning: Custom mask layers require a config and must override get_config. When loading, the custom mask layer must be passed to the custom_objects argument.\n",
      "  warnings.warn('Custom mask layers require a config and must override '\n"
     ]
    },
    {
     "name": "stdout",
     "output_type": "stream",
     "text": [
      "Epoch 6/300\n",
      "592/592 [==============================] - 31s 53ms/step - loss: 0.8166 - val_loss: 1238.2050\n",
      "INFO:tensorflow:Assets written to: C:\\Users\\24306\\Desktop\\mobilenetv3\\4\\mobilenetv3.ckpt\\assets\n"
     ]
    },
    {
     "name": "stderr",
     "output_type": "stream",
     "text": [
      "C:\\Users\\24306\\.conda\\envs\\keras\\lib\\site-packages\\keras\\utils\\generic_utils.py:494: CustomMaskWarning: Custom mask layers require a config and must override get_config. When loading, the custom mask layer must be passed to the custom_objects argument.\n",
      "  warnings.warn('Custom mask layers require a config and must override '\n"
     ]
    },
    {
     "name": "stdout",
     "output_type": "stream",
     "text": [
      "Epoch 7/300\n",
      "592/592 [==============================] - 32s 54ms/step - loss: 0.7400 - val_loss: 1004.1381\n",
      "INFO:tensorflow:Assets written to: C:\\Users\\24306\\Desktop\\mobilenetv3\\4\\mobilenetv3.ckpt\\assets\n"
     ]
    },
    {
     "name": "stderr",
     "output_type": "stream",
     "text": [
      "C:\\Users\\24306\\.conda\\envs\\keras\\lib\\site-packages\\keras\\utils\\generic_utils.py:494: CustomMaskWarning: Custom mask layers require a config and must override get_config. When loading, the custom mask layer must be passed to the custom_objects argument.\n",
      "  warnings.warn('Custom mask layers require a config and must override '\n"
     ]
    },
    {
     "name": "stdout",
     "output_type": "stream",
     "text": [
      "Epoch 8/300\n",
      "592/592 [==============================] - 32s 53ms/step - loss: 0.6691 - val_loss: 598.9413\n",
      "INFO:tensorflow:Assets written to: C:\\Users\\24306\\Desktop\\mobilenetv3\\4\\mobilenetv3.ckpt\\assets\n"
     ]
    },
    {
     "name": "stderr",
     "output_type": "stream",
     "text": [
      "C:\\Users\\24306\\.conda\\envs\\keras\\lib\\site-packages\\keras\\utils\\generic_utils.py:494: CustomMaskWarning: Custom mask layers require a config and must override get_config. When loading, the custom mask layer must be passed to the custom_objects argument.\n",
      "  warnings.warn('Custom mask layers require a config and must override '\n"
     ]
    },
    {
     "name": "stdout",
     "output_type": "stream",
     "text": [
      "Epoch 9/300\n",
      "592/592 [==============================] - 32s 54ms/step - loss: 0.5911 - val_loss: 280.3218\n",
      "INFO:tensorflow:Assets written to: C:\\Users\\24306\\Desktop\\mobilenetv3\\4\\mobilenetv3.ckpt\\assets\n"
     ]
    },
    {
     "name": "stderr",
     "output_type": "stream",
     "text": [
      "C:\\Users\\24306\\.conda\\envs\\keras\\lib\\site-packages\\keras\\utils\\generic_utils.py:494: CustomMaskWarning: Custom mask layers require a config and must override get_config. When loading, the custom mask layer must be passed to the custom_objects argument.\n",
      "  warnings.warn('Custom mask layers require a config and must override '\n"
     ]
    },
    {
     "name": "stdout",
     "output_type": "stream",
     "text": [
      "Epoch 10/300\n",
      "592/592 [==============================] - 33s 55ms/step - loss: 0.6028 - val_loss: 85.6316\n",
      "INFO:tensorflow:Assets written to: C:\\Users\\24306\\Desktop\\mobilenetv3\\4\\mobilenetv3.ckpt\\assets\n"
     ]
    },
    {
     "name": "stderr",
     "output_type": "stream",
     "text": [
      "C:\\Users\\24306\\.conda\\envs\\keras\\lib\\site-packages\\keras\\utils\\generic_utils.py:494: CustomMaskWarning: Custom mask layers require a config and must override get_config. When loading, the custom mask layer must be passed to the custom_objects argument.\n",
      "  warnings.warn('Custom mask layers require a config and must override '\n"
     ]
    },
    {
     "name": "stdout",
     "output_type": "stream",
     "text": [
      "Epoch 11/300\n",
      "592/592 [==============================] - 32s 54ms/step - loss: 0.5325 - val_loss: 46.6833\n",
      "INFO:tensorflow:Assets written to: C:\\Users\\24306\\Desktop\\mobilenetv3\\4\\mobilenetv3.ckpt\\assets\n"
     ]
    },
    {
     "name": "stderr",
     "output_type": "stream",
     "text": [
      "C:\\Users\\24306\\.conda\\envs\\keras\\lib\\site-packages\\keras\\utils\\generic_utils.py:494: CustomMaskWarning: Custom mask layers require a config and must override get_config. When loading, the custom mask layer must be passed to the custom_objects argument.\n",
      "  warnings.warn('Custom mask layers require a config and must override '\n"
     ]
    },
    {
     "name": "stdout",
     "output_type": "stream",
     "text": [
      "Epoch 12/300\n",
      "592/592 [==============================] - 33s 56ms/step - loss: 0.5228 - val_loss: 11.3441\n",
      "INFO:tensorflow:Assets written to: C:\\Users\\24306\\Desktop\\mobilenetv3\\4\\mobilenetv3.ckpt\\assets\n"
     ]
    },
    {
     "name": "stderr",
     "output_type": "stream",
     "text": [
      "C:\\Users\\24306\\.conda\\envs\\keras\\lib\\site-packages\\keras\\utils\\generic_utils.py:494: CustomMaskWarning: Custom mask layers require a config and must override get_config. When loading, the custom mask layer must be passed to the custom_objects argument.\n",
      "  warnings.warn('Custom mask layers require a config and must override '\n"
     ]
    },
    {
     "name": "stdout",
     "output_type": "stream",
     "text": [
      "Epoch 13/300\n",
      "592/592 [==============================] - 33s 56ms/step - loss: 0.4710 - val_loss: 4.7269\n",
      "INFO:tensorflow:Assets written to: C:\\Users\\24306\\Desktop\\mobilenetv3\\4\\mobilenetv3.ckpt\\assets\n"
     ]
    },
    {
     "name": "stderr",
     "output_type": "stream",
     "text": [
      "C:\\Users\\24306\\.conda\\envs\\keras\\lib\\site-packages\\keras\\utils\\generic_utils.py:494: CustomMaskWarning: Custom mask layers require a config and must override get_config. When loading, the custom mask layer must be passed to the custom_objects argument.\n",
      "  warnings.warn('Custom mask layers require a config and must override '\n"
     ]
    },
    {
     "name": "stdout",
     "output_type": "stream",
     "text": [
      "Epoch 14/300\n",
      "592/592 [==============================] - 33s 55ms/step - loss: 0.4805 - val_loss: 2.4072\n",
      "INFO:tensorflow:Assets written to: C:\\Users\\24306\\Desktop\\mobilenetv3\\4\\mobilenetv3.ckpt\\assets\n"
     ]
    },
    {
     "name": "stderr",
     "output_type": "stream",
     "text": [
      "C:\\Users\\24306\\.conda\\envs\\keras\\lib\\site-packages\\keras\\utils\\generic_utils.py:494: CustomMaskWarning: Custom mask layers require a config and must override get_config. When loading, the custom mask layer must be passed to the custom_objects argument.\n",
      "  warnings.warn('Custom mask layers require a config and must override '\n"
     ]
    },
    {
     "name": "stdout",
     "output_type": "stream",
     "text": [
      "Epoch 15/300\n",
      "592/592 [==============================] - 34s 57ms/step - loss: 0.4378 - val_loss: 2.3218\n",
      "INFO:tensorflow:Assets written to: C:\\Users\\24306\\Desktop\\mobilenetv3\\4\\mobilenetv3.ckpt\\assets\n"
     ]
    },
    {
     "name": "stderr",
     "output_type": "stream",
     "text": [
      "C:\\Users\\24306\\.conda\\envs\\keras\\lib\\site-packages\\keras\\utils\\generic_utils.py:494: CustomMaskWarning: Custom mask layers require a config and must override get_config. When loading, the custom mask layer must be passed to the custom_objects argument.\n",
      "  warnings.warn('Custom mask layers require a config and must override '\n"
     ]
    },
    {
     "name": "stdout",
     "output_type": "stream",
     "text": [
      "Epoch 16/300\n",
      "592/592 [==============================] - 35s 58ms/step - loss: 0.4335 - val_loss: 10.8151\n",
      "Epoch 17/300\n",
      "592/592 [==============================] - 34s 58ms/step - loss: 0.4069 - val_loss: 1.9568\n",
      "INFO:tensorflow:Assets written to: C:\\Users\\24306\\Desktop\\mobilenetv3\\4\\mobilenetv3.ckpt\\assets\n"
     ]
    },
    {
     "name": "stderr",
     "output_type": "stream",
     "text": [
      "C:\\Users\\24306\\.conda\\envs\\keras\\lib\\site-packages\\keras\\utils\\generic_utils.py:494: CustomMaskWarning: Custom mask layers require a config and must override get_config. When loading, the custom mask layer must be passed to the custom_objects argument.\n",
      "  warnings.warn('Custom mask layers require a config and must override '\n"
     ]
    },
    {
     "name": "stdout",
     "output_type": "stream",
     "text": [
      "Epoch 18/300\n",
      "592/592 [==============================] - 34s 58ms/step - loss: 0.3880 - val_loss: 1.3694\n",
      "INFO:tensorflow:Assets written to: C:\\Users\\24306\\Desktop\\mobilenetv3\\4\\mobilenetv3.ckpt\\assets\n"
     ]
    },
    {
     "name": "stderr",
     "output_type": "stream",
     "text": [
      "C:\\Users\\24306\\.conda\\envs\\keras\\lib\\site-packages\\keras\\utils\\generic_utils.py:494: CustomMaskWarning: Custom mask layers require a config and must override get_config. When loading, the custom mask layer must be passed to the custom_objects argument.\n",
      "  warnings.warn('Custom mask layers require a config and must override '\n"
     ]
    },
    {
     "name": "stdout",
     "output_type": "stream",
     "text": [
      "Epoch 19/300\n",
      "592/592 [==============================] - 35s 59ms/step - loss: 0.4189 - val_loss: 1.8551\n",
      "Epoch 20/300\n",
      "592/592 [==============================] - 34s 57ms/step - loss: 0.4304 - val_loss: 0.5057\n",
      "INFO:tensorflow:Assets written to: C:\\Users\\24306\\Desktop\\mobilenetv3\\4\\mobilenetv3.ckpt\\assets\n"
     ]
    },
    {
     "name": "stderr",
     "output_type": "stream",
     "text": [
      "C:\\Users\\24306\\.conda\\envs\\keras\\lib\\site-packages\\keras\\utils\\generic_utils.py:494: CustomMaskWarning: Custom mask layers require a config and must override get_config. When loading, the custom mask layer must be passed to the custom_objects argument.\n",
      "  warnings.warn('Custom mask layers require a config and must override '\n"
     ]
    },
    {
     "name": "stdout",
     "output_type": "stream",
     "text": [
      "Epoch 21/300\n",
      "592/592 [==============================] - 36s 61ms/step - loss: 0.3852 - val_loss: 1.8296\n",
      "Epoch 22/300\n",
      "592/592 [==============================] - 35s 59ms/step - loss: 0.3467 - val_loss: 1.2024\n",
      "Epoch 23/300\n",
      "592/592 [==============================] - 35s 60ms/step - loss: 0.3964 - val_loss: 0.6107\n",
      "Epoch 24/300\n",
      "592/592 [==============================] - 36s 60ms/step - loss: 0.3408 - val_loss: 0.9126\n",
      "Epoch 25/300\n",
      "592/592 [==============================] - 35s 60ms/step - loss: 0.3232 - val_loss: 0.4128\n",
      "INFO:tensorflow:Assets written to: C:\\Users\\24306\\Desktop\\mobilenetv3\\4\\mobilenetv3.ckpt\\assets\n"
     ]
    },
    {
     "name": "stderr",
     "output_type": "stream",
     "text": [
      "C:\\Users\\24306\\.conda\\envs\\keras\\lib\\site-packages\\keras\\utils\\generic_utils.py:494: CustomMaskWarning: Custom mask layers require a config and must override get_config. When loading, the custom mask layer must be passed to the custom_objects argument.\n",
      "  warnings.warn('Custom mask layers require a config and must override '\n"
     ]
    },
    {
     "name": "stdout",
     "output_type": "stream",
     "text": [
      "Epoch 26/300\n",
      "592/592 [==============================] - 37s 61ms/step - loss: 0.3262 - val_loss: 0.8914\n",
      "Epoch 27/300\n",
      "592/592 [==============================] - 36s 60ms/step - loss: 0.3952 - val_loss: 0.6131\n",
      "Epoch 28/300\n",
      "592/592 [==============================] - 35s 60ms/step - loss: 0.2955 - val_loss: 0.4613\n",
      "Epoch 29/300\n",
      "592/592 [==============================] - 36s 60ms/step - loss: 0.3206 - val_loss: 0.3964\n",
      "INFO:tensorflow:Assets written to: C:\\Users\\24306\\Desktop\\mobilenetv3\\4\\mobilenetv3.ckpt\\assets\n"
     ]
    },
    {
     "name": "stderr",
     "output_type": "stream",
     "text": [
      "C:\\Users\\24306\\.conda\\envs\\keras\\lib\\site-packages\\keras\\utils\\generic_utils.py:494: CustomMaskWarning: Custom mask layers require a config and must override get_config. When loading, the custom mask layer must be passed to the custom_objects argument.\n",
      "  warnings.warn('Custom mask layers require a config and must override '\n"
     ]
    },
    {
     "name": "stdout",
     "output_type": "stream",
     "text": [
      "Epoch 30/300\n",
      "592/592 [==============================] - 37s 62ms/step - loss: 0.3409 - val_loss: 0.2634\n",
      "INFO:tensorflow:Assets written to: C:\\Users\\24306\\Desktop\\mobilenetv3\\4\\mobilenetv3.ckpt\\assets\n"
     ]
    },
    {
     "name": "stderr",
     "output_type": "stream",
     "text": [
      "C:\\Users\\24306\\.conda\\envs\\keras\\lib\\site-packages\\keras\\utils\\generic_utils.py:494: CustomMaskWarning: Custom mask layers require a config and must override get_config. When loading, the custom mask layer must be passed to the custom_objects argument.\n",
      "  warnings.warn('Custom mask layers require a config and must override '\n"
     ]
    },
    {
     "name": "stdout",
     "output_type": "stream",
     "text": [
      "Epoch 31/300\n",
      "592/592 [==============================] - 38s 63ms/step - loss: 0.3369 - val_loss: 0.4529\n",
      "Epoch 32/300\n",
      "592/592 [==============================] - 36s 61ms/step - loss: 0.3032 - val_loss: 0.9102\n",
      "Epoch 33/300\n",
      "592/592 [==============================] - 36s 61ms/step - loss: 0.3014 - val_loss: 0.3536\n",
      "Epoch 34/300\n",
      "592/592 [==============================] - 36s 61ms/step - loss: 0.3104 - val_loss: 0.2466\n",
      "INFO:tensorflow:Assets written to: C:\\Users\\24306\\Desktop\\mobilenetv3\\4\\mobilenetv3.ckpt\\assets\n"
     ]
    },
    {
     "name": "stderr",
     "output_type": "stream",
     "text": [
      "C:\\Users\\24306\\.conda\\envs\\keras\\lib\\site-packages\\keras\\utils\\generic_utils.py:494: CustomMaskWarning: Custom mask layers require a config and must override get_config. When loading, the custom mask layer must be passed to the custom_objects argument.\n",
      "  warnings.warn('Custom mask layers require a config and must override '\n"
     ]
    },
    {
     "name": "stdout",
     "output_type": "stream",
     "text": [
      "Epoch 35/300\n",
      "592/592 [==============================] - 37s 62ms/step - loss: 0.3037 - val_loss: 0.2869\n",
      "Epoch 36/300\n",
      "592/592 [==============================] - 36s 61ms/step - loss: 0.3015 - val_loss: 0.2874\n",
      "Epoch 37/300\n",
      "592/592 [==============================] - 37s 62ms/step - loss: 0.2860 - val_loss: 0.3189\n",
      "Epoch 38/300\n",
      "592/592 [==============================] - 37s 62ms/step - loss: 0.3016 - val_loss: 0.3511\n",
      "Epoch 39/300\n",
      "592/592 [==============================] - 36s 61ms/step - loss: 0.2767 - val_loss: 0.2161\n",
      "INFO:tensorflow:Assets written to: C:\\Users\\24306\\Desktop\\mobilenetv3\\4\\mobilenetv3.ckpt\\assets\n"
     ]
    },
    {
     "name": "stderr",
     "output_type": "stream",
     "text": [
      "C:\\Users\\24306\\.conda\\envs\\keras\\lib\\site-packages\\keras\\utils\\generic_utils.py:494: CustomMaskWarning: Custom mask layers require a config and must override get_config. When loading, the custom mask layer must be passed to the custom_objects argument.\n",
      "  warnings.warn('Custom mask layers require a config and must override '\n"
     ]
    },
    {
     "name": "stdout",
     "output_type": "stream",
     "text": [
      "Epoch 40/300\n",
      "592/592 [==============================] - 38s 64ms/step - loss: 0.2761 - val_loss: 0.3463\n",
      "Epoch 41/300\n",
      "592/592 [==============================] - 37s 63ms/step - loss: 0.2713 - val_loss: 0.1946\n",
      "INFO:tensorflow:Assets written to: C:\\Users\\24306\\Desktop\\mobilenetv3\\4\\mobilenetv3.ckpt\\assets\n"
     ]
    },
    {
     "name": "stderr",
     "output_type": "stream",
     "text": [
      "C:\\Users\\24306\\.conda\\envs\\keras\\lib\\site-packages\\keras\\utils\\generic_utils.py:494: CustomMaskWarning: Custom mask layers require a config and must override get_config. When loading, the custom mask layer must be passed to the custom_objects argument.\n",
      "  warnings.warn('Custom mask layers require a config and must override '\n"
     ]
    },
    {
     "name": "stdout",
     "output_type": "stream",
     "text": [
      "Epoch 42/300\n",
      "592/592 [==============================] - 39s 65ms/step - loss: 0.2730 - val_loss: 0.3202\n",
      "Epoch 43/300\n",
      "592/592 [==============================] - 38s 64ms/step - loss: 0.2740 - val_loss: 0.2456\n",
      "Epoch 44/300\n",
      "592/592 [==============================] - 39s 65ms/step - loss: 0.2592 - val_loss: 0.5077\n",
      "Epoch 45/300\n",
      "592/592 [==============================] - 38s 64ms/step - loss: 0.2567 - val_loss: 0.5389\n",
      "Epoch 46/300\n",
      "592/592 [==============================] - 38s 65ms/step - loss: 0.2651 - val_loss: 0.4067\n",
      "Epoch 47/300\n",
      "592/592 [==============================] - 38s 64ms/step - loss: 0.2608 - val_loss: 0.3826\n",
      "Epoch 48/300\n",
      "592/592 [==============================] - 38s 64ms/step - loss: 0.2522 - val_loss: 0.2704\n",
      "Epoch 49/300\n",
      "592/592 [==============================] - 39s 66ms/step - loss: 0.2903 - val_loss: 0.2779\n",
      "Epoch 50/300\n",
      "592/592 [==============================] - 38s 65ms/step - loss: 0.2498 - val_loss: 0.1851\n",
      "INFO:tensorflow:Assets written to: C:\\Users\\24306\\Desktop\\mobilenetv3\\4\\mobilenetv3.ckpt\\assets\n"
     ]
    },
    {
     "name": "stderr",
     "output_type": "stream",
     "text": [
      "C:\\Users\\24306\\.conda\\envs\\keras\\lib\\site-packages\\keras\\utils\\generic_utils.py:494: CustomMaskWarning: Custom mask layers require a config and must override get_config. When loading, the custom mask layer must be passed to the custom_objects argument.\n",
      "  warnings.warn('Custom mask layers require a config and must override '\n"
     ]
    },
    {
     "name": "stdout",
     "output_type": "stream",
     "text": [
      "Epoch 51/300\n",
      "592/592 [==============================] - 40s 67ms/step - loss: 0.2692 - val_loss: 0.4156\n",
      "Epoch 52/300\n",
      "592/592 [==============================] - 39s 66ms/step - loss: 0.2417 - val_loss: 0.2186\n",
      "Epoch 53/300\n",
      "592/592 [==============================] - 39s 65ms/step - loss: 0.2422 - val_loss: 0.2600\n",
      "Epoch 54/300\n",
      "592/592 [==============================] - 40s 67ms/step - loss: 0.2534 - val_loss: 0.1927\n",
      "Epoch 55/300\n",
      "592/592 [==============================] - 40s 67ms/step - loss: 0.2415 - val_loss: 0.1956\n",
      "Epoch 56/300\n",
      "592/592 [==============================] - 39s 66ms/step - loss: 0.2380 - val_loss: 0.2358\n",
      "Epoch 57/300\n",
      "592/592 [==============================] - 39s 67ms/step - loss: 0.2390 - val_loss: 0.3062\n",
      "Epoch 58/300\n",
      "592/592 [==============================] - 39s 67ms/step - loss: 0.2411 - val_loss: 0.3049\n",
      "Epoch 59/300\n",
      "592/592 [==============================] - 40s 67ms/step - loss: 0.2414 - val_loss: 0.2619\n",
      "Epoch 60/300\n",
      "592/592 [==============================] - 40s 67ms/step - loss: 0.2643 - val_loss: 0.2119\n",
      "Epoch 61/300\n",
      "592/592 [==============================] - 40s 67ms/step - loss: 0.2351 - val_loss: 0.1827\n",
      "INFO:tensorflow:Assets written to: C:\\Users\\24306\\Desktop\\mobilenetv3\\4\\mobilenetv3.ckpt\\assets\n"
     ]
    },
    {
     "name": "stderr",
     "output_type": "stream",
     "text": [
      "C:\\Users\\24306\\.conda\\envs\\keras\\lib\\site-packages\\keras\\utils\\generic_utils.py:494: CustomMaskWarning: Custom mask layers require a config and must override get_config. When loading, the custom mask layer must be passed to the custom_objects argument.\n",
      "  warnings.warn('Custom mask layers require a config and must override '\n"
     ]
    },
    {
     "name": "stdout",
     "output_type": "stream",
     "text": [
      "Epoch 62/300\n",
      "592/592 [==============================] - 41s 69ms/step - loss: 0.2414 - val_loss: 0.1615\n",
      "INFO:tensorflow:Assets written to: C:\\Users\\24306\\Desktop\\mobilenetv3\\4\\mobilenetv3.ckpt\\assets\n"
     ]
    },
    {
     "name": "stderr",
     "output_type": "stream",
     "text": [
      "C:\\Users\\24306\\.conda\\envs\\keras\\lib\\site-packages\\keras\\utils\\generic_utils.py:494: CustomMaskWarning: Custom mask layers require a config and must override get_config. When loading, the custom mask layer must be passed to the custom_objects argument.\n",
      "  warnings.warn('Custom mask layers require a config and must override '\n"
     ]
    },
    {
     "name": "stdout",
     "output_type": "stream",
     "text": [
      "Epoch 63/300\n",
      "592/592 [==============================] - 41s 69ms/step - loss: 0.2349 - val_loss: 0.1937\n",
      "Epoch 64/300\n",
      "592/592 [==============================] - 41s 68ms/step - loss: 0.2195 - val_loss: 0.1893\n",
      "Epoch 65/300\n",
      "592/592 [==============================] - 41s 69ms/step - loss: 0.2253 - val_loss: 0.2191\n",
      "Epoch 66/300\n",
      "592/592 [==============================] - 40s 68ms/step - loss: 0.2423 - val_loss: 0.2544\n",
      "Epoch 67/300\n",
      "592/592 [==============================] - 39s 65ms/step - loss: 0.2145 - val_loss: 0.2443\n",
      "Epoch 68/300\n",
      "592/592 [==============================] - 40s 67ms/step - loss: 0.2381 - val_loss: 0.2699\n",
      "Epoch 69/300\n",
      "592/592 [==============================] - 39s 67ms/step - loss: 0.3123 - val_loss: 0.2180\n",
      "Epoch 70/300\n",
      "592/592 [==============================] - 39s 67ms/step - loss: 0.2244 - val_loss: 0.1650\n",
      "Epoch 71/300\n",
      "592/592 [==============================] - 40s 68ms/step - loss: 0.2427 - val_loss: 0.1951\n",
      "Epoch 72/300\n",
      "592/592 [==============================] - 40s 68ms/step - loss: 0.2259 - val_loss: 0.2173\n",
      "Epoch 73/300\n",
      "592/592 [==============================] - 40s 67ms/step - loss: 0.2578 - val_loss: 0.2538\n",
      "Epoch 74/300\n",
      "592/592 [==============================] - 40s 68ms/step - loss: 0.2291 - val_loss: 0.2627\n",
      "Epoch 75/300\n",
      "592/592 [==============================] - 41s 69ms/step - loss: 0.2167 - val_loss: 0.1569\n",
      "INFO:tensorflow:Assets written to: C:\\Users\\24306\\Desktop\\mobilenetv3\\4\\mobilenetv3.ckpt\\assets\n"
     ]
    },
    {
     "name": "stderr",
     "output_type": "stream",
     "text": [
      "C:\\Users\\24306\\.conda\\envs\\keras\\lib\\site-packages\\keras\\utils\\generic_utils.py:494: CustomMaskWarning: Custom mask layers require a config and must override get_config. When loading, the custom mask layer must be passed to the custom_objects argument.\n",
      "  warnings.warn('Custom mask layers require a config and must override '\n"
     ]
    },
    {
     "name": "stdout",
     "output_type": "stream",
     "text": [
      "Epoch 76/300\n",
      "592/592 [==============================] - 43s 73ms/step - loss: 0.2328 - val_loss: 0.3046\n",
      "Epoch 77/300\n",
      "592/592 [==============================] - 43s 73ms/step - loss: 0.2121 - val_loss: 0.1589\n",
      "Epoch 78/300\n",
      "592/592 [==============================] - 43s 73ms/step - loss: 0.2352 - val_loss: 0.1562\n",
      "INFO:tensorflow:Assets written to: C:\\Users\\24306\\Desktop\\mobilenetv3\\4\\mobilenetv3.ckpt\\assets\n"
     ]
    },
    {
     "name": "stderr",
     "output_type": "stream",
     "text": [
      "C:\\Users\\24306\\.conda\\envs\\keras\\lib\\site-packages\\keras\\utils\\generic_utils.py:494: CustomMaskWarning: Custom mask layers require a config and must override get_config. When loading, the custom mask layer must be passed to the custom_objects argument.\n",
      "  warnings.warn('Custom mask layers require a config and must override '\n"
     ]
    },
    {
     "name": "stdout",
     "output_type": "stream",
     "text": [
      "Epoch 79/300\n",
      "592/592 [==============================] - 44s 75ms/step - loss: 0.2379 - val_loss: 0.1937\n",
      "Epoch 80/300\n",
      "592/592 [==============================] - 44s 74ms/step - loss: 0.2232 - val_loss: 0.2331\n",
      "Epoch 81/300\n",
      "592/592 [==============================] - 44s 75ms/step - loss: 0.2125 - val_loss: 0.2017\n",
      "Epoch 82/300\n",
      "592/592 [==============================] - 45s 75ms/step - loss: 0.2230 - val_loss: 0.1653\n",
      "Epoch 83/300\n",
      "592/592 [==============================] - 44s 75ms/step - loss: 0.2067 - val_loss: 0.1835\n",
      "Epoch 84/300\n",
      "592/592 [==============================] - 45s 75ms/step - loss: 0.2098 - val_loss: 0.2418\n",
      "Epoch 85/300\n",
      "592/592 [==============================] - 44s 75ms/step - loss: 0.2143 - val_loss: 0.1634\n",
      "Epoch 86/300\n",
      "592/592 [==============================] - 45s 75ms/step - loss: 0.2176 - val_loss: 0.2067\n",
      "Epoch 87/300\n",
      "592/592 [==============================] - 44s 75ms/step - loss: 0.2088 - val_loss: 0.2004\n",
      "Epoch 88/300\n",
      "592/592 [==============================] - 44s 75ms/step - loss: 0.2041 - val_loss: 0.1708\n",
      "Epoch 89/300\n",
      "592/592 [==============================] - 45s 76ms/step - loss: 0.2070 - val_loss: 0.2005\n",
      "Epoch 90/300\n",
      "592/592 [==============================] - 45s 76ms/step - loss: 0.2207 - val_loss: 0.2902\n",
      "Epoch 91/300\n",
      "592/592 [==============================] - 45s 76ms/step - loss: 0.2085 - val_loss: 0.2250\n",
      "Epoch 92/300\n",
      "592/592 [==============================] - 46s 77ms/step - loss: 0.2169 - val_loss: 0.2365\n",
      "Epoch 93/300\n",
      "592/592 [==============================] - 45s 76ms/step - loss: 0.2506 - val_loss: 0.1941\n",
      "Epoch 94/300\n",
      "592/592 [==============================] - 47s 79ms/step - loss: 0.2071 - val_loss: 0.1698\n",
      "Epoch 95/300\n",
      "592/592 [==============================] - 45s 76ms/step - loss: 0.2167 - val_loss: 0.1926\n",
      "Epoch 96/300\n",
      "592/592 [==============================] - 44s 75ms/step - loss: 0.2051 - val_loss: 0.1411\n",
      "INFO:tensorflow:Assets written to: C:\\Users\\24306\\Desktop\\mobilenetv3\\4\\mobilenetv3.ckpt\\assets\n"
     ]
    },
    {
     "name": "stderr",
     "output_type": "stream",
     "text": [
      "C:\\Users\\24306\\.conda\\envs\\keras\\lib\\site-packages\\keras\\utils\\generic_utils.py:494: CustomMaskWarning: Custom mask layers require a config and must override get_config. When loading, the custom mask layer must be passed to the custom_objects argument.\n",
      "  warnings.warn('Custom mask layers require a config and must override '\n"
     ]
    },
    {
     "name": "stdout",
     "output_type": "stream",
     "text": [
      "Epoch 97/300\n",
      "592/592 [==============================] - 48s 81ms/step - loss: 0.2004 - val_loss: 0.1832\n",
      "Epoch 98/300\n",
      "592/592 [==============================] - 47s 79ms/step - loss: 0.1992 - val_loss: 0.1565\n",
      "Epoch 99/300\n",
      "592/592 [==============================] - 47s 79ms/step - loss: 0.1935 - val_loss: 0.1714\n",
      "Epoch 100/300\n",
      "592/592 [==============================] - 46s 78ms/step - loss: 0.1911 - val_loss: 0.1927\n",
      "Epoch 101/300\n",
      "592/592 [==============================] - 47s 79ms/step - loss: 0.1956 - val_loss: 0.3064\n",
      "Epoch 102/300\n",
      "592/592 [==============================] - 48s 80ms/step - loss: 0.2011 - val_loss: 0.2408\n",
      "Epoch 103/300\n",
      "592/592 [==============================] - 47s 79ms/step - loss: 0.2022 - val_loss: 0.1831\n",
      "Epoch 104/300\n",
      "592/592 [==============================] - 45s 76ms/step - loss: 0.2068 - val_loss: 0.1797\n",
      "Epoch 105/300\n",
      "592/592 [==============================] - 48s 80ms/step - loss: 0.1977 - val_loss: 0.1904\n",
      "Epoch 106/300\n",
      "592/592 [==============================] - 47s 80ms/step - loss: 0.1923 - val_loss: 0.2079\n",
      "Epoch 107/300\n",
      "592/592 [==============================] - 47s 80ms/step - loss: 0.1905 - val_loss: 0.1998\n",
      "Epoch 108/300\n",
      "592/592 [==============================] - 48s 80ms/step - loss: 0.1953 - val_loss: 0.1858\n",
      "Epoch 109/300\n",
      "592/592 [==============================] - 48s 81ms/step - loss: 0.1952 - val_loss: 0.2763\n",
      "Epoch 110/300\n",
      "592/592 [==============================] - 48s 80ms/step - loss: 0.1973 - val_loss: 0.2314\n",
      "Epoch 111/300\n",
      "592/592 [==============================] - 48s 81ms/step - loss: 0.2105 - val_loss: 0.1504\n",
      "Epoch 112/300\n",
      "592/592 [==============================] - 48s 81ms/step - loss: 0.1925 - val_loss: 0.1670\n",
      "Epoch 113/300\n",
      "592/592 [==============================] - 46s 78ms/step - loss: 0.1884 - val_loss: 0.1735\n",
      "Epoch 114/300\n",
      "592/592 [==============================] - 47s 79ms/step - loss: 0.1901 - val_loss: 0.1360\n",
      "INFO:tensorflow:Assets written to: C:\\Users\\24306\\Desktop\\mobilenetv3\\4\\mobilenetv3.ckpt\\assets\n"
     ]
    },
    {
     "name": "stderr",
     "output_type": "stream",
     "text": [
      "C:\\Users\\24306\\.conda\\envs\\keras\\lib\\site-packages\\keras\\utils\\generic_utils.py:494: CustomMaskWarning: Custom mask layers require a config and must override get_config. When loading, the custom mask layer must be passed to the custom_objects argument.\n",
      "  warnings.warn('Custom mask layers require a config and must override '\n"
     ]
    },
    {
     "name": "stdout",
     "output_type": "stream",
     "text": [
      "Epoch 115/300\n",
      "592/592 [==============================] - 53s 90ms/step - loss: 0.1971 - val_loss: 0.1463\n",
      "Epoch 116/300\n",
      "592/592 [==============================] - 50s 85ms/step - loss: 0.1959 - val_loss: 0.1632\n",
      "Epoch 117/300\n",
      "592/592 [==============================] - 51s 86ms/step - loss: 0.1914 - val_loss: 0.1556\n",
      "Epoch 118/300\n",
      "592/592 [==============================] - 51s 86ms/step - loss: 0.2066 - val_loss: 0.1981\n",
      "Epoch 119/300\n",
      "592/592 [==============================] - 50s 84ms/step - loss: 0.1942 - val_loss: 0.2581\n",
      "Epoch 120/300\n",
      "592/592 [==============================] - 50s 84ms/step - loss: 0.1940 - val_loss: 0.1379\n",
      "Epoch 121/300\n",
      "592/592 [==============================] - 50s 85ms/step - loss: 0.1775 - val_loss: 0.1433\n",
      "Epoch 122/300\n",
      "592/592 [==============================] - 50s 84ms/step - loss: 0.1895 - val_loss: 0.1465\n",
      "Epoch 123/300\n",
      "592/592 [==============================] - 50s 84ms/step - loss: 0.1825 - val_loss: 0.1318\n",
      "INFO:tensorflow:Assets written to: C:\\Users\\24306\\Desktop\\mobilenetv3\\4\\mobilenetv3.ckpt\\assets\n"
     ]
    },
    {
     "name": "stderr",
     "output_type": "stream",
     "text": [
      "C:\\Users\\24306\\.conda\\envs\\keras\\lib\\site-packages\\keras\\utils\\generic_utils.py:494: CustomMaskWarning: Custom mask layers require a config and must override get_config. When loading, the custom mask layer must be passed to the custom_objects argument.\n",
      "  warnings.warn('Custom mask layers require a config and must override '\n"
     ]
    },
    {
     "name": "stdout",
     "output_type": "stream",
     "text": [
      "Epoch 124/300\n",
      "592/592 [==============================] - 52s 88ms/step - loss: 0.1831 - val_loss: 0.1493\n",
      "Epoch 125/300\n",
      "592/592 [==============================] - 51s 86ms/step - loss: 0.1771 - val_loss: 0.1434\n",
      "Epoch 126/300\n",
      "592/592 [==============================] - 51s 86ms/step - loss: 0.1834 - val_loss: 0.1523\n",
      "Epoch 127/300\n",
      "592/592 [==============================] - 51s 86ms/step - loss: 0.1986 - val_loss: 0.1539\n",
      "Epoch 128/300\n",
      "592/592 [==============================] - 51s 86ms/step - loss: 0.1850 - val_loss: 0.1525\n",
      "Epoch 129/300\n",
      "592/592 [==============================] - 51s 86ms/step - loss: 0.2013 - val_loss: 0.1760\n",
      "Epoch 130/300\n",
      "592/592 [==============================] - 51s 87ms/step - loss: 0.1883 - val_loss: 0.1634\n",
      "Epoch 131/300\n",
      "592/592 [==============================] - 51s 87ms/step - loss: 0.1744 - val_loss: 0.1617\n",
      "Epoch 132/300\n",
      "592/592 [==============================] - 51s 86ms/step - loss: 0.2053 - val_loss: 0.1785\n",
      "Epoch 133/300\n",
      "592/592 [==============================] - 51s 87ms/step - loss: 0.1775 - val_loss: 0.1455\n",
      "Epoch 134/300\n",
      "592/592 [==============================] - 53s 89ms/step - loss: 0.1797 - val_loss: 0.2208\n",
      "Epoch 135/300\n",
      "592/592 [==============================] - 52s 88ms/step - loss: 0.1752 - val_loss: 0.1620\n",
      "Epoch 136/300\n",
      "592/592 [==============================] - 52s 88ms/step - loss: 0.1862 - val_loss: 0.1513\n",
      "Epoch 137/300\n",
      "592/592 [==============================] - 55s 92ms/step - loss: 0.1823 - val_loss: 0.1528\n",
      "Epoch 138/300\n",
      "592/592 [==============================] - 54s 90ms/step - loss: 0.1761 - val_loss: 0.1599\n",
      "Epoch 139/300\n",
      "592/592 [==============================] - 54s 90ms/step - loss: 0.1886 - val_loss: 0.1518\n",
      "Epoch 140/300\n",
      "592/592 [==============================] - 52s 89ms/step - loss: 0.1768 - val_loss: 0.1430\n",
      "Epoch 141/300\n",
      "592/592 [==============================] - 53s 90ms/step - loss: 0.1764 - val_loss: 0.1643\n",
      "Epoch 142/300\n",
      "592/592 [==============================] - 53s 90ms/step - loss: 0.1857 - val_loss: 0.1731\n",
      "Epoch 143/300\n",
      "592/592 [==============================] - 54s 92ms/step - loss: 0.1755 - val_loss: 0.1414\n",
      "Epoch 144/300\n",
      "592/592 [==============================] - 54s 90ms/step - loss: 0.1791 - val_loss: 0.1371\n",
      "Epoch 145/300\n",
      "592/592 [==============================] - 54s 92ms/step - loss: 0.1671 - val_loss: 0.1519\n",
      "Epoch 146/300\n",
      "592/592 [==============================] - 55s 93ms/step - loss: 0.1982 - val_loss: 0.1298\n",
      "INFO:tensorflow:Assets written to: C:\\Users\\24306\\Desktop\\mobilenetv3\\4\\mobilenetv3.ckpt\\assets\n"
     ]
    },
    {
     "name": "stderr",
     "output_type": "stream",
     "text": [
      "C:\\Users\\24306\\.conda\\envs\\keras\\lib\\site-packages\\keras\\utils\\generic_utils.py:494: CustomMaskWarning: Custom mask layers require a config and must override get_config. When loading, the custom mask layer must be passed to the custom_objects argument.\n",
      "  warnings.warn('Custom mask layers require a config and must override '\n"
     ]
    },
    {
     "name": "stdout",
     "output_type": "stream",
     "text": [
      "Epoch 147/300\n",
      "592/592 [==============================] - 53s 90ms/step - loss: 0.1862 - val_loss: 0.1514\n",
      "Epoch 148/300\n",
      "592/592 [==============================] - 53s 89ms/step - loss: 0.1987 - val_loss: 0.1696\n",
      "Epoch 149/300\n",
      "592/592 [==============================] - 53s 89ms/step - loss: 0.1801 - val_loss: 0.1557\n",
      "Epoch 150/300\n",
      "592/592 [==============================] - 53s 89ms/step - loss: 0.1860 - val_loss: 0.1993\n",
      "Epoch 151/300\n",
      "592/592 [==============================] - 53s 90ms/step - loss: 0.1659 - val_loss: 0.1690\n",
      "Epoch 152/300\n",
      "592/592 [==============================] - 53s 90ms/step - loss: 0.1732 - val_loss: 0.1452\n",
      "Epoch 153/300\n",
      "592/592 [==============================] - 54s 90ms/step - loss: 0.1873 - val_loss: 0.1765\n",
      "Epoch 154/300\n",
      "592/592 [==============================] - 53s 90ms/step - loss: 0.1721 - val_loss: 0.1640\n",
      "Epoch 155/300\n",
      "592/592 [==============================] - 53s 90ms/step - loss: 0.1727 - val_loss: 0.1960\n",
      "Epoch 156/300\n",
      "592/592 [==============================] - 53s 89ms/step - loss: 0.1685 - val_loss: 0.1627\n",
      "Epoch 157/300\n",
      "592/592 [==============================] - 53s 89ms/step - loss: 0.1751 - val_loss: 0.1916\n",
      "Epoch 158/300\n",
      "592/592 [==============================] - 55s 92ms/step - loss: 0.1653 - val_loss: 0.1658\n",
      "Epoch 159/300\n",
      "592/592 [==============================] - 54s 90ms/step - loss: 0.1779 - val_loss: 0.1412\n",
      "Epoch 160/300\n",
      "592/592 [==============================] - 53s 90ms/step - loss: 0.1716 - val_loss: 0.1369\n",
      "Epoch 161/300\n",
      "592/592 [==============================] - 54s 91ms/step - loss: 0.1716 - val_loss: 0.1585\n",
      "Epoch 162/300\n",
      "592/592 [==============================] - 53s 90ms/step - loss: 0.1798 - val_loss: 0.1433\n",
      "Epoch 163/300\n",
      "592/592 [==============================] - 53s 90ms/step - loss: 0.1671 - val_loss: 0.1659\n",
      "Epoch 164/300\n",
      "592/592 [==============================] - 53s 89ms/step - loss: 0.1717 - val_loss: 0.1499\n",
      "Epoch 165/300\n",
      "592/592 [==============================] - 53s 90ms/step - loss: 0.1669 - val_loss: 0.1357\n",
      "Epoch 166/300\n",
      "592/592 [==============================] - 55s 93ms/step - loss: 0.1670 - val_loss: 0.1706\n",
      "Epoch 167/300\n",
      "592/592 [==============================] - 55s 92ms/step - loss: 0.1722 - val_loss: 0.1345\n",
      "Epoch 168/300\n",
      "592/592 [==============================] - 54s 92ms/step - loss: 0.1747 - val_loss: 0.1440\n",
      "Epoch 169/300\n",
      "592/592 [==============================] - 55s 92ms/step - loss: 0.1686 - val_loss: 0.1434\n",
      "Epoch 170/300\n",
      "592/592 [==============================] - 54s 92ms/step - loss: 0.2079 - val_loss: 0.1392\n",
      "Epoch 171/300\n",
      "592/592 [==============================] - 57s 96ms/step - loss: 0.1659 - val_loss: 0.1557\n",
      "Epoch 172/300\n",
      "592/592 [==============================] - 54s 92ms/step - loss: 0.1744 - val_loss: 0.1503\n",
      "Epoch 173/300\n",
      "592/592 [==============================] - 54s 91ms/step - loss: 0.1777 - val_loss: 0.1363\n",
      "Epoch 174/300\n",
      "592/592 [==============================] - 54s 91ms/step - loss: 0.1659 - val_loss: 0.1504\n",
      "Epoch 175/300\n",
      "592/592 [==============================] - 54s 92ms/step - loss: 0.1620 - val_loss: 0.1708\n",
      "Epoch 176/300\n",
      "592/592 [==============================] - 54s 91ms/step - loss: 0.2097 - val_loss: 0.1550\n",
      "Epoch 177/300\n",
      "592/592 [==============================] - 54s 91ms/step - loss: 0.1680 - val_loss: 0.1786\n",
      "Epoch 178/300\n",
      "592/592 [==============================] - 54s 92ms/step - loss: 0.1762 - val_loss: 0.1352\n",
      "Epoch 179/300\n",
      "592/592 [==============================] - 54s 91ms/step - loss: 0.2852 - val_loss: 0.1493\n",
      "Epoch 180/300\n",
      "592/592 [==============================] - 54s 92ms/step - loss: 0.1673 - val_loss: 0.1486\n",
      "Epoch 181/300\n",
      "592/592 [==============================] - 55s 92ms/step - loss: 0.1625 - val_loss: 0.1269\n",
      "INFO:tensorflow:Assets written to: C:\\Users\\24306\\Desktop\\mobilenetv3\\4\\mobilenetv3.ckpt\\assets\n"
     ]
    },
    {
     "name": "stderr",
     "output_type": "stream",
     "text": [
      "C:\\Users\\24306\\.conda\\envs\\keras\\lib\\site-packages\\keras\\utils\\generic_utils.py:494: CustomMaskWarning: Custom mask layers require a config and must override get_config. When loading, the custom mask layer must be passed to the custom_objects argument.\n",
      "  warnings.warn('Custom mask layers require a config and must override '\n"
     ]
    },
    {
     "name": "stdout",
     "output_type": "stream",
     "text": [
      "Epoch 182/300\n",
      "592/592 [==============================] - 57s 95ms/step - loss: 0.1649 - val_loss: 0.1476\n",
      "Epoch 183/300\n",
      "592/592 [==============================] - 55s 93ms/step - loss: 0.1735 - val_loss: 0.1411\n",
      "Epoch 184/300\n",
      "592/592 [==============================] - 55s 92ms/step - loss: 0.1662 - val_loss: 0.1608\n",
      "Epoch 185/300\n",
      "592/592 [==============================] - 55s 93ms/step - loss: 0.1719 - val_loss: 0.1545\n",
      "Epoch 186/300\n",
      "592/592 [==============================] - 56s 94ms/step - loss: 0.1765 - val_loss: 0.1367\n",
      "Epoch 187/300\n",
      "592/592 [==============================] - 55s 93ms/step - loss: 0.1761 - val_loss: 0.1400\n",
      "Epoch 188/300\n",
      "592/592 [==============================] - 55s 93ms/step - loss: 0.1685 - val_loss: 0.1299\n",
      "Epoch 189/300\n",
      "592/592 [==============================] - 56s 94ms/step - loss: 0.2022 - val_loss: 0.1322\n",
      "Epoch 190/300\n",
      "592/592 [==============================] - 56s 94ms/step - loss: 0.1651 - val_loss: 0.1535\n",
      "Epoch 191/300\n",
      "592/592 [==============================] - 55s 93ms/step - loss: 0.1635 - val_loss: 0.1374\n",
      "Epoch 192/300\n",
      "592/592 [==============================] - 56s 94ms/step - loss: 0.1637 - val_loss: 0.1385\n",
      "Epoch 193/300\n",
      "592/592 [==============================] - 56s 94ms/step - loss: 0.1699 - val_loss: 0.1370\n",
      "Epoch 194/300\n",
      "592/592 [==============================] - 56s 94ms/step - loss: 0.1743 - val_loss: 0.1294\n",
      "Epoch 195/300\n",
      "592/592 [==============================] - 55s 93ms/step - loss: 0.1680 - val_loss: 0.1398\n",
      "Epoch 196/300\n",
      "592/592 [==============================] - 56s 94ms/step - loss: 0.1603 - val_loss: 0.1551\n",
      "Epoch 197/300\n",
      "592/592 [==============================] - 56s 94ms/step - loss: 0.1641 - val_loss: 0.1270\n",
      "Epoch 198/300\n",
      "592/592 [==============================] - 56s 94ms/step - loss: 0.1819 - val_loss: 0.1269\n",
      "Epoch 199/300\n",
      "592/592 [==============================] - 55s 93ms/step - loss: 0.1610 - val_loss: 0.1444\n",
      "Epoch 200/300\n",
      "592/592 [==============================] - 56s 94ms/step - loss: 0.1587 - val_loss: 0.1268\n",
      "INFO:tensorflow:Assets written to: C:\\Users\\24306\\Desktop\\mobilenetv3\\4\\mobilenetv3.ckpt\\assets\n"
     ]
    },
    {
     "name": "stderr",
     "output_type": "stream",
     "text": [
      "C:\\Users\\24306\\.conda\\envs\\keras\\lib\\site-packages\\keras\\utils\\generic_utils.py:494: CustomMaskWarning: Custom mask layers require a config and must override get_config. When loading, the custom mask layer must be passed to the custom_objects argument.\n",
      "  warnings.warn('Custom mask layers require a config and must override '\n"
     ]
    },
    {
     "name": "stdout",
     "output_type": "stream",
     "text": [
      "Epoch 201/300\n",
      "592/592 [==============================] - 56s 94ms/step - loss: 0.1558 - val_loss: 0.1709\n",
      "Epoch 202/300\n",
      "592/592 [==============================] - 55s 93ms/step - loss: 0.1734 - val_loss: 0.1323\n",
      "Epoch 203/300\n",
      "592/592 [==============================] - 55s 93ms/step - loss: 0.1594 - val_loss: 0.1326\n",
      "Epoch 204/300\n",
      "592/592 [==============================] - 57s 95ms/step - loss: 0.1591 - val_loss: 0.1426\n",
      "Epoch 205/300\n",
      "592/592 [==============================] - 56s 95ms/step - loss: 0.1668 - val_loss: 0.1343\n",
      "Epoch 206/300\n",
      "592/592 [==============================] - 55s 93ms/step - loss: 0.1563 - val_loss: 0.1329\n",
      "Epoch 207/300\n",
      "592/592 [==============================] - 56s 95ms/step - loss: 0.1586 - val_loss: 0.1313\n",
      "Epoch 208/300\n",
      "592/592 [==============================] - 56s 95ms/step - loss: 0.1568 - val_loss: 0.1729\n",
      "Epoch 209/300\n",
      "592/592 [==============================] - 56s 94ms/step - loss: 0.1608 - val_loss: 0.1439\n",
      "Epoch 210/300\n",
      "592/592 [==============================] - 56s 94ms/step - loss: 0.1739 - val_loss: 0.1546\n",
      "Epoch 211/300\n",
      "592/592 [==============================] - 56s 94ms/step - loss: 0.1542 - val_loss: 0.1758\n",
      "Epoch 212/300\n",
      "592/592 [==============================] - 56s 94ms/step - loss: 0.1593 - val_loss: 0.1429\n",
      "Epoch 213/300\n",
      "592/592 [==============================] - 56s 95ms/step - loss: 0.1644 - val_loss: 0.1426\n",
      "Epoch 214/300\n",
      "592/592 [==============================] - 56s 95ms/step - loss: 0.1731 - val_loss: 0.1402\n",
      "Epoch 215/300\n",
      "592/592 [==============================] - 56s 94ms/step - loss: 0.1750 - val_loss: 0.1268\n",
      "INFO:tensorflow:Assets written to: C:\\Users\\24306\\Desktop\\mobilenetv3\\4\\mobilenetv3.ckpt\\assets\n"
     ]
    },
    {
     "name": "stderr",
     "output_type": "stream",
     "text": [
      "C:\\Users\\24306\\.conda\\envs\\keras\\lib\\site-packages\\keras\\utils\\generic_utils.py:494: CustomMaskWarning: Custom mask layers require a config and must override get_config. When loading, the custom mask layer must be passed to the custom_objects argument.\n",
      "  warnings.warn('Custom mask layers require a config and must override '\n"
     ]
    },
    {
     "name": "stdout",
     "output_type": "stream",
     "text": [
      "Epoch 216/300\n",
      "592/592 [==============================] - 59s 100ms/step - loss: 0.1704 - val_loss: 0.1395\n",
      "Epoch 217/300\n",
      "592/592 [==============================] - 58s 98ms/step - loss: 0.1603 - val_loss: 0.1601\n",
      "Epoch 218/300\n",
      "592/592 [==============================] - 57s 96ms/step - loss: 0.1762 - val_loss: 0.1544\n",
      "Epoch 219/300\n",
      "592/592 [==============================] - 57s 96ms/step - loss: 0.1581 - val_loss: 0.1429\n",
      "Epoch 220/300\n",
      "592/592 [==============================] - 57s 96ms/step - loss: 0.1568 - val_loss: 0.1582\n",
      "Epoch 221/300\n",
      "592/592 [==============================] - 57s 97ms/step - loss: 0.1627 - val_loss: 0.1634\n",
      "Epoch 222/300\n",
      "592/592 [==============================] - 57s 96ms/step - loss: 0.1587 - val_loss: 0.1321\n",
      "Epoch 223/300\n",
      "592/592 [==============================] - 58s 98ms/step - loss: 0.1575 - val_loss: 0.1375\n",
      "Epoch 224/300\n",
      "592/592 [==============================] - 57s 96ms/step - loss: 0.1562 - val_loss: 0.1469\n",
      "Epoch 225/300\n",
      "592/592 [==============================] - 57s 97ms/step - loss: 0.1651 - val_loss: 0.1440\n",
      "Epoch 226/300\n",
      "592/592 [==============================] - 57s 97ms/step - loss: 0.1550 - val_loss: 0.1274\n",
      "Epoch 227/300\n",
      "592/592 [==============================] - 57s 97ms/step - loss: 0.1569 - val_loss: 0.1259\n",
      "INFO:tensorflow:Assets written to: C:\\Users\\24306\\Desktop\\mobilenetv3\\4\\mobilenetv3.ckpt\\assets\n"
     ]
    },
    {
     "name": "stderr",
     "output_type": "stream",
     "text": [
      "C:\\Users\\24306\\.conda\\envs\\keras\\lib\\site-packages\\keras\\utils\\generic_utils.py:494: CustomMaskWarning: Custom mask layers require a config and must override get_config. When loading, the custom mask layer must be passed to the custom_objects argument.\n",
      "  warnings.warn('Custom mask layers require a config and must override '\n"
     ]
    },
    {
     "name": "stdout",
     "output_type": "stream",
     "text": [
      "Epoch 228/300\n",
      "592/592 [==============================] - 60s 101ms/step - loss: 0.1535 - val_loss: 0.1331\n",
      "Epoch 229/300\n",
      "592/592 [==============================] - 59s 99ms/step - loss: 0.1653 - val_loss: 0.1383\n",
      "Epoch 230/300\n",
      "592/592 [==============================] - 59s 100ms/step - loss: 0.1514 - val_loss: 0.1328\n",
      "Epoch 231/300\n",
      "592/592 [==============================] - 60s 102ms/step - loss: 0.1541 - val_loss: 0.1335\n",
      "Epoch 232/300\n",
      "592/592 [==============================] - 58s 98ms/step - loss: 0.1561 - val_loss: 0.1411\n",
      "Epoch 233/300\n",
      "592/592 [==============================] - 59s 99ms/step - loss: 0.1579 - val_loss: 0.1406\n",
      "Epoch 234/300\n",
      "592/592 [==============================] - 59s 99ms/step - loss: 0.1541 - val_loss: 0.1378\n",
      "Epoch 235/300\n",
      "592/592 [==============================] - 59s 99ms/step - loss: 0.1712 - val_loss: 0.1264\n",
      "Epoch 236/300\n",
      "592/592 [==============================] - 58s 98ms/step - loss: 0.1605 - val_loss: 0.1528\n",
      "Epoch 237/300\n",
      "592/592 [==============================] - 59s 100ms/step - loss: 0.1618 - val_loss: 0.1293\n",
      "Epoch 238/300\n",
      "592/592 [==============================] - 59s 99ms/step - loss: 0.1609 - val_loss: 0.1193\n",
      "INFO:tensorflow:Assets written to: C:\\Users\\24306\\Desktop\\mobilenetv3\\4\\mobilenetv3.ckpt\\assets\n"
     ]
    },
    {
     "name": "stderr",
     "output_type": "stream",
     "text": [
      "C:\\Users\\24306\\.conda\\envs\\keras\\lib\\site-packages\\keras\\utils\\generic_utils.py:494: CustomMaskWarning: Custom mask layers require a config and must override get_config. When loading, the custom mask layer must be passed to the custom_objects argument.\n",
      "  warnings.warn('Custom mask layers require a config and must override '\n"
     ]
    },
    {
     "name": "stdout",
     "output_type": "stream",
     "text": [
      "Epoch 239/300\n",
      "592/592 [==============================] - 60s 101ms/step - loss: 0.1515 - val_loss: 0.1355\n",
      "Epoch 240/300\n",
      "592/592 [==============================] - 59s 100ms/step - loss: 0.1698 - val_loss: 0.1470\n",
      "Epoch 241/300\n",
      "592/592 [==============================] - 60s 101ms/step - loss: 0.1529 - val_loss: 0.1334\n",
      "Epoch 242/300\n",
      "592/592 [==============================] - 61s 103ms/step - loss: 0.1553 - val_loss: 0.1673\n",
      "Epoch 243/300\n",
      "592/592 [==============================] - 60s 102ms/step - loss: 0.1623 - val_loss: 0.1663\n",
      "Epoch 244/300\n",
      "592/592 [==============================] - 58s 99ms/step - loss: 0.1536 - val_loss: 0.1454\n",
      "Epoch 245/300\n",
      "592/592 [==============================] - 61s 102ms/step - loss: 0.1605 - val_loss: 0.1671\n",
      "Epoch 246/300\n",
      "592/592 [==============================] - 63s 106ms/step - loss: 0.1584 - val_loss: 0.1684\n",
      "Epoch 247/300\n",
      "592/592 [==============================] - 61s 103ms/step - loss: 0.1579 - val_loss: 0.1494\n",
      "Epoch 248/300\n",
      "592/592 [==============================] - 63s 106ms/step - loss: 0.1629 - val_loss: 0.1596\n",
      "Epoch 249/300\n",
      "592/592 [==============================] - 60s 101ms/step - loss: 0.1545 - val_loss: 0.1336\n",
      "Epoch 250/300\n",
      "592/592 [==============================] - 62s 105ms/step - loss: 0.1575 - val_loss: 0.1263\n",
      "Epoch 251/300\n",
      "592/592 [==============================] - 59s 100ms/step - loss: 0.1513 - val_loss: 0.1222\n",
      "Epoch 252/300\n",
      "592/592 [==============================] - 59s 99ms/step - loss: 0.1532 - val_loss: 0.1220\n",
      "Epoch 253/300\n",
      "592/592 [==============================] - 59s 100ms/step - loss: 0.1522 - val_loss: 0.1244\n",
      "Epoch 254/300\n",
      "592/592 [==============================] - 59s 99ms/step - loss: 0.1549 - val_loss: 0.1360\n",
      "Epoch 255/300\n",
      "592/592 [==============================] - 59s 100ms/step - loss: 0.1657 - val_loss: 0.1151\n",
      "INFO:tensorflow:Assets written to: C:\\Users\\24306\\Desktop\\mobilenetv3\\4\\mobilenetv3.ckpt\\assets\n"
     ]
    },
    {
     "name": "stderr",
     "output_type": "stream",
     "text": [
      "C:\\Users\\24306\\.conda\\envs\\keras\\lib\\site-packages\\keras\\utils\\generic_utils.py:494: CustomMaskWarning: Custom mask layers require a config and must override get_config. When loading, the custom mask layer must be passed to the custom_objects argument.\n",
      "  warnings.warn('Custom mask layers require a config and must override '\n"
     ]
    },
    {
     "name": "stdout",
     "output_type": "stream",
     "text": [
      "Epoch 256/300\n",
      "592/592 [==============================] - 62s 104ms/step - loss: 0.1487 - val_loss: 0.1346\n",
      "Epoch 257/300\n",
      "592/592 [==============================] - 62s 104ms/step - loss: 0.1606 - val_loss: 0.1183\n",
      "Epoch 258/300\n",
      "592/592 [==============================] - 60s 101ms/step - loss: 0.1598 - val_loss: 0.1450\n",
      "Epoch 259/300\n",
      "592/592 [==============================] - 60s 101ms/step - loss: 0.1671 - val_loss: 0.1484\n",
      "Epoch 260/300\n",
      "592/592 [==============================] - 60s 101ms/step - loss: 0.1541 - val_loss: 0.1494\n",
      "Epoch 261/300\n",
      "592/592 [==============================] - 60s 101ms/step - loss: 0.1621 - val_loss: 0.1336\n",
      "Epoch 262/300\n",
      "592/592 [==============================] - 60s 101ms/step - loss: 0.1478 - val_loss: 0.1285\n",
      "Epoch 263/300\n",
      "592/592 [==============================] - 60s 101ms/step - loss: 0.1505 - val_loss: 0.1235\n",
      "Epoch 264/300\n",
      "592/592 [==============================] - 60s 100ms/step - loss: 0.1536 - val_loss: 0.1356\n",
      "Epoch 265/300\n",
      "592/592 [==============================] - 61s 103ms/step - loss: 0.1568 - val_loss: 0.1431\n",
      "Epoch 266/300\n",
      "592/592 [==============================] - 60s 101ms/step - loss: 0.1512 - val_loss: 0.1257\n",
      "Epoch 267/300\n",
      "592/592 [==============================] - 60s 102ms/step - loss: 0.1583 - val_loss: 0.1416\n",
      "Epoch 268/300\n",
      "592/592 [==============================] - 61s 103ms/step - loss: 0.1593 - val_loss: 0.1371\n",
      "Epoch 269/300\n",
      "592/592 [==============================] - 61s 102ms/step - loss: 0.1493 - val_loss: 0.1256\n",
      "Epoch 270/300\n",
      "592/592 [==============================] - 60s 102ms/step - loss: 0.1522 - val_loss: 0.1164\n",
      "Epoch 271/300\n",
      "592/592 [==============================] - 60s 101ms/step - loss: 0.1464 - val_loss: 0.1338\n",
      "Epoch 272/300\n",
      "592/592 [==============================] - 60s 102ms/step - loss: 0.1510 - val_loss: 0.1449\n",
      "Epoch 273/300\n",
      "592/592 [==============================] - 60s 102ms/step - loss: 0.1543 - val_loss: 0.1400\n",
      "Epoch 274/300\n",
      "592/592 [==============================] - 60s 101ms/step - loss: 0.1486 - val_loss: 0.1247\n",
      "Epoch 275/300\n",
      "592/592 [==============================] - 61s 102ms/step - loss: 0.1635 - val_loss: 0.1198\n",
      "Epoch 276/300\n",
      "592/592 [==============================] - 61s 102ms/step - loss: 0.1475 - val_loss: 0.1248\n",
      "Epoch 277/300\n",
      "592/592 [==============================] - 60s 102ms/step - loss: 0.1555 - val_loss: 0.1468\n",
      "Epoch 278/300\n",
      "592/592 [==============================] - 61s 103ms/step - loss: 0.1536 - val_loss: 0.1145\n",
      "INFO:tensorflow:Assets written to: C:\\Users\\24306\\Desktop\\mobilenetv3\\4\\mobilenetv3.ckpt\\assets\n"
     ]
    },
    {
     "name": "stderr",
     "output_type": "stream",
     "text": [
      "C:\\Users\\24306\\.conda\\envs\\keras\\lib\\site-packages\\keras\\utils\\generic_utils.py:494: CustomMaskWarning: Custom mask layers require a config and must override get_config. When loading, the custom mask layer must be passed to the custom_objects argument.\n",
      "  warnings.warn('Custom mask layers require a config and must override '\n"
     ]
    },
    {
     "name": "stdout",
     "output_type": "stream",
     "text": [
      "Epoch 279/300\n",
      "592/592 [==============================] - 61s 103ms/step - loss: 0.1588 - val_loss: 0.1219\n",
      "Epoch 280/300\n",
      "592/592 [==============================] - 61s 102ms/step - loss: 0.1524 - val_loss: 0.1218\n",
      "Epoch 281/300\n",
      "592/592 [==============================] - 60s 101ms/step - loss: 0.1538 - val_loss: 0.1276\n",
      "Epoch 282/300\n",
      "592/592 [==============================] - 61s 103ms/step - loss: 0.1475 - val_loss: 0.1189\n",
      "Epoch 283/300\n",
      "592/592 [==============================] - 60s 102ms/step - loss: 0.1633 - val_loss: 0.1269\n",
      "Epoch 284/300\n",
      "592/592 [==============================] - 60s 102ms/step - loss: 0.1479 - val_loss: 0.1385\n",
      "Epoch 285/300\n",
      "592/592 [==============================] - 61s 103ms/step - loss: 0.1599 - val_loss: 0.1346\n",
      "Epoch 286/300\n",
      "592/592 [==============================] - 60s 102ms/step - loss: 0.1442 - val_loss: 0.1339\n",
      "Epoch 287/300\n",
      "592/592 [==============================] - 61s 102ms/step - loss: 0.1435 - val_loss: 0.1370\n",
      "Epoch 288/300\n",
      "592/592 [==============================] - 60s 102ms/step - loss: 0.1475 - val_loss: 0.1742\n",
      "Epoch 289/300\n",
      "592/592 [==============================] - 61s 103ms/step - loss: 0.1465 - val_loss: 0.1441\n",
      "Epoch 290/300\n",
      "592/592 [==============================] - 61s 103ms/step - loss: 0.1470 - val_loss: 0.1469\n",
      "Epoch 291/300\n",
      "592/592 [==============================] - 61s 102ms/step - loss: 0.1456 - val_loss: 0.1320\n",
      "Epoch 292/300\n",
      "592/592 [==============================] - 61s 102ms/step - loss: 0.1466 - val_loss: 0.1346\n",
      "Epoch 293/300\n",
      "592/592 [==============================] - 60s 102ms/step - loss: 0.1434 - val_loss: 0.1121\n",
      "INFO:tensorflow:Assets written to: C:\\Users\\24306\\Desktop\\mobilenetv3\\4\\mobilenetv3.ckpt\\assets\n"
     ]
    },
    {
     "name": "stderr",
     "output_type": "stream",
     "text": [
      "C:\\Users\\24306\\.conda\\envs\\keras\\lib\\site-packages\\keras\\utils\\generic_utils.py:494: CustomMaskWarning: Custom mask layers require a config and must override get_config. When loading, the custom mask layer must be passed to the custom_objects argument.\n",
      "  warnings.warn('Custom mask layers require a config and must override '\n"
     ]
    },
    {
     "name": "stdout",
     "output_type": "stream",
     "text": [
      "Epoch 294/300\n",
      "592/592 [==============================] - 63s 106ms/step - loss: 0.1409 - val_loss: 0.1153\n",
      "Epoch 295/300\n",
      "592/592 [==============================] - 62s 105ms/step - loss: 0.1514 - val_loss: 0.1198\n",
      "Epoch 296/300\n",
      "592/592 [==============================] - 62s 105ms/step - loss: 0.1539 - val_loss: 0.1143\n",
      "Epoch 297/300\n",
      "592/592 [==============================] - 62s 104ms/step - loss: 0.1423 - val_loss: 0.1175\n",
      "Epoch 298/300\n",
      "592/592 [==============================] - 62s 105ms/step - loss: 0.1489 - val_loss: 0.1342\n",
      "Epoch 299/300\n",
      "592/592 [==============================] - 62s 105ms/step - loss: 0.1462 - val_loss: 0.1349\n",
      "Epoch 300/300\n",
      "592/592 [==============================] - 62s 104ms/step - loss: 0.1564 - val_loss: 0.1387\n",
      "end time: Sun Apr  2 21:26:46 2023\n"
     ]
    }
   ],
   "source": [
    "print ('start time:',time.asctime( time.localtime(time.time()) ))\n",
    "model.compile(optimizer=keras.optimizers.Adam(learning_rate=0.001, beta_1=0.9, beta_2=0.999, epsilon=1e-07, decay=0.01),loss='mse')\n",
    "\n",
    "cp_callback = tf.keras.callbacks.ModelCheckpoint(checkpoint_path,save_best_only=True,monitor='val_loss')\n",
    "history = model.fit(train_data,\n",
    "                    steps_per_epoch=train_count//BATCH_SIZE,\n",
    "                    epochs=300,\n",
    "                    validation_data=test_data,\n",
    "                    validation_steps=test_count//BATCH_SIZE,\n",
    "                   callbacks=[cp_callback])\n",
    "np.savetxt('mobilenetv3_loss4.txt',history.history['loss'])\n",
    "#np.savetxt('DenseNet201_acc.txt',history.history['acc'])\n",
    "np.savetxt('mobilenetv3_val_loss4.txt',history.history['val_loss'])\n",
    "#np.savetxt('DenseNet201_val_acc.txt',history.history['val_acc'])\n",
    "print ('end time:',time.asctime( time.localtime(time.time()) ))"
   ]
  },
  {
   "cell_type": "code",
   "execution_count": null,
   "metadata": {},
   "outputs": [],
   "source": []
  },
  {
   "cell_type": "code",
   "execution_count": null,
   "metadata": {},
   "outputs": [],
   "source": []
  }
 ],
 "metadata": {
  "kernelspec": {
   "display_name": "Python 3",
   "language": "python",
   "name": "python3"
  },
  "language_info": {
   "codemirror_mode": {
    "name": "ipython",
    "version": 3
   },
   "file_extension": ".py",
   "mimetype": "text/x-python",
   "name": "python",
   "nbconvert_exporter": "python",
   "pygments_lexer": "ipython3",
   "version": "3.6.5"
  }
 },
 "nbformat": 4,
 "nbformat_minor": 2
}
