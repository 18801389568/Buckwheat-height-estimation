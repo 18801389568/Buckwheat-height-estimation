{
 "cells": [
  {
   "cell_type": "code",
   "execution_count": 1,
   "metadata": {},
   "outputs": [],
   "source": [
    "import tensorflow as tf\n",
    "from tensorflow import keras\n",
    "import matplotlib.pyplot as plt\n",
    "%matplotlib inline\n",
    "import numpy as np\n",
    "import pathlib\n",
    "import random\n",
    "import glob\n",
    "import os\n",
    "from tensorflow.compat.v1 import ConfigProto\n",
    "from tensorflow.compat.v1 import InteractiveSession\n",
    "from tensorflow.keras.applications import MobileNetV3Small\n",
    "import time\n",
    "keras = tf.keras\n",
    "layers = tf.keras.layers\n",
    "config = ConfigProto()\n",
    "config.gpu_options.allow_growth = True\n",
    "session = InteractiveSession(config=config)"
   ]
  },
  {
   "cell_type": "code",
   "execution_count": 2,
   "metadata": {},
   "outputs": [],
   "source": [
    "def load_and_preprocess_image(path):\n",
    "    image = tf.io.read_file(path)\n",
    "    image = tf.image.decode_jpeg(image, channels=3)\n",
    "    image = tf.image.resize(image, [224, 224])\n",
    "    image = tf.cast(image, tf.float32)\n",
    "    image = image/255.0  # normalize to [0,1] range\n",
    "    image = 2*image-1\n",
    "    return image"
   ]
  },
  {
   "cell_type": "code",
   "execution_count": 3,
   "metadata": {},
   "outputs": [],
   "source": [
    "train_dir = r'C:\\Users\\24306\\Desktop\\datasets\\kfold\\2\\train'\n",
    "test_dir  = r'C:\\Users\\24306\\Desktop\\datasets\\kfold\\2\\test'\n",
    "checkpoint_path = r'C:\\Users\\24306\\Desktop\\mobilenetv3\\2\\mobilenetv3.ckpt'"
   ]
  },
  {
   "cell_type": "markdown",
   "metadata": {},
   "source": [
    "# 处理训练数据"
   ]
  },
  {
   "cell_type": "code",
   "execution_count": 4,
   "metadata": {},
   "outputs": [
    {
     "name": "stdout",
     "output_type": "stream",
     "text": [
      "18931\n"
     ]
    }
   ],
   "source": [
    "#打乱顺序\n",
    "train_root = pathlib.Path(train_dir)\n",
    "train_image_paths = list(train_root.glob('*/*'))\n",
    "train_image_paths = [str(path) for path in train_image_paths]\n",
    "random.shuffle(train_image_paths)\n",
    "#处理训练标签\n",
    "train_image_labels = [pathlib.Path(path).parent.name for path in train_image_paths]\n",
    "train_labels = [[label.split('_')[0]] for label in train_image_labels]\n",
    "new_train_labels=[]\n",
    "for n in train_labels:\n",
    "    new_train_labels.append(float(n[0]));  \n",
    "train_labels=new_train_labels\n",
    "#print(train_labels)\n",
    "#处理训练图像\n",
    "train_path_ds = tf.data.Dataset.from_tensor_slices(train_image_paths)\n",
    "AUTOTUNE = tf.data.experimental.AUTOTUNE\n",
    "train_image_ds = train_path_ds.map(load_and_preprocess_image, num_parallel_calls=AUTOTUNE)\n",
    "train_label_ds = tf.data.Dataset.from_tensor_slices(train_labels)\n",
    "train_image_label_ds = tf.data.Dataset.zip((train_image_ds, train_label_ds))\n",
    "# image_count = len(all_image_paths)\n",
    "\n",
    "# test_count = int(image_count*0.2)\n",
    "train_count = len(train_image_paths)\n",
    "# train_data = image_label_ds.skip(test_count)\n",
    "# test_data = image_label_ds.take(test_count)\n",
    "\n",
    "BATCH_SIZE = 32\n",
    "train_data = train_image_label_ds.shuffle(buffer_size=train_count).repeat(-1)\n",
    "train_data = train_data.batch(BATCH_SIZE)\n",
    "train_data = train_data.prefetch(buffer_size=AUTOTUNE)\n",
    "\n",
    "#test_data = test_data.batch(BATCH_SIZE)\n",
    "print(len(train_image_label_ds))\n",
    "\n"
   ]
  },
  {
   "cell_type": "markdown",
   "metadata": {},
   "source": [
    "# 处理验证数据"
   ]
  },
  {
   "cell_type": "code",
   "execution_count": 5,
   "metadata": {},
   "outputs": [
    {
     "name": "stdout",
     "output_type": "stream",
     "text": [
      "4733\n"
     ]
    }
   ],
   "source": [
    "#打乱顺序\n",
    "test_root = pathlib.Path(test_dir)\n",
    "test_image_paths = list(test_root.glob('*/*'))\n",
    "test_image_paths = [str(path) for path in test_image_paths]\n",
    "#random.shuffle(train_image_paths)\n",
    "#处理训练标签\n",
    "test_image_labels = [pathlib.Path(path).parent.name for path in test_image_paths]\n",
    "test_labels = [[label.split('_')[0]] for label in test_image_labels]\n",
    "new_test_labels=[]\n",
    "for n in test_labels:\n",
    "    new_test_labels.append(float(n[0]));  \n",
    "test_labels=new_test_labels\n",
    "#print(test_labels)\n",
    "#处理训练图像\n",
    "test_path_ds = tf.data.Dataset.from_tensor_slices(test_image_paths)\n",
    "AUTOTUNE = tf.data.experimental.AUTOTUNE\n",
    "test_image_ds = test_path_ds.map(load_and_preprocess_image, num_parallel_calls=AUTOTUNE)\n",
    "test_label_ds = tf.data.Dataset.from_tensor_slices(test_labels)\n",
    "test_image_label_ds = tf.data.Dataset.zip((test_image_ds, test_label_ds))\n",
    "# image_count = len(all_image_paths)\n",
    "\n",
    "# test_count = int(image_count*0.2)\n",
    "test_count = len(test_image_paths)\n",
    "# train_data = image_label_ds.skip(test_count)\n",
    "# test_data = image_label_ds.take(test_count)\n",
    "\n",
    "BATCH_SIZE = 32\n",
    "test_data = test_image_label_ds.shuffle(buffer_size=test_count).repeat(-1)\n",
    "test_data = test_data.batch(BATCH_SIZE)\n",
    "test_data = test_data.prefetch(buffer_size=AUTOTUNE)\n",
    "\n",
    "#test_data = test_data.batch(BATCH_SIZE)\n",
    "print(len(test_image_label_ds))"
   ]
  },
  {
   "cell_type": "code",
   "execution_count": 6,
   "metadata": {},
   "outputs": [
    {
     "name": "stdout",
     "output_type": "stream",
     "text": [
      "Model: \"model\"\n",
      "_________________________________________________________________\n",
      "Layer (type)                 Output Shape              Param #   \n",
      "=================================================================\n",
      "input_2 (InputLayer)         [(None, 224, 224, 3)]     0         \n",
      "_________________________________________________________________\n",
      "MobilenetV3small (Functional (None, 1, 1, 1024)        1529968   \n",
      "_________________________________________________________________\n",
      "global_average_pooling2d_1 ( (None, 1024)              0         \n",
      "_________________________________________________________________\n",
      "out_weight (Dense)           (None, 1)                 1025      \n",
      "=================================================================\n",
      "Total params: 1,530,993\n",
      "Trainable params: 1,518,881\n",
      "Non-trainable params: 12,112\n",
      "_________________________________________________________________\n"
     ]
    }
   ],
   "source": [
    "MobileNetV3 = MobileNetV3Small(weights='imagenet',include_top=False,input_shape=(224, 224, 3))\n",
    "MobileNetV3.trainable = True\n",
    "inputs = tf.keras.Input(shape=(224, 224, 3))\n",
    "x = MobileNetV3(inputs)\n",
    "x = tf.keras.layers.GlobalAveragePooling2D()(x)\n",
    "out_weight = tf.keras.layers.Dense(1,name='out_weight')(x)\n",
    "\n",
    "model = tf.keras.Model(inputs=inputs,\n",
    "                       outputs=[out_weight])\n",
    "model.summary()"
   ]
  },
  {
   "cell_type": "code",
   "execution_count": 7,
   "metadata": {
    "scrolled": true
   },
   "outputs": [
    {
     "name": "stdout",
     "output_type": "stream",
     "text": [
      "start time: Sat Apr  1 19:19:17 2023\n",
      "Epoch 1/300\n",
      "591/591 [==============================] - 37s 46ms/step - loss: 43.7502 - val_loss: 2779.4626\n",
      "INFO:tensorflow:Assets written to: C:\\Users\\24306\\Desktop\\mobilenetv3\\2\\mobilenetv3.ckpt\\assets\n"
     ]
    },
    {
     "name": "stderr",
     "output_type": "stream",
     "text": [
      "C:\\Users\\24306\\.conda\\envs\\keras\\lib\\site-packages\\keras\\utils\\generic_utils.py:494: CustomMaskWarning: Custom mask layers require a config and must override get_config. When loading, the custom mask layer must be passed to the custom_objects argument.\n",
      "  warnings.warn('Custom mask layers require a config and must override '\n"
     ]
    },
    {
     "name": "stdout",
     "output_type": "stream",
     "text": [
      "Epoch 2/300\n",
      "591/591 [==============================] - 29s 48ms/step - loss: 3.2336 - val_loss: 2484.8708\n",
      "INFO:tensorflow:Assets written to: C:\\Users\\24306\\Desktop\\mobilenetv3\\2\\mobilenetv3.ckpt\\assets\n"
     ]
    },
    {
     "name": "stderr",
     "output_type": "stream",
     "text": [
      "C:\\Users\\24306\\.conda\\envs\\keras\\lib\\site-packages\\keras\\utils\\generic_utils.py:494: CustomMaskWarning: Custom mask layers require a config and must override get_config. When loading, the custom mask layer must be passed to the custom_objects argument.\n",
      "  warnings.warn('Custom mask layers require a config and must override '\n"
     ]
    },
    {
     "name": "stdout",
     "output_type": "stream",
     "text": [
      "Epoch 3/300\n",
      "591/591 [==============================] - 30s 50ms/step - loss: 1.8437 - val_loss: 2359.3972\n",
      "INFO:tensorflow:Assets written to: C:\\Users\\24306\\Desktop\\mobilenetv3\\2\\mobilenetv3.ckpt\\assets\n"
     ]
    },
    {
     "name": "stderr",
     "output_type": "stream",
     "text": [
      "C:\\Users\\24306\\.conda\\envs\\keras\\lib\\site-packages\\keras\\utils\\generic_utils.py:494: CustomMaskWarning: Custom mask layers require a config and must override get_config. When loading, the custom mask layer must be passed to the custom_objects argument.\n",
      "  warnings.warn('Custom mask layers require a config and must override '\n"
     ]
    },
    {
     "name": "stdout",
     "output_type": "stream",
     "text": [
      "Epoch 4/300\n",
      "591/591 [==============================] - 30s 51ms/step - loss: 1.3578 - val_loss: 2117.1040\n",
      "INFO:tensorflow:Assets written to: C:\\Users\\24306\\Desktop\\mobilenetv3\\2\\mobilenetv3.ckpt\\assets\n"
     ]
    },
    {
     "name": "stderr",
     "output_type": "stream",
     "text": [
      "C:\\Users\\24306\\.conda\\envs\\keras\\lib\\site-packages\\keras\\utils\\generic_utils.py:494: CustomMaskWarning: Custom mask layers require a config and must override get_config. When loading, the custom mask layer must be passed to the custom_objects argument.\n",
      "  warnings.warn('Custom mask layers require a config and must override '\n"
     ]
    },
    {
     "name": "stdout",
     "output_type": "stream",
     "text": [
      "Epoch 5/300\n",
      "591/591 [==============================] - 31s 52ms/step - loss: 1.0963 - val_loss: 1817.9979\n",
      "INFO:tensorflow:Assets written to: C:\\Users\\24306\\Desktop\\mobilenetv3\\2\\mobilenetv3.ckpt\\assets\n"
     ]
    },
    {
     "name": "stderr",
     "output_type": "stream",
     "text": [
      "C:\\Users\\24306\\.conda\\envs\\keras\\lib\\site-packages\\keras\\utils\\generic_utils.py:494: CustomMaskWarning: Custom mask layers require a config and must override get_config. When loading, the custom mask layer must be passed to the custom_objects argument.\n",
      "  warnings.warn('Custom mask layers require a config and must override '\n"
     ]
    },
    {
     "name": "stdout",
     "output_type": "stream",
     "text": [
      "Epoch 6/300\n",
      "591/591 [==============================] - 32s 53ms/step - loss: 0.8774 - val_loss: 1492.2405\n",
      "INFO:tensorflow:Assets written to: C:\\Users\\24306\\Desktop\\mobilenetv3\\2\\mobilenetv3.ckpt\\assets\n"
     ]
    },
    {
     "name": "stderr",
     "output_type": "stream",
     "text": [
      "C:\\Users\\24306\\.conda\\envs\\keras\\lib\\site-packages\\keras\\utils\\generic_utils.py:494: CustomMaskWarning: Custom mask layers require a config and must override get_config. When loading, the custom mask layer must be passed to the custom_objects argument.\n",
      "  warnings.warn('Custom mask layers require a config and must override '\n"
     ]
    },
    {
     "name": "stdout",
     "output_type": "stream",
     "text": [
      "Epoch 7/300\n",
      "591/591 [==============================] - 32s 53ms/step - loss: 0.8508 - val_loss: 921.6826\n",
      "INFO:tensorflow:Assets written to: C:\\Users\\24306\\Desktop\\mobilenetv3\\2\\mobilenetv3.ckpt\\assets\n"
     ]
    },
    {
     "name": "stderr",
     "output_type": "stream",
     "text": [
      "C:\\Users\\24306\\.conda\\envs\\keras\\lib\\site-packages\\keras\\utils\\generic_utils.py:494: CustomMaskWarning: Custom mask layers require a config and must override get_config. When loading, the custom mask layer must be passed to the custom_objects argument.\n",
      "  warnings.warn('Custom mask layers require a config and must override '\n"
     ]
    },
    {
     "name": "stdout",
     "output_type": "stream",
     "text": [
      "Epoch 8/300\n",
      "591/591 [==============================] - 31s 53ms/step - loss: 0.6974 - val_loss: 492.3847\n",
      "INFO:tensorflow:Assets written to: C:\\Users\\24306\\Desktop\\mobilenetv3\\2\\mobilenetv3.ckpt\\assets\n"
     ]
    },
    {
     "name": "stderr",
     "output_type": "stream",
     "text": [
      "C:\\Users\\24306\\.conda\\envs\\keras\\lib\\site-packages\\keras\\utils\\generic_utils.py:494: CustomMaskWarning: Custom mask layers require a config and must override get_config. When loading, the custom mask layer must be passed to the custom_objects argument.\n",
      "  warnings.warn('Custom mask layers require a config and must override '\n"
     ]
    },
    {
     "name": "stdout",
     "output_type": "stream",
     "text": [
      "Epoch 9/300\n",
      "591/591 [==============================] - 32s 55ms/step - loss: 0.6465 - val_loss: 248.3269\n",
      "INFO:tensorflow:Assets written to: C:\\Users\\24306\\Desktop\\mobilenetv3\\2\\mobilenetv3.ckpt\\assets\n"
     ]
    },
    {
     "name": "stderr",
     "output_type": "stream",
     "text": [
      "C:\\Users\\24306\\.conda\\envs\\keras\\lib\\site-packages\\keras\\utils\\generic_utils.py:494: CustomMaskWarning: Custom mask layers require a config and must override get_config. When loading, the custom mask layer must be passed to the custom_objects argument.\n",
      "  warnings.warn('Custom mask layers require a config and must override '\n"
     ]
    },
    {
     "name": "stdout",
     "output_type": "stream",
     "text": [
      "Epoch 10/300\n",
      "591/591 [==============================] - 33s 55ms/step - loss: 0.5936 - val_loss: 133.6507\n",
      "INFO:tensorflow:Assets written to: C:\\Users\\24306\\Desktop\\mobilenetv3\\2\\mobilenetv3.ckpt\\assets\n"
     ]
    },
    {
     "name": "stderr",
     "output_type": "stream",
     "text": [
      "C:\\Users\\24306\\.conda\\envs\\keras\\lib\\site-packages\\keras\\utils\\generic_utils.py:494: CustomMaskWarning: Custom mask layers require a config and must override get_config. When loading, the custom mask layer must be passed to the custom_objects argument.\n",
      "  warnings.warn('Custom mask layers require a config and must override '\n"
     ]
    },
    {
     "name": "stdout",
     "output_type": "stream",
     "text": [
      "Epoch 11/300\n",
      "591/591 [==============================] - 33s 56ms/step - loss: 0.5319 - val_loss: 109.1074\n",
      "INFO:tensorflow:Assets written to: C:\\Users\\24306\\Desktop\\mobilenetv3\\2\\mobilenetv3.ckpt\\assets\n"
     ]
    },
    {
     "name": "stderr",
     "output_type": "stream",
     "text": [
      "C:\\Users\\24306\\.conda\\envs\\keras\\lib\\site-packages\\keras\\utils\\generic_utils.py:494: CustomMaskWarning: Custom mask layers require a config and must override get_config. When loading, the custom mask layer must be passed to the custom_objects argument.\n",
      "  warnings.warn('Custom mask layers require a config and must override '\n"
     ]
    },
    {
     "name": "stdout",
     "output_type": "stream",
     "text": [
      "Epoch 12/300\n",
      "591/591 [==============================] - 33s 56ms/step - loss: 0.5053 - val_loss: 47.8953\n",
      "INFO:tensorflow:Assets written to: C:\\Users\\24306\\Desktop\\mobilenetv3\\2\\mobilenetv3.ckpt\\assets\n"
     ]
    },
    {
     "name": "stderr",
     "output_type": "stream",
     "text": [
      "C:\\Users\\24306\\.conda\\envs\\keras\\lib\\site-packages\\keras\\utils\\generic_utils.py:494: CustomMaskWarning: Custom mask layers require a config and must override get_config. When loading, the custom mask layer must be passed to the custom_objects argument.\n",
      "  warnings.warn('Custom mask layers require a config and must override '\n"
     ]
    },
    {
     "name": "stdout",
     "output_type": "stream",
     "text": [
      "Epoch 13/300\n",
      "591/591 [==============================] - 34s 57ms/step - loss: 0.5026 - val_loss: 30.3338\n",
      "INFO:tensorflow:Assets written to: C:\\Users\\24306\\Desktop\\mobilenetv3\\2\\mobilenetv3.ckpt\\assets\n"
     ]
    },
    {
     "name": "stderr",
     "output_type": "stream",
     "text": [
      "C:\\Users\\24306\\.conda\\envs\\keras\\lib\\site-packages\\keras\\utils\\generic_utils.py:494: CustomMaskWarning: Custom mask layers require a config and must override get_config. When loading, the custom mask layer must be passed to the custom_objects argument.\n",
      "  warnings.warn('Custom mask layers require a config and must override '\n"
     ]
    },
    {
     "name": "stdout",
     "output_type": "stream",
     "text": [
      "Epoch 14/300\n",
      "591/591 [==============================] - 34s 57ms/step - loss: 0.4828 - val_loss: 6.0010\n",
      "INFO:tensorflow:Assets written to: C:\\Users\\24306\\Desktop\\mobilenetv3\\2\\mobilenetv3.ckpt\\assets\n"
     ]
    },
    {
     "name": "stderr",
     "output_type": "stream",
     "text": [
      "C:\\Users\\24306\\.conda\\envs\\keras\\lib\\site-packages\\keras\\utils\\generic_utils.py:494: CustomMaskWarning: Custom mask layers require a config and must override get_config. When loading, the custom mask layer must be passed to the custom_objects argument.\n",
      "  warnings.warn('Custom mask layers require a config and must override '\n"
     ]
    },
    {
     "name": "stdout",
     "output_type": "stream",
     "text": [
      "Epoch 15/300\n",
      "591/591 [==============================] - 34s 58ms/step - loss: 0.4467 - val_loss: 3.0253\n",
      "INFO:tensorflow:Assets written to: C:\\Users\\24306\\Desktop\\mobilenetv3\\2\\mobilenetv3.ckpt\\assets\n"
     ]
    },
    {
     "name": "stderr",
     "output_type": "stream",
     "text": [
      "C:\\Users\\24306\\.conda\\envs\\keras\\lib\\site-packages\\keras\\utils\\generic_utils.py:494: CustomMaskWarning: Custom mask layers require a config and must override get_config. When loading, the custom mask layer must be passed to the custom_objects argument.\n",
      "  warnings.warn('Custom mask layers require a config and must override '\n"
     ]
    },
    {
     "name": "stdout",
     "output_type": "stream",
     "text": [
      "Epoch 16/300\n",
      "591/591 [==============================] - 35s 59ms/step - loss: 0.4340 - val_loss: 1.4914\n",
      "INFO:tensorflow:Assets written to: C:\\Users\\24306\\Desktop\\mobilenetv3\\2\\mobilenetv3.ckpt\\assets\n"
     ]
    },
    {
     "name": "stderr",
     "output_type": "stream",
     "text": [
      "C:\\Users\\24306\\.conda\\envs\\keras\\lib\\site-packages\\keras\\utils\\generic_utils.py:494: CustomMaskWarning: Custom mask layers require a config and must override get_config. When loading, the custom mask layer must be passed to the custom_objects argument.\n",
      "  warnings.warn('Custom mask layers require a config and must override '\n"
     ]
    },
    {
     "name": "stdout",
     "output_type": "stream",
     "text": [
      "Epoch 17/300\n",
      "591/591 [==============================] - 33s 56ms/step - loss: 0.4340 - val_loss: 1.4611\n",
      "INFO:tensorflow:Assets written to: C:\\Users\\24306\\Desktop\\mobilenetv3\\2\\mobilenetv3.ckpt\\assets\n"
     ]
    },
    {
     "name": "stderr",
     "output_type": "stream",
     "text": [
      "C:\\Users\\24306\\.conda\\envs\\keras\\lib\\site-packages\\keras\\utils\\generic_utils.py:494: CustomMaskWarning: Custom mask layers require a config and must override get_config. When loading, the custom mask layer must be passed to the custom_objects argument.\n",
      "  warnings.warn('Custom mask layers require a config and must override '\n"
     ]
    },
    {
     "name": "stdout",
     "output_type": "stream",
     "text": [
      "Epoch 18/300\n",
      "591/591 [==============================] - 35s 60ms/step - loss: 0.4105 - val_loss: 0.6616\n",
      "INFO:tensorflow:Assets written to: C:\\Users\\24306\\Desktop\\mobilenetv3\\2\\mobilenetv3.ckpt\\assets\n"
     ]
    },
    {
     "name": "stderr",
     "output_type": "stream",
     "text": [
      "C:\\Users\\24306\\.conda\\envs\\keras\\lib\\site-packages\\keras\\utils\\generic_utils.py:494: CustomMaskWarning: Custom mask layers require a config and must override get_config. When loading, the custom mask layer must be passed to the custom_objects argument.\n",
      "  warnings.warn('Custom mask layers require a config and must override '\n"
     ]
    },
    {
     "name": "stdout",
     "output_type": "stream",
     "text": [
      "Epoch 19/300\n",
      "591/591 [==============================] - 36s 60ms/step - loss: 0.4168 - val_loss: 0.6008\n",
      "INFO:tensorflow:Assets written to: C:\\Users\\24306\\Desktop\\mobilenetv3\\2\\mobilenetv3.ckpt\\assets\n"
     ]
    },
    {
     "name": "stderr",
     "output_type": "stream",
     "text": [
      "C:\\Users\\24306\\.conda\\envs\\keras\\lib\\site-packages\\keras\\utils\\generic_utils.py:494: CustomMaskWarning: Custom mask layers require a config and must override get_config. When loading, the custom mask layer must be passed to the custom_objects argument.\n",
      "  warnings.warn('Custom mask layers require a config and must override '\n"
     ]
    },
    {
     "name": "stdout",
     "output_type": "stream",
     "text": [
      "Epoch 20/300\n",
      "591/591 [==============================] - 36s 60ms/step - loss: 0.3772 - val_loss: 0.9074\n",
      "Epoch 21/300\n",
      "591/591 [==============================] - 35s 60ms/step - loss: 0.3788 - val_loss: 0.4671\n",
      "INFO:tensorflow:Assets written to: C:\\Users\\24306\\Desktop\\mobilenetv3\\2\\mobilenetv3.ckpt\\assets\n"
     ]
    },
    {
     "name": "stderr",
     "output_type": "stream",
     "text": [
      "C:\\Users\\24306\\.conda\\envs\\keras\\lib\\site-packages\\keras\\utils\\generic_utils.py:494: CustomMaskWarning: Custom mask layers require a config and must override get_config. When loading, the custom mask layer must be passed to the custom_objects argument.\n",
      "  warnings.warn('Custom mask layers require a config and must override '\n"
     ]
    },
    {
     "name": "stdout",
     "output_type": "stream",
     "text": [
      "Epoch 22/300\n",
      "591/591 [==============================] - 36s 61ms/step - loss: 0.3772 - val_loss: 0.4786\n",
      "Epoch 23/300\n",
      "591/591 [==============================] - 35s 60ms/step - loss: 0.3667 - val_loss: 5.2311\n",
      "Epoch 24/300\n",
      "591/591 [==============================] - 35s 60ms/step - loss: 0.3484 - val_loss: 0.4641\n",
      "INFO:tensorflow:Assets written to: C:\\Users\\24306\\Desktop\\mobilenetv3\\2\\mobilenetv3.ckpt\\assets\n"
     ]
    },
    {
     "name": "stderr",
     "output_type": "stream",
     "text": [
      "C:\\Users\\24306\\.conda\\envs\\keras\\lib\\site-packages\\keras\\utils\\generic_utils.py:494: CustomMaskWarning: Custom mask layers require a config and must override get_config. When loading, the custom mask layer must be passed to the custom_objects argument.\n",
      "  warnings.warn('Custom mask layers require a config and must override '\n"
     ]
    },
    {
     "name": "stdout",
     "output_type": "stream",
     "text": [
      "Epoch 25/300\n",
      "591/591 [==============================] - 37s 62ms/step - loss: 0.3404 - val_loss: 0.2133\n",
      "INFO:tensorflow:Assets written to: C:\\Users\\24306\\Desktop\\mobilenetv3\\2\\mobilenetv3.ckpt\\assets\n"
     ]
    },
    {
     "name": "stderr",
     "output_type": "stream",
     "text": [
      "C:\\Users\\24306\\.conda\\envs\\keras\\lib\\site-packages\\keras\\utils\\generic_utils.py:494: CustomMaskWarning: Custom mask layers require a config and must override get_config. When loading, the custom mask layer must be passed to the custom_objects argument.\n",
      "  warnings.warn('Custom mask layers require a config and must override '\n"
     ]
    },
    {
     "name": "stdout",
     "output_type": "stream",
     "text": [
      "Epoch 26/300\n",
      "591/591 [==============================] - 37s 63ms/step - loss: 0.3248 - val_loss: 0.2572\n",
      "Epoch 27/300\n",
      "591/591 [==============================] - 36s 61ms/step - loss: 0.3451 - val_loss: 0.3525\n",
      "Epoch 28/300\n",
      "591/591 [==============================] - 36s 61ms/step - loss: 0.3446 - val_loss: 0.2703\n",
      "Epoch 29/300\n",
      "591/591 [==============================] - 37s 62ms/step - loss: 0.3137 - val_loss: 0.4423\n",
      "Epoch 30/300\n",
      "591/591 [==============================] - 36s 62ms/step - loss: 0.3263 - val_loss: 0.3417\n",
      "Epoch 31/300\n",
      "591/591 [==============================] - 36s 61ms/step - loss: 0.3085 - val_loss: 0.3362\n",
      "Epoch 32/300\n",
      "591/591 [==============================] - 36s 62ms/step - loss: 0.3095 - val_loss: 0.3532\n",
      "Epoch 33/300\n",
      "591/591 [==============================] - 36s 61ms/step - loss: 0.2946 - val_loss: 0.5511\n",
      "Epoch 34/300\n",
      "591/591 [==============================] - 36s 61ms/step - loss: 0.3018 - val_loss: 0.4452\n",
      "Epoch 35/300\n",
      "591/591 [==============================] - 37s 62ms/step - loss: 0.3041 - val_loss: 0.2520\n",
      "Epoch 36/300\n",
      "591/591 [==============================] - 37s 62ms/step - loss: 0.2926 - val_loss: 0.1997\n",
      "INFO:tensorflow:Assets written to: C:\\Users\\24306\\Desktop\\mobilenetv3\\2\\mobilenetv3.ckpt\\assets\n"
     ]
    },
    {
     "name": "stderr",
     "output_type": "stream",
     "text": [
      "C:\\Users\\24306\\.conda\\envs\\keras\\lib\\site-packages\\keras\\utils\\generic_utils.py:494: CustomMaskWarning: Custom mask layers require a config and must override get_config. When loading, the custom mask layer must be passed to the custom_objects argument.\n",
      "  warnings.warn('Custom mask layers require a config and must override '\n"
     ]
    },
    {
     "name": "stdout",
     "output_type": "stream",
     "text": [
      "Epoch 37/300\n",
      "591/591 [==============================] - 39s 65ms/step - loss: 0.3025 - val_loss: 0.3068\n",
      "Epoch 38/300\n",
      "591/591 [==============================] - 38s 64ms/step - loss: 0.2922 - val_loss: 0.3343\n",
      "Epoch 39/300\n",
      "591/591 [==============================] - 37s 63ms/step - loss: 0.3277 - val_loss: 0.2842\n",
      "Epoch 40/300\n",
      "591/591 [==============================] - 38s 64ms/step - loss: 0.2891 - val_loss: 0.2316\n",
      "Epoch 41/300\n",
      "591/591 [==============================] - 39s 65ms/step - loss: 0.2729 - val_loss: 0.2434\n",
      "Epoch 42/300\n",
      "591/591 [==============================] - 37s 63ms/step - loss: 0.2757 - val_loss: 0.4246\n",
      "Epoch 43/300\n",
      "591/591 [==============================] - 38s 64ms/step - loss: 0.2657 - val_loss: 0.3669\n",
      "Epoch 44/300\n",
      "591/591 [==============================] - 38s 64ms/step - loss: 0.2705 - val_loss: 0.3413\n",
      "Epoch 45/300\n",
      "591/591 [==============================] - 39s 65ms/step - loss: 0.2507 - val_loss: 0.3912\n",
      "Epoch 46/300\n",
      "591/591 [==============================] - 38s 65ms/step - loss: 0.2993 - val_loss: 0.3534\n",
      "Epoch 47/300\n",
      "591/591 [==============================] - 39s 65ms/step - loss: 0.2530 - val_loss: 0.2871\n",
      "Epoch 48/300\n",
      "591/591 [==============================] - 38s 64ms/step - loss: 0.2492 - val_loss: 0.3219\n",
      "Epoch 49/300\n",
      "591/591 [==============================] - 38s 65ms/step - loss: 0.2594 - val_loss: 0.2939\n",
      "Epoch 50/300\n",
      "591/591 [==============================] - 39s 65ms/step - loss: 0.2564 - val_loss: 0.2899\n",
      "Epoch 51/300\n",
      "591/591 [==============================] - 39s 66ms/step - loss: 0.2526 - val_loss: 0.3511\n",
      "Epoch 52/300\n",
      "591/591 [==============================] - 38s 65ms/step - loss: 0.2641 - val_loss: 0.2475\n",
      "Epoch 53/300\n",
      "591/591 [==============================] - 38s 65ms/step - loss: 0.2474 - val_loss: 0.1917\n",
      "INFO:tensorflow:Assets written to: C:\\Users\\24306\\Desktop\\mobilenetv3\\2\\mobilenetv3.ckpt\\assets\n"
     ]
    },
    {
     "name": "stderr",
     "output_type": "stream",
     "text": [
      "C:\\Users\\24306\\.conda\\envs\\keras\\lib\\site-packages\\keras\\utils\\generic_utils.py:494: CustomMaskWarning: Custom mask layers require a config and must override get_config. When loading, the custom mask layer must be passed to the custom_objects argument.\n",
      "  warnings.warn('Custom mask layers require a config and must override '\n"
     ]
    },
    {
     "name": "stdout",
     "output_type": "stream",
     "text": [
      "Epoch 54/300\n",
      "591/591 [==============================] - 40s 68ms/step - loss: 0.2478 - val_loss: 0.1684\n",
      "INFO:tensorflow:Assets written to: C:\\Users\\24306\\Desktop\\mobilenetv3\\2\\mobilenetv3.ckpt\\assets\n"
     ]
    },
    {
     "name": "stderr",
     "output_type": "stream",
     "text": [
      "C:\\Users\\24306\\.conda\\envs\\keras\\lib\\site-packages\\keras\\utils\\generic_utils.py:494: CustomMaskWarning: Custom mask layers require a config and must override get_config. When loading, the custom mask layer must be passed to the custom_objects argument.\n",
      "  warnings.warn('Custom mask layers require a config and must override '\n"
     ]
    },
    {
     "name": "stdout",
     "output_type": "stream",
     "text": [
      "Epoch 55/300\n",
      "591/591 [==============================] - 41s 68ms/step - loss: 0.2330 - val_loss: 0.1950\n",
      "Epoch 56/300\n",
      "591/591 [==============================] - 40s 67ms/step - loss: 0.2457 - val_loss: 0.2083\n",
      "Epoch 57/300\n",
      "591/591 [==============================] - 40s 67ms/step - loss: 0.2499 - val_loss: 0.2930\n",
      "Epoch 58/300\n",
      "591/591 [==============================] - 39s 67ms/step - loss: 0.2542 - val_loss: 0.3818\n",
      "Epoch 59/300\n",
      "591/591 [==============================] - 40s 67ms/step - loss: 0.2400 - val_loss: 0.3474\n",
      "Epoch 60/300\n",
      "591/591 [==============================] - 41s 69ms/step - loss: 0.2422 - val_loss: 0.1978\n",
      "Epoch 61/300\n",
      "591/591 [==============================] - 40s 68ms/step - loss: 0.2380 - val_loss: 0.2677\n",
      "Epoch 62/300\n",
      "591/591 [==============================] - 39s 66ms/step - loss: 0.2259 - val_loss: 0.3832\n",
      "Epoch 63/300\n",
      "591/591 [==============================] - 39s 66ms/step - loss: 0.2300 - val_loss: 0.3344\n",
      "Epoch 64/300\n",
      "591/591 [==============================] - 39s 66ms/step - loss: 0.2264 - val_loss: 0.2115\n",
      "Epoch 65/300\n",
      "591/591 [==============================] - 39s 67ms/step - loss: 0.2177 - val_loss: 0.2450\n",
      "Epoch 66/300\n",
      "591/591 [==============================] - 39s 66ms/step - loss: 0.2313 - val_loss: 0.3461\n",
      "Epoch 67/300\n",
      "591/591 [==============================] - 39s 66ms/step - loss: 0.2393 - val_loss: 0.2935\n",
      "Epoch 68/300\n",
      "591/591 [==============================] - 40s 67ms/step - loss: 0.2290 - val_loss: 0.3161\n",
      "Epoch 69/300\n",
      "591/591 [==============================] - 40s 67ms/step - loss: 0.2193 - val_loss: 0.2879\n",
      "Epoch 70/300\n",
      "591/591 [==============================] - 40s 68ms/step - loss: 0.2297 - val_loss: 0.2438\n",
      "Epoch 71/300\n",
      "591/591 [==============================] - 40s 68ms/step - loss: 0.2254 - val_loss: 0.2127\n",
      "Epoch 72/300\n",
      "591/591 [==============================] - 40s 68ms/step - loss: 0.2165 - val_loss: 0.2162\n",
      "Epoch 73/300\n",
      "591/591 [==============================] - 40s 68ms/step - loss: 0.2303 - val_loss: 0.2121\n",
      "Epoch 74/300\n",
      "591/591 [==============================] - 41s 69ms/step - loss: 0.2579 - val_loss: 0.2148\n",
      "Epoch 75/300\n",
      "591/591 [==============================] - 41s 69ms/step - loss: 0.2243 - val_loss: 0.2747\n",
      "Epoch 76/300\n",
      "591/591 [==============================] - 41s 69ms/step - loss: 0.2372 - val_loss: 0.2016\n",
      "Epoch 77/300\n",
      "591/591 [==============================] - 41s 69ms/step - loss: 0.2418 - val_loss: 0.2377\n",
      "Epoch 78/300\n",
      "591/591 [==============================] - 41s 69ms/step - loss: 0.2127 - val_loss: 0.3044\n",
      "Epoch 79/300\n",
      "591/591 [==============================] - 41s 69ms/step - loss: 0.2057 - val_loss: 0.2288\n",
      "Epoch 80/300\n",
      "591/591 [==============================] - 41s 69ms/step - loss: 0.2198 - val_loss: 0.2519\n",
      "Epoch 81/300\n",
      "591/591 [==============================] - 41s 70ms/step - loss: 0.2163 - val_loss: 0.1816\n",
      "Epoch 82/300\n",
      "591/591 [==============================] - 42s 71ms/step - loss: 0.2314 - val_loss: 0.1585\n",
      "INFO:tensorflow:Assets written to: C:\\Users\\24306\\Desktop\\mobilenetv3\\2\\mobilenetv3.ckpt\\assets\n"
     ]
    },
    {
     "name": "stderr",
     "output_type": "stream",
     "text": [
      "C:\\Users\\24306\\.conda\\envs\\keras\\lib\\site-packages\\keras\\utils\\generic_utils.py:494: CustomMaskWarning: Custom mask layers require a config and must override get_config. When loading, the custom mask layer must be passed to the custom_objects argument.\n",
      "  warnings.warn('Custom mask layers require a config and must override '\n"
     ]
    },
    {
     "name": "stdout",
     "output_type": "stream",
     "text": [
      "Epoch 83/300\n",
      "591/591 [==============================] - 42s 71ms/step - loss: 0.2102 - val_loss: 0.1862\n",
      "Epoch 84/300\n",
      "591/591 [==============================] - 42s 71ms/step - loss: 0.2051 - val_loss: 0.2141\n",
      "Epoch 85/300\n",
      "591/591 [==============================] - 42s 72ms/step - loss: 0.2098 - val_loss: 0.2098\n",
      "Epoch 86/300\n",
      "591/591 [==============================] - 42s 71ms/step - loss: 0.2270 - val_loss: 0.1683\n",
      "Epoch 87/300\n",
      "591/591 [==============================] - 42s 71ms/step - loss: 0.2171 - val_loss: 0.2233\n",
      "Epoch 88/300\n",
      "591/591 [==============================] - 43s 72ms/step - loss: 0.2130 - val_loss: 0.2708\n",
      "Epoch 89/300\n",
      "591/591 [==============================] - 43s 73ms/step - loss: 0.2174 - val_loss: 0.2480\n",
      "Epoch 90/300\n",
      "591/591 [==============================] - 43s 72ms/step - loss: 0.3073 - val_loss: 0.2262\n",
      "Epoch 91/300\n",
      "591/591 [==============================] - 43s 72ms/step - loss: 0.1999 - val_loss: 0.1985\n",
      "Epoch 92/300\n",
      "591/591 [==============================] - 43s 72ms/step - loss: 0.2170 - val_loss: 0.2369\n",
      "Epoch 93/300\n",
      "591/591 [==============================] - 43s 72ms/step - loss: 0.2140 - val_loss: 0.2129\n",
      "Epoch 94/300\n",
      "591/591 [==============================] - 43s 72ms/step - loss: 0.2089 - val_loss: 0.2256\n",
      "Epoch 95/300\n",
      "591/591 [==============================] - 43s 74ms/step - loss: 0.2037 - val_loss: 0.2328\n",
      "Epoch 96/300\n",
      "591/591 [==============================] - 43s 73ms/step - loss: 0.2160 - val_loss: 0.2353\n",
      "Epoch 97/300\n",
      "591/591 [==============================] - 43s 73ms/step - loss: 0.2031 - val_loss: 0.2199\n",
      "Epoch 98/300\n",
      "591/591 [==============================] - 43s 73ms/step - loss: 0.2002 - val_loss: 0.2415\n",
      "Epoch 99/300\n",
      "591/591 [==============================] - 44s 74ms/step - loss: 0.2013 - val_loss: 0.1794\n",
      "Epoch 100/300\n",
      "591/591 [==============================] - 43s 73ms/step - loss: 0.2086 - val_loss: 0.2076\n",
      "Epoch 101/300\n",
      "591/591 [==============================] - 43s 73ms/step - loss: 0.1893 - val_loss: 0.2376\n",
      "Epoch 102/300\n",
      "591/591 [==============================] - 44s 74ms/step - loss: 0.1946 - val_loss: 0.2366\n",
      "Epoch 103/300\n",
      "591/591 [==============================] - 43s 74ms/step - loss: 0.1974 - val_loss: 0.1856\n",
      "Epoch 104/300\n",
      "591/591 [==============================] - 43s 73ms/step - loss: 0.1936 - val_loss: 0.2401\n",
      "Epoch 105/300\n",
      "591/591 [==============================] - 44s 74ms/step - loss: 0.2435 - val_loss: 0.2221\n",
      "Epoch 106/300\n",
      "591/591 [==============================] - 44s 74ms/step - loss: 0.2038 - val_loss: 0.2057\n",
      "Epoch 107/300\n",
      "591/591 [==============================] - 44s 74ms/step - loss: 0.2189 - val_loss: 0.1967\n",
      "Epoch 108/300\n",
      "591/591 [==============================] - 44s 74ms/step - loss: 0.1990 - val_loss: 0.1736\n",
      "Epoch 109/300\n",
      "591/591 [==============================] - 44s 74ms/step - loss: 0.1937 - val_loss: 0.1836\n",
      "Epoch 110/300\n",
      "591/591 [==============================] - 44s 74ms/step - loss: 0.1929 - val_loss: 0.2001\n",
      "Epoch 111/300\n",
      "591/591 [==============================] - 43s 73ms/step - loss: 0.1990 - val_loss: 0.1966\n",
      "Epoch 112/300\n",
      "591/591 [==============================] - 44s 74ms/step - loss: 0.1805 - val_loss: 0.1793\n",
      "Epoch 113/300\n",
      "591/591 [==============================] - 44s 74ms/step - loss: 0.2071 - val_loss: 0.2048\n",
      "Epoch 114/300\n",
      "591/591 [==============================] - 43s 73ms/step - loss: 0.2073 - val_loss: 0.2363\n",
      "Epoch 115/300\n",
      "591/591 [==============================] - 45s 76ms/step - loss: 0.2013 - val_loss: 0.1988\n",
      "Epoch 116/300\n",
      "591/591 [==============================] - 44s 74ms/step - loss: 0.1923 - val_loss: 0.1722\n",
      "Epoch 117/300\n",
      "591/591 [==============================] - 44s 74ms/step - loss: 0.1842 - val_loss: 0.1970\n",
      "Epoch 118/300\n",
      "591/591 [==============================] - 43s 73ms/step - loss: 0.2043 - val_loss: 0.1981\n",
      "Epoch 119/300\n",
      "591/591 [==============================] - 43s 73ms/step - loss: 0.1954 - val_loss: 0.2309\n",
      "Epoch 120/300\n",
      "591/591 [==============================] - 43s 73ms/step - loss: 0.1885 - val_loss: 0.2008\n",
      "Epoch 121/300\n",
      "591/591 [==============================] - 44s 74ms/step - loss: 0.2014 - val_loss: 0.1522\n",
      "INFO:tensorflow:Assets written to: C:\\Users\\24306\\Desktop\\mobilenetv3\\2\\mobilenetv3.ckpt\\assets\n"
     ]
    },
    {
     "name": "stderr",
     "output_type": "stream",
     "text": [
      "C:\\Users\\24306\\.conda\\envs\\keras\\lib\\site-packages\\keras\\utils\\generic_utils.py:494: CustomMaskWarning: Custom mask layers require a config and must override get_config. When loading, the custom mask layer must be passed to the custom_objects argument.\n",
      "  warnings.warn('Custom mask layers require a config and must override '\n"
     ]
    },
    {
     "name": "stdout",
     "output_type": "stream",
     "text": [
      "Epoch 122/300\n",
      "591/591 [==============================] - 46s 77ms/step - loss: 0.1980 - val_loss: 0.1797\n",
      "Epoch 123/300\n",
      "591/591 [==============================] - 47s 80ms/step - loss: 0.1936 - val_loss: 0.1854\n",
      "Epoch 124/300\n",
      "591/591 [==============================] - 47s 79ms/step - loss: 0.1922 - val_loss: 0.1822\n",
      "Epoch 125/300\n",
      "591/591 [==============================] - 47s 79ms/step - loss: 0.1903 - val_loss: 0.2030\n",
      "Epoch 126/300\n",
      "591/591 [==============================] - 46s 79ms/step - loss: 0.1880 - val_loss: 0.2117\n",
      "Epoch 127/300\n",
      "591/591 [==============================] - 46s 77ms/step - loss: 0.1867 - val_loss: 0.1912\n",
      "Epoch 128/300\n",
      "591/591 [==============================] - 47s 79ms/step - loss: 0.1824 - val_loss: 0.2018\n",
      "Epoch 129/300\n",
      "591/591 [==============================] - 46s 78ms/step - loss: 0.1858 - val_loss: 0.1953\n",
      "Epoch 130/300\n",
      "591/591 [==============================] - 47s 79ms/step - loss: 0.1780 - val_loss: 0.1782\n",
      "Epoch 131/300\n",
      "591/591 [==============================] - 47s 80ms/step - loss: 0.1855 - val_loss: 0.1939\n",
      "Epoch 132/300\n",
      "591/591 [==============================] - 48s 81ms/step - loss: 0.1804 - val_loss: 0.1679\n",
      "Epoch 133/300\n",
      "591/591 [==============================] - 47s 80ms/step - loss: 0.1817 - val_loss: 0.1714\n",
      "Epoch 134/300\n",
      "591/591 [==============================] - 48s 81ms/step - loss: 0.1844 - val_loss: 0.1684\n",
      "Epoch 135/300\n",
      "591/591 [==============================] - 50s 84ms/step - loss: 0.1729 - val_loss: 0.1825\n",
      "Epoch 136/300\n",
      "591/591 [==============================] - 49s 84ms/step - loss: 0.2030 - val_loss: 0.2253\n",
      "Epoch 137/300\n",
      "591/591 [==============================] - 50s 84ms/step - loss: 0.1794 - val_loss: 0.2095\n",
      "Epoch 138/300\n",
      "591/591 [==============================] - 50s 85ms/step - loss: 0.1909 - val_loss: 0.2350\n",
      "Epoch 139/300\n",
      "591/591 [==============================] - 48s 81ms/step - loss: 0.1832 - val_loss: 0.1892\n",
      "Epoch 140/300\n",
      "591/591 [==============================] - 47s 79ms/step - loss: 0.1771 - val_loss: 0.1751\n",
      "Epoch 141/300\n",
      "591/591 [==============================] - 47s 79ms/step - loss: 0.1778 - val_loss: 0.2038\n",
      "Epoch 142/300\n",
      "591/591 [==============================] - 47s 79ms/step - loss: 0.1809 - val_loss: 0.1810\n",
      "Epoch 143/300\n",
      "591/591 [==============================] - 47s 80ms/step - loss: 0.1741 - val_loss: 0.1464\n",
      "INFO:tensorflow:Assets written to: C:\\Users\\24306\\Desktop\\mobilenetv3\\2\\mobilenetv3.ckpt\\assets\n"
     ]
    },
    {
     "name": "stderr",
     "output_type": "stream",
     "text": [
      "C:\\Users\\24306\\.conda\\envs\\keras\\lib\\site-packages\\keras\\utils\\generic_utils.py:494: CustomMaskWarning: Custom mask layers require a config and must override get_config. When loading, the custom mask layer must be passed to the custom_objects argument.\n",
      "  warnings.warn('Custom mask layers require a config and must override '\n"
     ]
    },
    {
     "name": "stdout",
     "output_type": "stream",
     "text": [
      "Epoch 144/300\n",
      "591/591 [==============================] - 49s 82ms/step - loss: 0.1812 - val_loss: 0.1852\n",
      "Epoch 145/300\n",
      "591/591 [==============================] - 49s 83ms/step - loss: 0.1725 - val_loss: 0.1833\n",
      "Epoch 146/300\n",
      "591/591 [==============================] - 48s 81ms/step - loss: 0.1752 - val_loss: 0.1924\n",
      "Epoch 147/300\n",
      "591/591 [==============================] - 48s 82ms/step - loss: 0.1872 - val_loss: 0.2014\n",
      "Epoch 148/300\n",
      "591/591 [==============================] - 48s 81ms/step - loss: 0.1733 - val_loss: 0.1914\n",
      "Epoch 149/300\n",
      "591/591 [==============================] - 48s 82ms/step - loss: 0.1852 - val_loss: 0.1763\n",
      "Epoch 150/300\n",
      "591/591 [==============================] - 48s 81ms/step - loss: 0.1730 - val_loss: 0.1817\n",
      "Epoch 151/300\n",
      "591/591 [==============================] - 48s 82ms/step - loss: 0.1681 - val_loss: 0.1980\n",
      "Epoch 152/300\n",
      "591/591 [==============================] - 48s 81ms/step - loss: 0.1751 - val_loss: 0.1923\n",
      "Epoch 153/300\n",
      "591/591 [==============================] - 48s 82ms/step - loss: 0.1785 - val_loss: 0.1824\n",
      "Epoch 154/300\n",
      "591/591 [==============================] - 48s 82ms/step - loss: 0.1816 - val_loss: 0.1989\n",
      "Epoch 155/300\n",
      "591/591 [==============================] - 48s 81ms/step - loss: 0.1831 - val_loss: 0.1617\n",
      "Epoch 156/300\n",
      "591/591 [==============================] - 49s 83ms/step - loss: 0.1790 - val_loss: 0.1589\n",
      "Epoch 157/300\n",
      "591/591 [==============================] - 50s 85ms/step - loss: 0.1647 - val_loss: 0.1789\n",
      "Epoch 158/300\n",
      "591/591 [==============================] - 48s 82ms/step - loss: 0.1795 - val_loss: 0.1747\n",
      "Epoch 159/300\n",
      "591/591 [==============================] - 49s 83ms/step - loss: 0.1776 - val_loss: 0.1737\n",
      "Epoch 160/300\n",
      "591/591 [==============================] - 49s 82ms/step - loss: 0.1749 - val_loss: 0.1603\n",
      "Epoch 161/300\n",
      "591/591 [==============================] - 49s 83ms/step - loss: 0.1802 - val_loss: 0.1687\n",
      "Epoch 162/300\n",
      "591/591 [==============================] - 48s 82ms/step - loss: 0.1674 - val_loss: 0.1983\n",
      "Epoch 163/300\n",
      "591/591 [==============================] - 49s 83ms/step - loss: 0.1691 - val_loss: 0.1723\n",
      "Epoch 164/300\n",
      "591/591 [==============================] - 49s 83ms/step - loss: 0.1867 - val_loss: 0.1605\n",
      "Epoch 165/300\n",
      "591/591 [==============================] - 49s 83ms/step - loss: 0.1733 - val_loss: 0.1550\n",
      "Epoch 166/300\n",
      "591/591 [==============================] - 49s 83ms/step - loss: 0.1925 - val_loss: 0.1784\n",
      "Epoch 167/300\n",
      "591/591 [==============================] - 48s 82ms/step - loss: 0.1888 - val_loss: 0.1819\n",
      "Epoch 168/300\n",
      "591/591 [==============================] - 49s 83ms/step - loss: 0.1717 - val_loss: 0.1779\n",
      "Epoch 169/300\n",
      "591/591 [==============================] - 50s 84ms/step - loss: 0.1669 - val_loss: 0.1749\n",
      "Epoch 170/300\n",
      "591/591 [==============================] - 50s 85ms/step - loss: 0.1671 - val_loss: 0.1694\n",
      "Epoch 171/300\n",
      "591/591 [==============================] - 51s 86ms/step - loss: 0.1751 - val_loss: 0.1734\n",
      "Epoch 172/300\n",
      "591/591 [==============================] - 51s 87ms/step - loss: 0.1661 - val_loss: 0.1733\n",
      "Epoch 173/300\n",
      "591/591 [==============================] - 51s 87ms/step - loss: 0.1628 - val_loss: 0.1739\n",
      "Epoch 174/300\n",
      "591/591 [==============================] - 52s 88ms/step - loss: 0.1806 - val_loss: 0.1517\n",
      "Epoch 175/300\n",
      "591/591 [==============================] - 51s 86ms/step - loss: 0.1856 - val_loss: 0.1602\n",
      "Epoch 176/300\n",
      "591/591 [==============================] - 49s 84ms/step - loss: 0.1679 - val_loss: 0.1815\n",
      "Epoch 177/300\n",
      "591/591 [==============================] - 49s 83ms/step - loss: 0.1733 - val_loss: 0.1889\n",
      "Epoch 178/300\n",
      "591/591 [==============================] - 50s 84ms/step - loss: 0.1649 - val_loss: 0.1546\n",
      "Epoch 179/300\n",
      "591/591 [==============================] - 50s 84ms/step - loss: 0.1713 - val_loss: 0.1435\n",
      "INFO:tensorflow:Assets written to: C:\\Users\\24306\\Desktop\\mobilenetv3\\2\\mobilenetv3.ckpt\\assets\n"
     ]
    },
    {
     "name": "stderr",
     "output_type": "stream",
     "text": [
      "C:\\Users\\24306\\.conda\\envs\\keras\\lib\\site-packages\\keras\\utils\\generic_utils.py:494: CustomMaskWarning: Custom mask layers require a config and must override get_config. When loading, the custom mask layer must be passed to the custom_objects argument.\n",
      "  warnings.warn('Custom mask layers require a config and must override '\n"
     ]
    },
    {
     "name": "stdout",
     "output_type": "stream",
     "text": [
      "Epoch 180/300\n",
      "591/591 [==============================] - 51s 86ms/step - loss: 0.1744 - val_loss: 0.1951\n",
      "Epoch 181/300\n",
      "591/591 [==============================] - 51s 86ms/step - loss: 0.1695 - val_loss: 0.1664\n",
      "Epoch 182/300\n",
      "591/591 [==============================] - 51s 86ms/step - loss: 0.1726 - val_loss: 0.1540\n",
      "Epoch 183/300\n",
      "591/591 [==============================] - 50s 85ms/step - loss: 0.1668 - val_loss: 0.1730\n",
      "Epoch 184/300\n",
      "591/591 [==============================] - 51s 86ms/step - loss: 0.1697 - val_loss: 0.1709\n",
      "Epoch 185/300\n",
      "591/591 [==============================] - 51s 86ms/step - loss: 0.1670 - val_loss: 0.1563\n",
      "Epoch 186/300\n",
      "591/591 [==============================] - 51s 87ms/step - loss: 0.1588 - val_loss: 0.1515\n",
      "Epoch 187/300\n",
      "591/591 [==============================] - 52s 87ms/step - loss: 0.1611 - val_loss: 0.1730\n",
      "Epoch 188/300\n",
      "591/591 [==============================] - 51s 85ms/step - loss: 0.1651 - val_loss: 0.1735\n",
      "Epoch 189/300\n",
      "591/591 [==============================] - 51s 85ms/step - loss: 0.1585 - val_loss: 0.1701\n",
      "Epoch 190/300\n",
      "591/591 [==============================] - 51s 87ms/step - loss: 0.1619 - val_loss: 0.1891\n",
      "Epoch 191/300\n",
      "591/591 [==============================] - 51s 87ms/step - loss: 0.1641 - val_loss: 0.1635\n",
      "Epoch 192/300\n",
      "591/591 [==============================] - 52s 87ms/step - loss: 0.1667 - val_loss: 0.1703\n",
      "Epoch 193/300\n",
      "591/591 [==============================] - 51s 87ms/step - loss: 0.1743 - val_loss: 0.2024\n",
      "Epoch 194/300\n",
      "591/591 [==============================] - 51s 86ms/step - loss: 0.1653 - val_loss: 0.1742\n",
      "Epoch 195/300\n",
      "591/591 [==============================] - 51s 87ms/step - loss: 0.1573 - val_loss: 0.1680\n",
      "Epoch 196/300\n",
      "591/591 [==============================] - 51s 86ms/step - loss: 0.1669 - val_loss: 0.1565\n",
      "Epoch 197/300\n",
      "591/591 [==============================] - 51s 85ms/step - loss: 0.1785 - val_loss: 0.1642\n",
      "Epoch 198/300\n",
      "591/591 [==============================] - 51s 86ms/step - loss: 0.1622 - val_loss: 0.1627\n",
      "Epoch 199/300\n",
      "591/591 [==============================] - 51s 87ms/step - loss: 0.1627 - val_loss: 0.1600\n",
      "Epoch 200/300\n",
      "591/591 [==============================] - 51s 86ms/step - loss: 0.1706 - val_loss: 0.1628\n",
      "Epoch 201/300\n",
      "591/591 [==============================] - 52s 88ms/step - loss: 0.1767 - val_loss: 0.1480\n",
      "Epoch 202/300\n",
      "591/591 [==============================] - 52s 87ms/step - loss: 0.1624 - val_loss: 0.1410\n",
      "INFO:tensorflow:Assets written to: C:\\Users\\24306\\Desktop\\mobilenetv3\\2\\mobilenetv3.ckpt\\assets\n"
     ]
    },
    {
     "name": "stderr",
     "output_type": "stream",
     "text": [
      "C:\\Users\\24306\\.conda\\envs\\keras\\lib\\site-packages\\keras\\utils\\generic_utils.py:494: CustomMaskWarning: Custom mask layers require a config and must override get_config. When loading, the custom mask layer must be passed to the custom_objects argument.\n",
      "  warnings.warn('Custom mask layers require a config and must override '\n"
     ]
    },
    {
     "name": "stdout",
     "output_type": "stream",
     "text": [
      "Epoch 203/300\n",
      "591/591 [==============================] - 54s 91ms/step - loss: 0.1611 - val_loss: 0.1571\n",
      "Epoch 204/300\n",
      "591/591 [==============================] - 52s 88ms/step - loss: 0.1662 - val_loss: 0.1562\n",
      "Epoch 205/300\n",
      "591/591 [==============================] - 53s 89ms/step - loss: 0.1587 - val_loss: 0.1755\n",
      "Epoch 206/300\n",
      "591/591 [==============================] - 53s 89ms/step - loss: 0.1579 - val_loss: 0.1702\n",
      "Epoch 207/300\n",
      "591/591 [==============================] - 53s 90ms/step - loss: 0.1648 - val_loss: 0.1711\n",
      "Epoch 208/300\n",
      "591/591 [==============================] - 53s 89ms/step - loss: 0.1682 - val_loss: 0.1579\n",
      "Epoch 209/300\n",
      "591/591 [==============================] - 53s 90ms/step - loss: 0.1549 - val_loss: 0.1727\n",
      "Epoch 210/300\n",
      "591/591 [==============================] - 53s 89ms/step - loss: 0.1564 - val_loss: 0.1758\n",
      "Epoch 211/300\n",
      "591/591 [==============================] - 53s 90ms/step - loss: 0.1705 - val_loss: 0.1821\n",
      "Epoch 212/300\n",
      "591/591 [==============================] - 53s 89ms/step - loss: 0.1560 - val_loss: 0.1702\n",
      "Epoch 213/300\n",
      "591/591 [==============================] - 53s 90ms/step - loss: 0.1543 - val_loss: 0.1610\n",
      "Epoch 214/300\n",
      "591/591 [==============================] - 54s 92ms/step - loss: 0.1569 - val_loss: 0.1875\n",
      "Epoch 215/300\n",
      "591/591 [==============================] - 54s 92ms/step - loss: 0.1649 - val_loss: 0.1788\n",
      "Epoch 216/300\n",
      "591/591 [==============================] - 55s 94ms/step - loss: 0.1607 - val_loss: 0.1761\n",
      "Epoch 217/300\n",
      "591/591 [==============================] - 54s 92ms/step - loss: 0.1574 - val_loss: 0.1588\n",
      "Epoch 218/300\n",
      "591/591 [==============================] - 57s 96ms/step - loss: 0.1569 - val_loss: 0.1635\n",
      "Epoch 219/300\n",
      "591/591 [==============================] - 56s 95ms/step - loss: 0.1588 - val_loss: 0.1424\n",
      "Epoch 220/300\n",
      "591/591 [==============================] - 57s 96ms/step - loss: 0.1482 - val_loss: 0.1497\n",
      "Epoch 221/300\n",
      "591/591 [==============================] - 57s 97ms/step - loss: 0.1654 - val_loss: 0.1523\n",
      "Epoch 222/300\n",
      "591/591 [==============================] - 56s 95ms/step - loss: 0.2104 - val_loss: 0.1510\n",
      "Epoch 223/300\n",
      "591/591 [==============================] - 56s 94ms/step - loss: 0.1512 - val_loss: 0.1690\n",
      "Epoch 224/300\n",
      "591/591 [==============================] - 57s 96ms/step - loss: 0.1560 - val_loss: 0.1515\n",
      "Epoch 225/300\n",
      "591/591 [==============================] - 56s 94ms/step - loss: 0.1565 - val_loss: 0.1576\n",
      "Epoch 226/300\n",
      "591/591 [==============================] - 55s 93ms/step - loss: 0.1602 - val_loss: 0.1623\n",
      "Epoch 227/300\n",
      "591/591 [==============================] - 53s 90ms/step - loss: 0.1643 - val_loss: 0.1534\n",
      "Epoch 228/300\n",
      "591/591 [==============================] - 54s 91ms/step - loss: 0.1551 - val_loss: 0.1652\n",
      "Epoch 229/300\n",
      "591/591 [==============================] - 54s 91ms/step - loss: 0.1589 - val_loss: 0.1682\n",
      "Epoch 230/300\n",
      "591/591 [==============================] - 54s 91ms/step - loss: 0.1567 - val_loss: 0.1740\n",
      "Epoch 231/300\n",
      "591/591 [==============================] - 53s 90ms/step - loss: 0.1635 - val_loss: 0.1729\n",
      "Epoch 232/300\n",
      "591/591 [==============================] - 54s 91ms/step - loss: 0.1556 - val_loss: 0.1695\n",
      "Epoch 233/300\n",
      "591/591 [==============================] - 54s 91ms/step - loss: 0.1639 - val_loss: 0.1670\n",
      "Epoch 234/300\n",
      "591/591 [==============================] - 54s 91ms/step - loss: 0.1615 - val_loss: 0.1805\n",
      "Epoch 235/300\n",
      "591/591 [==============================] - 54s 91ms/step - loss: 0.1615 - val_loss: 0.1748\n",
      "Epoch 236/300\n",
      "591/591 [==============================] - 53s 90ms/step - loss: 0.1483 - val_loss: 0.1513\n",
      "Epoch 237/300\n",
      "591/591 [==============================] - 54s 91ms/step - loss: 0.1638 - val_loss: 0.1426\n",
      "Epoch 238/300\n",
      "591/591 [==============================] - 53s 90ms/step - loss: 0.1591 - val_loss: 0.1695\n",
      "Epoch 239/300\n",
      "591/591 [==============================] - 55s 92ms/step - loss: 0.1488 - val_loss: 0.1616\n",
      "Epoch 240/300\n",
      "591/591 [==============================] - 55s 93ms/step - loss: 0.1546 - val_loss: 0.1690\n",
      "Epoch 241/300\n",
      "591/591 [==============================] - 55s 94ms/step - loss: 0.1591 - val_loss: 0.1653\n",
      "Epoch 242/300\n",
      "591/591 [==============================] - 55s 93ms/step - loss: 0.1520 - val_loss: 0.1639\n",
      "Epoch 243/300\n",
      "591/591 [==============================] - 55s 93ms/step - loss: 0.1631 - val_loss: 0.1590\n",
      "Epoch 244/300\n",
      "591/591 [==============================] - 55s 93ms/step - loss: 0.1531 - val_loss: 0.1625\n",
      "Epoch 245/300\n",
      "591/591 [==============================] - 55s 93ms/step - loss: 0.1537 - val_loss: 0.1803\n",
      "Epoch 246/300\n",
      "591/591 [==============================] - 55s 93ms/step - loss: 0.1689 - val_loss: 0.1696\n",
      "Epoch 247/300\n",
      "591/591 [==============================] - 55s 94ms/step - loss: 0.1523 - val_loss: 0.1479\n",
      "Epoch 248/300\n",
      "591/591 [==============================] - 56s 94ms/step - loss: 0.1547 - val_loss: 0.1582\n",
      "Epoch 249/300\n",
      "591/591 [==============================] - 55s 94ms/step - loss: 0.1526 - val_loss: 0.1600\n",
      "Epoch 250/300\n",
      "591/591 [==============================] - 55s 93ms/step - loss: 0.1552 - val_loss: 0.1533\n",
      "Epoch 251/300\n",
      "591/591 [==============================] - 56s 94ms/step - loss: 0.1487 - val_loss: 0.1735\n",
      "Epoch 252/300\n",
      "591/591 [==============================] - 56s 94ms/step - loss: 0.1572 - val_loss: 0.1758\n",
      "Epoch 253/300\n",
      "591/591 [==============================] - 54s 92ms/step - loss: 0.1485 - val_loss: 0.1558\n",
      "Epoch 254/300\n",
      "591/591 [==============================] - 55s 93ms/step - loss: 0.1506 - val_loss: 0.1564\n",
      "Epoch 255/300\n",
      "591/591 [==============================] - 54s 92ms/step - loss: 0.1646 - val_loss: 0.1831\n",
      "Epoch 256/300\n",
      "591/591 [==============================] - 54s 92ms/step - loss: 0.1863 - val_loss: 0.1780\n",
      "Epoch 257/300\n",
      "591/591 [==============================] - 55s 92ms/step - loss: 0.1488 - val_loss: 0.1699\n",
      "Epoch 258/300\n",
      "591/591 [==============================] - 55s 92ms/step - loss: 0.1706 - val_loss: 0.1820\n",
      "Epoch 259/300\n",
      "591/591 [==============================] - 55s 92ms/step - loss: 0.1424 - val_loss: 0.1467\n",
      "Epoch 260/300\n",
      "591/591 [==============================] - 55s 92ms/step - loss: 0.1527 - val_loss: 0.1669\n",
      "Epoch 261/300\n",
      "591/591 [==============================] - 55s 93ms/step - loss: 0.1555 - val_loss: 0.1545\n",
      "Epoch 262/300\n",
      "591/591 [==============================] - 55s 93ms/step - loss: 0.1468 - val_loss: 0.1480\n",
      "Epoch 263/300\n",
      "591/591 [==============================] - 56s 94ms/step - loss: 0.1687 - val_loss: 0.1508\n",
      "Epoch 264/300\n",
      "591/591 [==============================] - 56s 95ms/step - loss: 0.1688 - val_loss: 0.1509\n",
      "Epoch 265/300\n",
      "591/591 [==============================] - 56s 95ms/step - loss: 0.1489 - val_loss: 0.1422\n",
      "Epoch 266/300\n",
      "591/591 [==============================] - 56s 95ms/step - loss: 0.1647 - val_loss: 0.1540\n",
      "Epoch 267/300\n",
      "591/591 [==============================] - 56s 95ms/step - loss: 0.1551 - val_loss: 0.1438\n",
      "Epoch 268/300\n",
      "591/591 [==============================] - 56s 95ms/step - loss: 0.1785 - val_loss: 0.1401\n",
      "INFO:tensorflow:Assets written to: C:\\Users\\24306\\Desktop\\mobilenetv3\\2\\mobilenetv3.ckpt\\assets\n"
     ]
    },
    {
     "name": "stderr",
     "output_type": "stream",
     "text": [
      "C:\\Users\\24306\\.conda\\envs\\keras\\lib\\site-packages\\keras\\utils\\generic_utils.py:494: CustomMaskWarning: Custom mask layers require a config and must override get_config. When loading, the custom mask layer must be passed to the custom_objects argument.\n",
      "  warnings.warn('Custom mask layers require a config and must override '\n"
     ]
    },
    {
     "name": "stdout",
     "output_type": "stream",
     "text": [
      "Epoch 269/300\n",
      "591/591 [==============================] - 56s 95ms/step - loss: 0.1499 - val_loss: 0.1476\n",
      "Epoch 270/300\n",
      "591/591 [==============================] - 55s 93ms/step - loss: 0.1544 - val_loss: 0.1476\n",
      "Epoch 271/300\n",
      "591/591 [==============================] - 56s 94ms/step - loss: 0.1512 - val_loss: 0.1505\n",
      "Epoch 272/300\n",
      "591/591 [==============================] - 55s 94ms/step - loss: 0.1495 - val_loss: 0.1569\n",
      "Epoch 273/300\n",
      "591/591 [==============================] - 56s 95ms/step - loss: 0.1681 - val_loss: 0.1404\n",
      "Epoch 274/300\n",
      "591/591 [==============================] - 56s 94ms/step - loss: 0.1471 - val_loss: 0.1419\n",
      "Epoch 275/300\n",
      "591/591 [==============================] - 56s 94ms/step - loss: 0.1541 - val_loss: 0.1522\n",
      "Epoch 276/300\n",
      "591/591 [==============================] - 56s 94ms/step - loss: 0.1488 - val_loss: 0.1753\n",
      "Epoch 277/300\n",
      "591/591 [==============================] - 56s 94ms/step - loss: 0.1500 - val_loss: 0.1577\n",
      "Epoch 278/300\n",
      "591/591 [==============================] - 55s 94ms/step - loss: 0.1635 - val_loss: 0.1517\n",
      "Epoch 279/300\n",
      "591/591 [==============================] - 56s 94ms/step - loss: 0.1503 - val_loss: 0.1475\n",
      "Epoch 280/300\n",
      "591/591 [==============================] - 56s 95ms/step - loss: 0.1504 - val_loss: 0.1689\n",
      "Epoch 281/300\n",
      "591/591 [==============================] - 56s 95ms/step - loss: 0.1564 - val_loss: 0.1405\n",
      "Epoch 282/300\n",
      "591/591 [==============================] - 56s 95ms/step - loss: 0.1434 - val_loss: 0.1491\n",
      "Epoch 283/300\n",
      "591/591 [==============================] - 56s 95ms/step - loss: 0.1501 - val_loss: 0.1459\n",
      "Epoch 284/300\n",
      "591/591 [==============================] - 56s 95ms/step - loss: 0.1549 - val_loss: 0.1492\n",
      "Epoch 285/300\n",
      "591/591 [==============================] - 56s 95ms/step - loss: 0.1398 - val_loss: 0.1501\n",
      "Epoch 286/300\n",
      "591/591 [==============================] - 56s 95ms/step - loss: 0.1667 - val_loss: 0.1530\n",
      "Epoch 287/300\n",
      "591/591 [==============================] - 56s 95ms/step - loss: 0.1531 - val_loss: 0.1580\n",
      "Epoch 288/300\n",
      "591/591 [==============================] - 56s 95ms/step - loss: 0.1504 - val_loss: 0.1472\n",
      "Epoch 289/300\n",
      "591/591 [==============================] - 56s 95ms/step - loss: 0.1411 - val_loss: 0.1605\n",
      "Epoch 290/300\n",
      "591/591 [==============================] - 56s 95ms/step - loss: 0.1593 - val_loss: 0.1525\n",
      "Epoch 291/300\n",
      "591/591 [==============================] - 56s 95ms/step - loss: 0.1435 - val_loss: 0.1505\n",
      "Epoch 292/300\n",
      "591/591 [==============================] - 57s 96ms/step - loss: 0.1434 - val_loss: 0.1613\n",
      "Epoch 293/300\n",
      "591/591 [==============================] - 56s 95ms/step - loss: 0.1567 - val_loss: 0.1600\n",
      "Epoch 294/300\n",
      "591/591 [==============================] - 56s 95ms/step - loss: 0.1442 - val_loss: 0.1596\n",
      "Epoch 295/300\n",
      "591/591 [==============================] - 56s 95ms/step - loss: 0.1439 - val_loss: 0.1431\n",
      "Epoch 296/300\n",
      "591/591 [==============================] - 56s 95ms/step - loss: 0.1484 - val_loss: 0.1472\n",
      "Epoch 297/300\n",
      "591/591 [==============================] - 56s 95ms/step - loss: 0.1462 - val_loss: 0.1446\n",
      "Epoch 298/300\n",
      "591/591 [==============================] - 56s 95ms/step - loss: 0.1485 - val_loss: 0.1427\n",
      "Epoch 299/300\n",
      "591/591 [==============================] - 56s 95ms/step - loss: 0.1406 - val_loss: 0.1472\n",
      "Epoch 300/300\n",
      "591/591 [==============================] - 56s 95ms/step - loss: 0.1430 - val_loss: 0.1563\n",
      "end time: Sat Apr  1 23:24:11 2023\n"
     ]
    }
   ],
   "source": [
    "print ('start time:',time.asctime( time.localtime(time.time()) ))\n",
    "model.compile(optimizer=keras.optimizers.Adam(learning_rate=0.001, beta_1=0.9, beta_2=0.999, epsilon=1e-07, decay=0.01),loss='mse')\n",
    "\n",
    "cp_callback = tf.keras.callbacks.ModelCheckpoint(checkpoint_path,save_best_only=True,monitor='val_loss')\n",
    "history = model.fit(train_data,\n",
    "                    steps_per_epoch=train_count//BATCH_SIZE,\n",
    "                    epochs=300,\n",
    "                    validation_data=test_data,\n",
    "                    validation_steps=test_count//BATCH_SIZE,\n",
    "                   callbacks=[cp_callback])\n",
    "np.savetxt('mobilenetv3_loss2.txt',history.history['loss'])\n",
    "#np.savetxt('DenseNet201_acc.txt',history.history['acc'])\n",
    "np.savetxt('mobilenetv3_val_loss2.txt',history.history['val_loss'])\n",
    "#np.savetxt('DenseNet201_val_acc.txt',history.history['val_acc'])\n",
    "print ('end time:',time.asctime( time.localtime(time.time()) ))"
   ]
  },
  {
   "cell_type": "code",
   "execution_count": null,
   "metadata": {},
   "outputs": [],
   "source": []
  },
  {
   "cell_type": "code",
   "execution_count": null,
   "metadata": {},
   "outputs": [],
   "source": []
  }
 ],
 "metadata": {
  "kernelspec": {
   "display_name": "Python 3",
   "language": "python",
   "name": "python3"
  },
  "language_info": {
   "codemirror_mode": {
    "name": "ipython",
    "version": 3
   },
   "file_extension": ".py",
   "mimetype": "text/x-python",
   "name": "python",
   "nbconvert_exporter": "python",
   "pygments_lexer": "ipython3",
   "version": "3.6.5"
  }
 },
 "nbformat": 4,
 "nbformat_minor": 2
}
